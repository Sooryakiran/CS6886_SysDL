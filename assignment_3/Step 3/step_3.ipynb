{
  "nbformat": 4,
  "nbformat_minor": 0,
  "metadata": {
    "colab": {
      "name": "step_3.ipynb",
      "provenance": [],
      "collapsed_sections": [],
      "mount_file_id": "1CVz2tYjPs_ZnjYloO3oSmuheRVZK6z_U",
      "authorship_tag": "ABX9TyONa7KDRxiXPPRyK1VmAxRX",
      "include_colab_link": true
    },
    "kernelspec": {
      "name": "python3",
      "display_name": "Python 3"
    },
    "widgets": {
      "application/vnd.jupyter.widget-state+json": {
        "c2c61a3b8c70424c84cb63d8c91a3f2f": {
          "model_module": "@jupyter-widgets/controls",
          "model_name": "HBoxModel",
          "state": {
            "_view_name": "HBoxView",
            "_dom_classes": [],
            "_model_name": "HBoxModel",
            "_view_module": "@jupyter-widgets/controls",
            "_model_module_version": "1.5.0",
            "_view_count": null,
            "_view_module_version": "1.5.0",
            "box_style": "",
            "layout": "IPY_MODEL_493e38a33d2344529f227601d4d86fe0",
            "_model_module": "@jupyter-widgets/controls",
            "children": [
              "IPY_MODEL_90440e71cb8f4f48ab73331ed027552b",
              "IPY_MODEL_a4ec2b68285a4782a5f9650d93f0ad95"
            ]
          }
        },
        "493e38a33d2344529f227601d4d86fe0": {
          "model_module": "@jupyter-widgets/base",
          "model_name": "LayoutModel",
          "state": {
            "_view_name": "LayoutView",
            "grid_template_rows": null,
            "right": null,
            "justify_content": null,
            "_view_module": "@jupyter-widgets/base",
            "overflow": null,
            "_model_module_version": "1.2.0",
            "_view_count": null,
            "flex_flow": null,
            "width": null,
            "min_width": null,
            "border": null,
            "align_items": null,
            "bottom": null,
            "_model_module": "@jupyter-widgets/base",
            "top": null,
            "grid_column": null,
            "overflow_y": null,
            "overflow_x": null,
            "grid_auto_flow": null,
            "grid_area": null,
            "grid_template_columns": null,
            "flex": null,
            "_model_name": "LayoutModel",
            "justify_items": null,
            "grid_row": null,
            "max_height": null,
            "align_content": null,
            "visibility": null,
            "align_self": null,
            "height": null,
            "min_height": null,
            "padding": null,
            "grid_auto_rows": null,
            "grid_gap": null,
            "max_width": null,
            "order": null,
            "_view_module_version": "1.2.0",
            "grid_template_areas": null,
            "object_position": null,
            "object_fit": null,
            "grid_auto_columns": null,
            "margin": null,
            "display": null,
            "left": null
          }
        },
        "90440e71cb8f4f48ab73331ed027552b": {
          "model_module": "@jupyter-widgets/controls",
          "model_name": "IntProgressModel",
          "state": {
            "_view_name": "ProgressView",
            "style": "IPY_MODEL_8b0bc1193e164148989e78b2d1312da2",
            "_dom_classes": [],
            "description": "",
            "_model_name": "IntProgressModel",
            "bar_style": "info",
            "max": 1,
            "_view_module": "@jupyter-widgets/controls",
            "_model_module_version": "1.5.0",
            "value": 1,
            "_view_count": null,
            "_view_module_version": "1.5.0",
            "orientation": "horizontal",
            "min": 0,
            "description_tooltip": null,
            "_model_module": "@jupyter-widgets/controls",
            "layout": "IPY_MODEL_503aa66642864d11ac565715f43ef6ee"
          }
        },
        "a4ec2b68285a4782a5f9650d93f0ad95": {
          "model_module": "@jupyter-widgets/controls",
          "model_name": "HTMLModel",
          "state": {
            "_view_name": "HTMLView",
            "style": "IPY_MODEL_df3cf9a2f695494cb46373204e7f409a",
            "_dom_classes": [],
            "description": "",
            "_model_name": "HTMLModel",
            "placeholder": "​",
            "_view_module": "@jupyter-widgets/controls",
            "_model_module_version": "1.5.0",
            "value": " 26427392/? [00:20&lt;00:00, 6593694.08it/s]",
            "_view_count": null,
            "_view_module_version": "1.5.0",
            "description_tooltip": null,
            "_model_module": "@jupyter-widgets/controls",
            "layout": "IPY_MODEL_cb3a9708d6544bc2b94a5fdee1d1304a"
          }
        },
        "8b0bc1193e164148989e78b2d1312da2": {
          "model_module": "@jupyter-widgets/controls",
          "model_name": "ProgressStyleModel",
          "state": {
            "_view_name": "StyleView",
            "_model_name": "ProgressStyleModel",
            "description_width": "initial",
            "_view_module": "@jupyter-widgets/base",
            "_model_module_version": "1.5.0",
            "_view_count": null,
            "_view_module_version": "1.2.0",
            "bar_color": null,
            "_model_module": "@jupyter-widgets/controls"
          }
        },
        "503aa66642864d11ac565715f43ef6ee": {
          "model_module": "@jupyter-widgets/base",
          "model_name": "LayoutModel",
          "state": {
            "_view_name": "LayoutView",
            "grid_template_rows": null,
            "right": null,
            "justify_content": null,
            "_view_module": "@jupyter-widgets/base",
            "overflow": null,
            "_model_module_version": "1.2.0",
            "_view_count": null,
            "flex_flow": null,
            "width": null,
            "min_width": null,
            "border": null,
            "align_items": null,
            "bottom": null,
            "_model_module": "@jupyter-widgets/base",
            "top": null,
            "grid_column": null,
            "overflow_y": null,
            "overflow_x": null,
            "grid_auto_flow": null,
            "grid_area": null,
            "grid_template_columns": null,
            "flex": null,
            "_model_name": "LayoutModel",
            "justify_items": null,
            "grid_row": null,
            "max_height": null,
            "align_content": null,
            "visibility": null,
            "align_self": null,
            "height": null,
            "min_height": null,
            "padding": null,
            "grid_auto_rows": null,
            "grid_gap": null,
            "max_width": null,
            "order": null,
            "_view_module_version": "1.2.0",
            "grid_template_areas": null,
            "object_position": null,
            "object_fit": null,
            "grid_auto_columns": null,
            "margin": null,
            "display": null,
            "left": null
          }
        },
        "df3cf9a2f695494cb46373204e7f409a": {
          "model_module": "@jupyter-widgets/controls",
          "model_name": "DescriptionStyleModel",
          "state": {
            "_view_name": "StyleView",
            "_model_name": "DescriptionStyleModel",
            "description_width": "",
            "_view_module": "@jupyter-widgets/base",
            "_model_module_version": "1.5.0",
            "_view_count": null,
            "_view_module_version": "1.2.0",
            "_model_module": "@jupyter-widgets/controls"
          }
        },
        "cb3a9708d6544bc2b94a5fdee1d1304a": {
          "model_module": "@jupyter-widgets/base",
          "model_name": "LayoutModel",
          "state": {
            "_view_name": "LayoutView",
            "grid_template_rows": null,
            "right": null,
            "justify_content": null,
            "_view_module": "@jupyter-widgets/base",
            "overflow": null,
            "_model_module_version": "1.2.0",
            "_view_count": null,
            "flex_flow": null,
            "width": null,
            "min_width": null,
            "border": null,
            "align_items": null,
            "bottom": null,
            "_model_module": "@jupyter-widgets/base",
            "top": null,
            "grid_column": null,
            "overflow_y": null,
            "overflow_x": null,
            "grid_auto_flow": null,
            "grid_area": null,
            "grid_template_columns": null,
            "flex": null,
            "_model_name": "LayoutModel",
            "justify_items": null,
            "grid_row": null,
            "max_height": null,
            "align_content": null,
            "visibility": null,
            "align_self": null,
            "height": null,
            "min_height": null,
            "padding": null,
            "grid_auto_rows": null,
            "grid_gap": null,
            "max_width": null,
            "order": null,
            "_view_module_version": "1.2.0",
            "grid_template_areas": null,
            "object_position": null,
            "object_fit": null,
            "grid_auto_columns": null,
            "margin": null,
            "display": null,
            "left": null
          }
        },
        "a5235f100a9e4889a60539f85fdaf4af": {
          "model_module": "@jupyter-widgets/controls",
          "model_name": "HBoxModel",
          "state": {
            "_view_name": "HBoxView",
            "_dom_classes": [],
            "_model_name": "HBoxModel",
            "_view_module": "@jupyter-widgets/controls",
            "_model_module_version": "1.5.0",
            "_view_count": null,
            "_view_module_version": "1.5.0",
            "box_style": "",
            "layout": "IPY_MODEL_4acad2164ff34cb6877d985513ae4c76",
            "_model_module": "@jupyter-widgets/controls",
            "children": [
              "IPY_MODEL_41f089aad98e4546933f40aa6399c632",
              "IPY_MODEL_30756788274043c485485946dcd5f284"
            ]
          }
        },
        "4acad2164ff34cb6877d985513ae4c76": {
          "model_module": "@jupyter-widgets/base",
          "model_name": "LayoutModel",
          "state": {
            "_view_name": "LayoutView",
            "grid_template_rows": null,
            "right": null,
            "justify_content": null,
            "_view_module": "@jupyter-widgets/base",
            "overflow": null,
            "_model_module_version": "1.2.0",
            "_view_count": null,
            "flex_flow": null,
            "width": null,
            "min_width": null,
            "border": null,
            "align_items": null,
            "bottom": null,
            "_model_module": "@jupyter-widgets/base",
            "top": null,
            "grid_column": null,
            "overflow_y": null,
            "overflow_x": null,
            "grid_auto_flow": null,
            "grid_area": null,
            "grid_template_columns": null,
            "flex": null,
            "_model_name": "LayoutModel",
            "justify_items": null,
            "grid_row": null,
            "max_height": null,
            "align_content": null,
            "visibility": null,
            "align_self": null,
            "height": null,
            "min_height": null,
            "padding": null,
            "grid_auto_rows": null,
            "grid_gap": null,
            "max_width": null,
            "order": null,
            "_view_module_version": "1.2.0",
            "grid_template_areas": null,
            "object_position": null,
            "object_fit": null,
            "grid_auto_columns": null,
            "margin": null,
            "display": null,
            "left": null
          }
        },
        "41f089aad98e4546933f40aa6399c632": {
          "model_module": "@jupyter-widgets/controls",
          "model_name": "IntProgressModel",
          "state": {
            "_view_name": "ProgressView",
            "style": "IPY_MODEL_25a41fb7cd5a4d39b0718eb1815979b7",
            "_dom_classes": [],
            "description": "",
            "_model_name": "IntProgressModel",
            "bar_style": "success",
            "max": 1,
            "_view_module": "@jupyter-widgets/controls",
            "_model_module_version": "1.5.0",
            "value": 1,
            "_view_count": null,
            "_view_module_version": "1.5.0",
            "orientation": "horizontal",
            "min": 0,
            "description_tooltip": null,
            "_model_module": "@jupyter-widgets/controls",
            "layout": "IPY_MODEL_d87a7d46a6c149308644802c12feb5b8"
          }
        },
        "30756788274043c485485946dcd5f284": {
          "model_module": "@jupyter-widgets/controls",
          "model_name": "HTMLModel",
          "state": {
            "_view_name": "HTMLView",
            "style": "IPY_MODEL_6b7f5ebc4e01441dba76185a8db381df",
            "_dom_classes": [],
            "description": "",
            "_model_name": "HTMLModel",
            "placeholder": "​",
            "_view_module": "@jupyter-widgets/controls",
            "_model_module_version": "1.5.0",
            "value": " 32768/? [00:02&lt;00:00, 12901.24it/s]",
            "_view_count": null,
            "_view_module_version": "1.5.0",
            "description_tooltip": null,
            "_model_module": "@jupyter-widgets/controls",
            "layout": "IPY_MODEL_32aac4634fea4587b08d776eb143300d"
          }
        },
        "25a41fb7cd5a4d39b0718eb1815979b7": {
          "model_module": "@jupyter-widgets/controls",
          "model_name": "ProgressStyleModel",
          "state": {
            "_view_name": "StyleView",
            "_model_name": "ProgressStyleModel",
            "description_width": "initial",
            "_view_module": "@jupyter-widgets/base",
            "_model_module_version": "1.5.0",
            "_view_count": null,
            "_view_module_version": "1.2.0",
            "bar_color": null,
            "_model_module": "@jupyter-widgets/controls"
          }
        },
        "d87a7d46a6c149308644802c12feb5b8": {
          "model_module": "@jupyter-widgets/base",
          "model_name": "LayoutModel",
          "state": {
            "_view_name": "LayoutView",
            "grid_template_rows": null,
            "right": null,
            "justify_content": null,
            "_view_module": "@jupyter-widgets/base",
            "overflow": null,
            "_model_module_version": "1.2.0",
            "_view_count": null,
            "flex_flow": null,
            "width": null,
            "min_width": null,
            "border": null,
            "align_items": null,
            "bottom": null,
            "_model_module": "@jupyter-widgets/base",
            "top": null,
            "grid_column": null,
            "overflow_y": null,
            "overflow_x": null,
            "grid_auto_flow": null,
            "grid_area": null,
            "grid_template_columns": null,
            "flex": null,
            "_model_name": "LayoutModel",
            "justify_items": null,
            "grid_row": null,
            "max_height": null,
            "align_content": null,
            "visibility": null,
            "align_self": null,
            "height": null,
            "min_height": null,
            "padding": null,
            "grid_auto_rows": null,
            "grid_gap": null,
            "max_width": null,
            "order": null,
            "_view_module_version": "1.2.0",
            "grid_template_areas": null,
            "object_position": null,
            "object_fit": null,
            "grid_auto_columns": null,
            "margin": null,
            "display": null,
            "left": null
          }
        },
        "6b7f5ebc4e01441dba76185a8db381df": {
          "model_module": "@jupyter-widgets/controls",
          "model_name": "DescriptionStyleModel",
          "state": {
            "_view_name": "StyleView",
            "_model_name": "DescriptionStyleModel",
            "description_width": "",
            "_view_module": "@jupyter-widgets/base",
            "_model_module_version": "1.5.0",
            "_view_count": null,
            "_view_module_version": "1.2.0",
            "_model_module": "@jupyter-widgets/controls"
          }
        },
        "32aac4634fea4587b08d776eb143300d": {
          "model_module": "@jupyter-widgets/base",
          "model_name": "LayoutModel",
          "state": {
            "_view_name": "LayoutView",
            "grid_template_rows": null,
            "right": null,
            "justify_content": null,
            "_view_module": "@jupyter-widgets/base",
            "overflow": null,
            "_model_module_version": "1.2.0",
            "_view_count": null,
            "flex_flow": null,
            "width": null,
            "min_width": null,
            "border": null,
            "align_items": null,
            "bottom": null,
            "_model_module": "@jupyter-widgets/base",
            "top": null,
            "grid_column": null,
            "overflow_y": null,
            "overflow_x": null,
            "grid_auto_flow": null,
            "grid_area": null,
            "grid_template_columns": null,
            "flex": null,
            "_model_name": "LayoutModel",
            "justify_items": null,
            "grid_row": null,
            "max_height": null,
            "align_content": null,
            "visibility": null,
            "align_self": null,
            "height": null,
            "min_height": null,
            "padding": null,
            "grid_auto_rows": null,
            "grid_gap": null,
            "max_width": null,
            "order": null,
            "_view_module_version": "1.2.0",
            "grid_template_areas": null,
            "object_position": null,
            "object_fit": null,
            "grid_auto_columns": null,
            "margin": null,
            "display": null,
            "left": null
          }
        },
        "7cd0daf0912841a19080b51c11e42bde": {
          "model_module": "@jupyter-widgets/controls",
          "model_name": "HBoxModel",
          "state": {
            "_view_name": "HBoxView",
            "_dom_classes": [],
            "_model_name": "HBoxModel",
            "_view_module": "@jupyter-widgets/controls",
            "_model_module_version": "1.5.0",
            "_view_count": null,
            "_view_module_version": "1.5.0",
            "box_style": "",
            "layout": "IPY_MODEL_74d4016c07184d49b9df9c21ba90fc01",
            "_model_module": "@jupyter-widgets/controls",
            "children": [
              "IPY_MODEL_80caff4fe7964bf49d882a2d7a547864",
              "IPY_MODEL_dcc03858c4064b6e88c9e02caeb371ba"
            ]
          }
        },
        "74d4016c07184d49b9df9c21ba90fc01": {
          "model_module": "@jupyter-widgets/base",
          "model_name": "LayoutModel",
          "state": {
            "_view_name": "LayoutView",
            "grid_template_rows": null,
            "right": null,
            "justify_content": null,
            "_view_module": "@jupyter-widgets/base",
            "overflow": null,
            "_model_module_version": "1.2.0",
            "_view_count": null,
            "flex_flow": null,
            "width": null,
            "min_width": null,
            "border": null,
            "align_items": null,
            "bottom": null,
            "_model_module": "@jupyter-widgets/base",
            "top": null,
            "grid_column": null,
            "overflow_y": null,
            "overflow_x": null,
            "grid_auto_flow": null,
            "grid_area": null,
            "grid_template_columns": null,
            "flex": null,
            "_model_name": "LayoutModel",
            "justify_items": null,
            "grid_row": null,
            "max_height": null,
            "align_content": null,
            "visibility": null,
            "align_self": null,
            "height": null,
            "min_height": null,
            "padding": null,
            "grid_auto_rows": null,
            "grid_gap": null,
            "max_width": null,
            "order": null,
            "_view_module_version": "1.2.0",
            "grid_template_areas": null,
            "object_position": null,
            "object_fit": null,
            "grid_auto_columns": null,
            "margin": null,
            "display": null,
            "left": null
          }
        },
        "80caff4fe7964bf49d882a2d7a547864": {
          "model_module": "@jupyter-widgets/controls",
          "model_name": "IntProgressModel",
          "state": {
            "_view_name": "ProgressView",
            "style": "IPY_MODEL_72f70ef79cf54c298fbc7481a874663b",
            "_dom_classes": [],
            "description": "",
            "_model_name": "IntProgressModel",
            "bar_style": "success",
            "max": 1,
            "_view_module": "@jupyter-widgets/controls",
            "_model_module_version": "1.5.0",
            "value": 1,
            "_view_count": null,
            "_view_module_version": "1.5.0",
            "orientation": "horizontal",
            "min": 0,
            "description_tooltip": null,
            "_model_module": "@jupyter-widgets/controls",
            "layout": "IPY_MODEL_247e1842fdc14d8293b957547a68f514"
          }
        },
        "dcc03858c4064b6e88c9e02caeb371ba": {
          "model_module": "@jupyter-widgets/controls",
          "model_name": "HTMLModel",
          "state": {
            "_view_name": "HTMLView",
            "style": "IPY_MODEL_211cecea0fea4849a463445a0eb8861e",
            "_dom_classes": [],
            "description": "",
            "_model_name": "HTMLModel",
            "placeholder": "​",
            "_view_module": "@jupyter-widgets/controls",
            "_model_module_version": "1.5.0",
            "value": " 4423680/? [00:01&lt;00:00, 2225390.87it/s]",
            "_view_count": null,
            "_view_module_version": "1.5.0",
            "description_tooltip": null,
            "_model_module": "@jupyter-widgets/controls",
            "layout": "IPY_MODEL_5ae4a7d6ce72490295fe76e1da6530ac"
          }
        },
        "72f70ef79cf54c298fbc7481a874663b": {
          "model_module": "@jupyter-widgets/controls",
          "model_name": "ProgressStyleModel",
          "state": {
            "_view_name": "StyleView",
            "_model_name": "ProgressStyleModel",
            "description_width": "initial",
            "_view_module": "@jupyter-widgets/base",
            "_model_module_version": "1.5.0",
            "_view_count": null,
            "_view_module_version": "1.2.0",
            "bar_color": null,
            "_model_module": "@jupyter-widgets/controls"
          }
        },
        "247e1842fdc14d8293b957547a68f514": {
          "model_module": "@jupyter-widgets/base",
          "model_name": "LayoutModel",
          "state": {
            "_view_name": "LayoutView",
            "grid_template_rows": null,
            "right": null,
            "justify_content": null,
            "_view_module": "@jupyter-widgets/base",
            "overflow": null,
            "_model_module_version": "1.2.0",
            "_view_count": null,
            "flex_flow": null,
            "width": null,
            "min_width": null,
            "border": null,
            "align_items": null,
            "bottom": null,
            "_model_module": "@jupyter-widgets/base",
            "top": null,
            "grid_column": null,
            "overflow_y": null,
            "overflow_x": null,
            "grid_auto_flow": null,
            "grid_area": null,
            "grid_template_columns": null,
            "flex": null,
            "_model_name": "LayoutModel",
            "justify_items": null,
            "grid_row": null,
            "max_height": null,
            "align_content": null,
            "visibility": null,
            "align_self": null,
            "height": null,
            "min_height": null,
            "padding": null,
            "grid_auto_rows": null,
            "grid_gap": null,
            "max_width": null,
            "order": null,
            "_view_module_version": "1.2.0",
            "grid_template_areas": null,
            "object_position": null,
            "object_fit": null,
            "grid_auto_columns": null,
            "margin": null,
            "display": null,
            "left": null
          }
        },
        "211cecea0fea4849a463445a0eb8861e": {
          "model_module": "@jupyter-widgets/controls",
          "model_name": "DescriptionStyleModel",
          "state": {
            "_view_name": "StyleView",
            "_model_name": "DescriptionStyleModel",
            "description_width": "",
            "_view_module": "@jupyter-widgets/base",
            "_model_module_version": "1.5.0",
            "_view_count": null,
            "_view_module_version": "1.2.0",
            "_model_module": "@jupyter-widgets/controls"
          }
        },
        "5ae4a7d6ce72490295fe76e1da6530ac": {
          "model_module": "@jupyter-widgets/base",
          "model_name": "LayoutModel",
          "state": {
            "_view_name": "LayoutView",
            "grid_template_rows": null,
            "right": null,
            "justify_content": null,
            "_view_module": "@jupyter-widgets/base",
            "overflow": null,
            "_model_module_version": "1.2.0",
            "_view_count": null,
            "flex_flow": null,
            "width": null,
            "min_width": null,
            "border": null,
            "align_items": null,
            "bottom": null,
            "_model_module": "@jupyter-widgets/base",
            "top": null,
            "grid_column": null,
            "overflow_y": null,
            "overflow_x": null,
            "grid_auto_flow": null,
            "grid_area": null,
            "grid_template_columns": null,
            "flex": null,
            "_model_name": "LayoutModel",
            "justify_items": null,
            "grid_row": null,
            "max_height": null,
            "align_content": null,
            "visibility": null,
            "align_self": null,
            "height": null,
            "min_height": null,
            "padding": null,
            "grid_auto_rows": null,
            "grid_gap": null,
            "max_width": null,
            "order": null,
            "_view_module_version": "1.2.0",
            "grid_template_areas": null,
            "object_position": null,
            "object_fit": null,
            "grid_auto_columns": null,
            "margin": null,
            "display": null,
            "left": null
          }
        },
        "3df21eacfbd34cb093879781c5250c81": {
          "model_module": "@jupyter-widgets/controls",
          "model_name": "HBoxModel",
          "state": {
            "_view_name": "HBoxView",
            "_dom_classes": [],
            "_model_name": "HBoxModel",
            "_view_module": "@jupyter-widgets/controls",
            "_model_module_version": "1.5.0",
            "_view_count": null,
            "_view_module_version": "1.5.0",
            "box_style": "",
            "layout": "IPY_MODEL_5401f93d834a402e9bee60f1fd2c1a4a",
            "_model_module": "@jupyter-widgets/controls",
            "children": [
              "IPY_MODEL_07879fecd5b4403884bcd5ed0ac131b5",
              "IPY_MODEL_4ca88d000243482ebe6c4c5f588da024"
            ]
          }
        },
        "5401f93d834a402e9bee60f1fd2c1a4a": {
          "model_module": "@jupyter-widgets/base",
          "model_name": "LayoutModel",
          "state": {
            "_view_name": "LayoutView",
            "grid_template_rows": null,
            "right": null,
            "justify_content": null,
            "_view_module": "@jupyter-widgets/base",
            "overflow": null,
            "_model_module_version": "1.2.0",
            "_view_count": null,
            "flex_flow": null,
            "width": null,
            "min_width": null,
            "border": null,
            "align_items": null,
            "bottom": null,
            "_model_module": "@jupyter-widgets/base",
            "top": null,
            "grid_column": null,
            "overflow_y": null,
            "overflow_x": null,
            "grid_auto_flow": null,
            "grid_area": null,
            "grid_template_columns": null,
            "flex": null,
            "_model_name": "LayoutModel",
            "justify_items": null,
            "grid_row": null,
            "max_height": null,
            "align_content": null,
            "visibility": null,
            "align_self": null,
            "height": null,
            "min_height": null,
            "padding": null,
            "grid_auto_rows": null,
            "grid_gap": null,
            "max_width": null,
            "order": null,
            "_view_module_version": "1.2.0",
            "grid_template_areas": null,
            "object_position": null,
            "object_fit": null,
            "grid_auto_columns": null,
            "margin": null,
            "display": null,
            "left": null
          }
        },
        "07879fecd5b4403884bcd5ed0ac131b5": {
          "model_module": "@jupyter-widgets/controls",
          "model_name": "IntProgressModel",
          "state": {
            "_view_name": "ProgressView",
            "style": "IPY_MODEL_49351410cb1145939e81f81d153f4102",
            "_dom_classes": [],
            "description": "",
            "_model_name": "IntProgressModel",
            "bar_style": "success",
            "max": 1,
            "_view_module": "@jupyter-widgets/controls",
            "_model_module_version": "1.5.0",
            "value": 1,
            "_view_count": null,
            "_view_module_version": "1.5.0",
            "orientation": "horizontal",
            "min": 0,
            "description_tooltip": null,
            "_model_module": "@jupyter-widgets/controls",
            "layout": "IPY_MODEL_3afb66fd08af49beaeb7388e4aeb0578"
          }
        },
        "4ca88d000243482ebe6c4c5f588da024": {
          "model_module": "@jupyter-widgets/controls",
          "model_name": "HTMLModel",
          "state": {
            "_view_name": "HTMLView",
            "style": "IPY_MODEL_58acf8087cfa4d68b4d7f80f6a92b55a",
            "_dom_classes": [],
            "description": "",
            "_model_name": "HTMLModel",
            "placeholder": "​",
            "_view_module": "@jupyter-widgets/controls",
            "_model_module_version": "1.5.0",
            "value": " 8192/? [00:00&lt;00:00, 20303.91it/s]",
            "_view_count": null,
            "_view_module_version": "1.5.0",
            "description_tooltip": null,
            "_model_module": "@jupyter-widgets/controls",
            "layout": "IPY_MODEL_936db0ded7564211902d9a44462a2583"
          }
        },
        "49351410cb1145939e81f81d153f4102": {
          "model_module": "@jupyter-widgets/controls",
          "model_name": "ProgressStyleModel",
          "state": {
            "_view_name": "StyleView",
            "_model_name": "ProgressStyleModel",
            "description_width": "initial",
            "_view_module": "@jupyter-widgets/base",
            "_model_module_version": "1.5.0",
            "_view_count": null,
            "_view_module_version": "1.2.0",
            "bar_color": null,
            "_model_module": "@jupyter-widgets/controls"
          }
        },
        "3afb66fd08af49beaeb7388e4aeb0578": {
          "model_module": "@jupyter-widgets/base",
          "model_name": "LayoutModel",
          "state": {
            "_view_name": "LayoutView",
            "grid_template_rows": null,
            "right": null,
            "justify_content": null,
            "_view_module": "@jupyter-widgets/base",
            "overflow": null,
            "_model_module_version": "1.2.0",
            "_view_count": null,
            "flex_flow": null,
            "width": null,
            "min_width": null,
            "border": null,
            "align_items": null,
            "bottom": null,
            "_model_module": "@jupyter-widgets/base",
            "top": null,
            "grid_column": null,
            "overflow_y": null,
            "overflow_x": null,
            "grid_auto_flow": null,
            "grid_area": null,
            "grid_template_columns": null,
            "flex": null,
            "_model_name": "LayoutModel",
            "justify_items": null,
            "grid_row": null,
            "max_height": null,
            "align_content": null,
            "visibility": null,
            "align_self": null,
            "height": null,
            "min_height": null,
            "padding": null,
            "grid_auto_rows": null,
            "grid_gap": null,
            "max_width": null,
            "order": null,
            "_view_module_version": "1.2.0",
            "grid_template_areas": null,
            "object_position": null,
            "object_fit": null,
            "grid_auto_columns": null,
            "margin": null,
            "display": null,
            "left": null
          }
        },
        "58acf8087cfa4d68b4d7f80f6a92b55a": {
          "model_module": "@jupyter-widgets/controls",
          "model_name": "DescriptionStyleModel",
          "state": {
            "_view_name": "StyleView",
            "_model_name": "DescriptionStyleModel",
            "description_width": "",
            "_view_module": "@jupyter-widgets/base",
            "_model_module_version": "1.5.0",
            "_view_count": null,
            "_view_module_version": "1.2.0",
            "_model_module": "@jupyter-widgets/controls"
          }
        },
        "936db0ded7564211902d9a44462a2583": {
          "model_module": "@jupyter-widgets/base",
          "model_name": "LayoutModel",
          "state": {
            "_view_name": "LayoutView",
            "grid_template_rows": null,
            "right": null,
            "justify_content": null,
            "_view_module": "@jupyter-widgets/base",
            "overflow": null,
            "_model_module_version": "1.2.0",
            "_view_count": null,
            "flex_flow": null,
            "width": null,
            "min_width": null,
            "border": null,
            "align_items": null,
            "bottom": null,
            "_model_module": "@jupyter-widgets/base",
            "top": null,
            "grid_column": null,
            "overflow_y": null,
            "overflow_x": null,
            "grid_auto_flow": null,
            "grid_area": null,
            "grid_template_columns": null,
            "flex": null,
            "_model_name": "LayoutModel",
            "justify_items": null,
            "grid_row": null,
            "max_height": null,
            "align_content": null,
            "visibility": null,
            "align_self": null,
            "height": null,
            "min_height": null,
            "padding": null,
            "grid_auto_rows": null,
            "grid_gap": null,
            "max_width": null,
            "order": null,
            "_view_module_version": "1.2.0",
            "grid_template_areas": null,
            "object_position": null,
            "object_fit": null,
            "grid_auto_columns": null,
            "margin": null,
            "display": null,
            "left": null
          }
        }
      }
    }
  },
  "cells": [
    {
      "cell_type": "markdown",
      "metadata": {
        "id": "view-in-github",
        "colab_type": "text"
      },
      "source": [
        "<a href=\"https://colab.research.google.com/github/Sooryakiran/CS6886_SysDL/blob/master/assignment_3/Submission/Step%203/step_3.ipynb\" target=\"_parent\"><img src=\"https://colab.research.google.com/assets/colab-badge.svg\" alt=\"Open In Colab\"/></a>"
      ]
    },
    {
      "cell_type": "markdown",
      "metadata": {
        "id": "40Q0kTewXd5B",
        "colab_type": "text"
      },
      "source": [
        "# Channel pruning"
      ]
    },
    {
      "cell_type": "markdown",
      "metadata": {
        "id": "jTBlJTYuZe02",
        "colab_type": "text"
      },
      "source": [
        "Import all libraries"
      ]
    },
    {
      "cell_type": "code",
      "metadata": {
        "id": "HIYmmfhaXZ8B",
        "colab_type": "code",
        "colab": {}
      },
      "source": [
        "import torch\n",
        "import torch.nn as nn\n",
        "import torch.nn.functional as F\n",
        "import torch.optim as optim\n",
        "import torchvision\n",
        "import torchvision.transforms as transforms\n",
        "import numpy as np\n",
        "import matplotlib as mpl\n",
        "import matplotlib.pyplot as plt\n",
        "import time\n",
        "import copy\n",
        "from IPython.display import HTML, display\n",
        "from torchsummary import summary"
      ],
      "execution_count": 0,
      "outputs": []
    },
    {
      "cell_type": "code",
      "metadata": {
        "id": "5C5NrccZZIOS",
        "colab_type": "code",
        "colab": {}
      },
      "source": [
        "BATCH_SIZE = 32\n",
        "INITIALIZAION = torch.nn.init.kaiming_uniform_\n",
        "LEARNING_RATE = 0.01\n",
        "MOMENTUM = 0.9\n",
        "\n",
        "LOG_DIR = \"drive/My Drive/SysDL/Assg 3/pruning_models/\""
      ],
      "execution_count": 0,
      "outputs": []
    },
    {
      "cell_type": "markdown",
      "metadata": {
        "id": "wRZfaGIeZj_o",
        "colab_type": "text"
      },
      "source": [
        "### Define basic classes and functions"
      ]
    },
    {
      "cell_type": "code",
      "metadata": {
        "id": "nAD0BPr-YVg0",
        "colab_type": "code",
        "colab": {}
      },
      "source": [
        "class NormalizeTransform:\n",
        "    \"\"\"\n",
        "    A torch transform class that normalises the dataset\n",
        "\n",
        "    \"\"\"\n",
        "    \n",
        "    def __init__(self, mean = 0.5, var = 0.5):\n",
        "        \"\"\"\n",
        "        The class constructor\n",
        "\n",
        "        @param mean : mean of the output dataset\n",
        "        @param var  : variance of the output datset\n",
        "\n",
        "        \"\"\"\n",
        "\n",
        "        self.mean = mean\n",
        "        self.var  = var\n",
        "    \n",
        "    def __call__(self, x):\n",
        "        \"\"\"\n",
        "        This function is called when the object is called.\n",
        "\n",
        "        @param x : input datset\n",
        "        @returns : normalized dataset\n",
        "\n",
        "        \"\"\"\n",
        "\n",
        "        return (x-self.mean)/(self.var)\n",
        "\n",
        "\n",
        "def imshow(image):\n",
        "    \"\"\"\n",
        "    A function to print images of size 28x28 from the dataset\n",
        "\n",
        "    @param image: input torch tensor representing the image\n",
        "\n",
        "    \"\"\"\n",
        "\n",
        "    npimg = image.numpy()\n",
        "    plt.imshow(np.resize(npimg, (28, 28)), cmap = 'gray')\n",
        "    plt.show()\n",
        "\n",
        "def progress(value, max=100):\n",
        "    \"\"\"\n",
        "    Progress bar\n",
        "\n",
        "    \"\"\"\n",
        "    return HTML(\"\"\"\n",
        "        <progress\n",
        "            value='{value}'\n",
        "            max='{max}',\n",
        "            style='width: 100%'\n",
        "        >\n",
        "            {value}\n",
        "        </progress>\n",
        "    \"\"\".format(value = value, max = max))\n",
        "\n",
        "class ConvNet(nn.Module):\n",
        "    \"\"\"\n",
        "    The network is defined as a torch module.\n",
        "\n",
        "    \"\"\"\n",
        "\n",
        "    def __init__(self,\\\n",
        "                 conv_layer_1_filter_size,\\\n",
        "                 conv_layer_2_filter_size,\\\n",
        "                 conv_layer_1_channel_size,\\\n",
        "                 conv_layer_2_channel_size,\\\n",
        "                 layer_3_size):\n",
        "        \n",
        "        \"\"\"\n",
        "        The class constructor.\n",
        "\n",
        "        \"\"\"\n",
        "\n",
        "        super(ConvNet, self).__init__()\n",
        "\n",
        "        self.conv_1 = nn.Conv2d(in_channels = 1, out_channels = conv_layer_1_channel_size,  kernel_size = conv_layer_1_filter_size)\n",
        "        self.conv_2 = nn.Conv2d(in_channels = conv_layer_1_channel_size, out_channels = conv_layer_2_channel_size, kernel_size = conv_layer_2_filter_size)\n",
        "        \n",
        "        size = 28\n",
        "        size = size - conv_layer_1_filter_size + 1\n",
        "        size = size - conv_layer_2_filter_size + 1\n",
        "        self.fc_1_input_size = conv_layer_2_channel_size*size*size\n",
        "        self.fc_1   = nn.Linear(self.fc_1_input_size, layer_3_size)\n",
        "        self.fc_2   = nn.Linear(layer_3_size, 10)\n",
        "\n",
        "    def forward(self, x):\n",
        "        \"\"\"\n",
        "        The forward pass of the network.\n",
        "\n",
        "        Layer 1: Convolution 3x3 16 channels with relu\n",
        "        Layer 2: Convolution 3x3 16 channels with relu\n",
        "        Layer 3: Fully connected 100 neurons with relu\n",
        "        Layer 4: Output fully connected layer 10 neurons without activation \n",
        "\n",
        "        @param x : Input tensor of size (BATCH_SIZE, 1, 28, 28)\n",
        "        @return  : Network output tensor of size (BATCH_SIZE, 10)\n",
        "\n",
        "        \"\"\"\n",
        "        x = F.relu(self.conv_1(x))\n",
        "        x = F.relu(self.conv_2(x))\n",
        "        x = x.view(-1,  self.fc_1_input_size)\n",
        "        x = F.relu(self.fc_1(x))\n",
        "        x = self.fc_2(x)\n",
        "        return x\n",
        "\n",
        "\n",
        "class initParams:\n",
        "    \"\"\"\n",
        "    An object to initialize the network parameters throgh the method specified\n",
        "\n",
        "    \"\"\"\n",
        "\n",
        "    def __init__(self, method = torch.nn.init.xavier_uniform_):\n",
        "        \"\"\"\n",
        "        The class constructor.\n",
        "\n",
        "        @param method: the torch.nn.init function to be used to initialize the\n",
        "                       network parameters\n",
        "\n",
        "        \"\"\"\n",
        "\n",
        "        self.method = method\n",
        "    \n",
        "    def __call__(self, layer):\n",
        "        \"\"\"\n",
        "        A function to initialize the network parameters. The weights are initialized\n",
        "        with given method (default = Xavier uniform) initialization. The biases are \n",
        "        initialized with zeros.\n",
        "\n",
        "        Usage:\n",
        "            net.apply(init_params)\n",
        "            where net is an nn.Module or nn.Seqential\n",
        "        \n",
        "        @param layer : each layers of the nn.Module/nn.Sequential\n",
        "\n",
        "        \"\"\"\n",
        "\n",
        "        if type(layer) == nn.Linear:\n",
        "            self.method(layer.weight)\n",
        "            layer.bias.data.fill_(0.0)\n",
        "\n",
        "        elif type(layer) == nn.Conv2d:\n",
        "            self.method(layer.weight)\n",
        "            layer.bias.data.fill_(0.0)\n",
        "\n",
        "\n",
        "def accuracy(pred, target):\n",
        "    \"\"\"\n",
        "    A function to calculate accuracy of a prediction.\n",
        "\n",
        "    @param pred   : Network predictions tensor of size (BATCH_SIZE, num outputs)\n",
        "    @param target : Target labels of size (BATCh_SIZE)\n",
        "\n",
        "    Note: @param target is NOT onehot encoded.\n",
        "\n",
        "    @return       : accuracy of the prediction.\n",
        "\n",
        "    \"\"\"\n",
        "\n",
        "    preds    = torch.argmax(pred, dim = -1).detach().numpy()\n",
        "    target   = target.detach().numpy()\n",
        "    corrects = np.mean(np.asarray([preds[i] == target[i] for i in range(preds.shape[0])]))\n",
        "    return corrects\n",
        "\n",
        "def test(network, test_loader, criterion, accuracy_fn):\n",
        "    \"\"\"\n",
        "    This function evaluates a model on the test dataset.\n",
        "\n",
        "    @param network     : Neural network model\n",
        "    @param test_loader : The dataloader object for the test dataset\n",
        "    @param criterion   : The loss function\n",
        "    @param accuracy_fn : The accuracy function\n",
        "\n",
        "    @return test_loss, test_accuracy \n",
        "\n",
        "    \"\"\"\n",
        "\n",
        "    loss     = 0.0\n",
        "    accuracy = 0.0\n",
        "    batches  = 0\n",
        "\n",
        "    for i, data in enumerate(test_loader):\n",
        "        inputs, labels = data\n",
        "        outputs        = network(inputs)\n",
        "\n",
        "        loss     += criterion(outputs, labels)\n",
        "        accuracy += accuracy_fn(outputs, labels)\n",
        "        batches   = i + 1\n",
        "    \n",
        "    return (loss/batches).item(), (accuracy/batches).item()\n",
        "\n",
        "def train_and_evaluate(network, criterion, optimizer, train_dataloader, test_dataloader, train_till = 90, verbose = True):\n",
        "    \"\"\"\n",
        "    A function which trains the given network till the training accuracy reaches\n",
        "    the specified value, on the given dataset, using the specified loss function\n",
        "    and using the given optimzer.\n",
        "\n",
        "    @param network          : Torch nn.Module or nn.Sequential network object\n",
        "    @param criterion        : The loss function\n",
        "    @param optimizer        : The optimizer object\n",
        "    @param train_dataloader : The dataloader object of the training dataset\n",
        "    @param test_dataloader  : The dataloader object of the test dataset\n",
        "    @param train_till       : The training accuracy till which the network has \n",
        "                              to be trained\n",
        "    @return t_acc           : Test accuracy on training till training accuracy \n",
        "                              becomes the specified value\n",
        "    @return training_time   : Time required to reach the specified training \n",
        "                              accuracy\n",
        "\n",
        "    \"\"\"\n",
        "    done = False\n",
        "\n",
        "    start_time = time.time()\n",
        "    while not done:\n",
        "\n",
        "        running_loss     = 0.0\n",
        "        running_accuracy = 0.0\n",
        "\n",
        "        for i, data in enumerate(train_dataloader):\n",
        "            if not done:\n",
        "                inputs, labels = data\n",
        "                optimizer.zero_grad()\n",
        "\n",
        "                outputs = net(inputs)\n",
        "                loss    = criterion(outputs, labels)\n",
        "\n",
        "                loss.backward()\n",
        "                optimizer.step()\n",
        "\n",
        "                running_loss     += loss.item()\n",
        "                running_accuracy += accuracy(outputs, labels)\n",
        "\n",
        "                PRINT_EVERY = 256\n",
        "                if i % PRINT_EVERY == PRINT_EVERY - 1:    \n",
        "                    if verbose:\n",
        "                        \n",
        "                        \n",
        "                        t_loss, t_acc = test(network, test_dataloader, criterion, accuracy)\n",
        "                        print('[BATCH: %5d]\\t Loss: %.3f\\t Accuracy: %.3f %%\\t Test Loss: %f\\t Test Accuracy: %f %%' %\n",
        "                            (i + 1, running_loss / PRINT_EVERY, running_accuracy*100 / PRINT_EVERY, t_loss, t_acc*100))\n",
        "\n",
        "                    done             = running_accuracy*100/PRINT_EVERY > train_till\n",
        "                    running_accuracy = 0.0\n",
        "                    running_loss     = 0.0\n",
        "\n",
        "    return t_acc, time.time() - start_time\n",
        "\n",
        "def log(model_id, t_acc, log_dir = LOG_DIR):\n",
        "    \"\"\"\n",
        "    A logging function\n",
        "\n",
        "    \"\"\"\n",
        "\n",
        "    fp = open(log_dir + \"logs.log\", 'a')\n",
        "    logs = \"[MODEL ID: \" + str(model_id) + \"] \" + \"Test Accuracy: \" + str(t_acc) +\"\\n\"\n",
        "    fp.write(logs)\n",
        "    fp.close()\n",
        "\n",
        "def train(network, criterion, optimizer, epochs, train_dataloader):\n",
        "    \"\"\"\n",
        "    A handy function for training\n",
        "\n",
        "    @param network              : The network nn.Module model for training\n",
        "    @param criterion            : The loss function\n",
        "    @param optimizer            : The optimizer\n",
        "    @param epochs               : Number of epochs to train\n",
        "    @param train_dataloader     : The train dataloader\n",
        "    @return trained network\n",
        "\n",
        "    \"\"\"\n",
        "\n",
        "    for epoch in range(epochs):\n",
        "        total = 60000\n",
        "        print(\"Epoch : %d\" %(epoch + 1))\n",
        "        out   = display(progress(0, 60000), display_id=True)\n",
        "\n",
        "        running_loss     = 0.0\n",
        "        running_accuracy = 0.0\n",
        "\n",
        "        \n",
        "        \n",
        "        for i, data in enumerate(train_dataloader):\n",
        "            inputs, labels = data\n",
        "            optimizer.zero_grad()\n",
        "\n",
        "            outputs = network(inputs)\n",
        "            loss    = criterion(outputs, labels)\n",
        "\n",
        "            \n",
        "\n",
        "            loss.backward()\n",
        "            optimizer.step()\n",
        "\n",
        "            running_loss += loss.item()\n",
        "            running_accuracy += accuracy(outputs, labels)\n",
        "            PRINT_EVERY = 256\n",
        "\n",
        "            if i % PRINT_EVERY == PRINT_EVERY - 1:\n",
        "                batch_size       = labels.numpy().shape[0]\n",
        "                running_accuracy = 0.0\n",
        "                running_loss     = 0.0\n",
        "                out.update(progress(i*batch_size, 60000))\n",
        "        out.update(progress(1, 1))\n",
        "        _, new_acc = test(network, test_dataloader, criterion, accuracy)\n",
        "    return network\n"
      ],
      "execution_count": 0,
      "outputs": []
    },
    {
      "cell_type": "markdown",
      "metadata": {
        "id": "1euZ2egAZplJ",
        "colab_type": "text"
      },
      "source": [
        "### Get the datasets and setup the dataloaders"
      ]
    },
    {
      "cell_type": "code",
      "metadata": {
        "id": "TUmNWarbYXYv",
        "colab_type": "code",
        "outputId": "90240d5a-ea12-4ed6-b394-4f4506a19cf4",
        "colab": {
          "base_uri": "https://localhost:8080/",
          "height": 403,
          "referenced_widgets": [
            "c2c61a3b8c70424c84cb63d8c91a3f2f",
            "493e38a33d2344529f227601d4d86fe0",
            "90440e71cb8f4f48ab73331ed027552b",
            "a4ec2b68285a4782a5f9650d93f0ad95",
            "8b0bc1193e164148989e78b2d1312da2",
            "503aa66642864d11ac565715f43ef6ee",
            "df3cf9a2f695494cb46373204e7f409a",
            "cb3a9708d6544bc2b94a5fdee1d1304a",
            "a5235f100a9e4889a60539f85fdaf4af",
            "4acad2164ff34cb6877d985513ae4c76",
            "41f089aad98e4546933f40aa6399c632",
            "30756788274043c485485946dcd5f284",
            "25a41fb7cd5a4d39b0718eb1815979b7",
            "d87a7d46a6c149308644802c12feb5b8",
            "6b7f5ebc4e01441dba76185a8db381df",
            "32aac4634fea4587b08d776eb143300d",
            "7cd0daf0912841a19080b51c11e42bde",
            "74d4016c07184d49b9df9c21ba90fc01",
            "80caff4fe7964bf49d882a2d7a547864",
            "dcc03858c4064b6e88c9e02caeb371ba",
            "72f70ef79cf54c298fbc7481a874663b",
            "247e1842fdc14d8293b957547a68f514",
            "211cecea0fea4849a463445a0eb8861e",
            "5ae4a7d6ce72490295fe76e1da6530ac",
            "3df21eacfbd34cb093879781c5250c81",
            "5401f93d834a402e9bee60f1fd2c1a4a",
            "07879fecd5b4403884bcd5ed0ac131b5",
            "4ca88d000243482ebe6c4c5f588da024",
            "49351410cb1145939e81f81d153f4102",
            "3afb66fd08af49beaeb7388e4aeb0578",
            "58acf8087cfa4d68b4d7f80f6a92b55a",
            "936db0ded7564211902d9a44462a2583"
          ]
        }
      },
      "source": [
        "transform = transforms.Compose([transforms.ToTensor(), NormalizeTransform()])\n",
        "\n",
        "train_dataset = torchvision.datasets.FashionMNIST(train = True,\n",
        "                                  root = '.',\n",
        "                                  download = True,\n",
        "                                  transform = transform)\n",
        "\n",
        "test_dataset = torchvision.datasets.FashionMNIST(train = False,\n",
        "                                  root = '.',\n",
        "                                  download = True, \n",
        "                                  transform = transform)\n",
        "\n",
        "train_dataloader = torch.utils.data.DataLoader(train_dataset, batch_size = BATCH_SIZE, shuffle = True, num_workers = 0)\n",
        "test_dataloader  = torch.utils.data.DataLoader(test_dataset, batch_size = BATCH_SIZE, shuffle = False, num_workers = 0)"
      ],
      "execution_count": 0,
      "outputs": [
        {
          "output_type": "stream",
          "text": [
            "Downloading http://fashion-mnist.s3-website.eu-central-1.amazonaws.com/train-images-idx3-ubyte.gz to ./FashionMNIST/raw/train-images-idx3-ubyte.gz\n"
          ],
          "name": "stdout"
        },
        {
          "output_type": "display_data",
          "data": {
            "application/vnd.jupyter.widget-view+json": {
              "model_id": "c2c61a3b8c70424c84cb63d8c91a3f2f",
              "version_minor": 0,
              "version_major": 2
            },
            "text/plain": [
              "HBox(children=(IntProgress(value=1, bar_style='info', max=1), HTML(value='')))"
            ]
          },
          "metadata": {
            "tags": []
          }
        },
        {
          "output_type": "stream",
          "text": [
            "Extracting ./FashionMNIST/raw/train-images-idx3-ubyte.gz to ./FashionMNIST/raw\n",
            "Downloading http://fashion-mnist.s3-website.eu-central-1.amazonaws.com/train-labels-idx1-ubyte.gz to ./FashionMNIST/raw/train-labels-idx1-ubyte.gz\n"
          ],
          "name": "stdout"
        },
        {
          "output_type": "display_data",
          "data": {
            "application/vnd.jupyter.widget-view+json": {
              "model_id": "a5235f100a9e4889a60539f85fdaf4af",
              "version_minor": 0,
              "version_major": 2
            },
            "text/plain": [
              "HBox(children=(IntProgress(value=1, bar_style='info', max=1), HTML(value='')))"
            ]
          },
          "metadata": {
            "tags": []
          }
        },
        {
          "output_type": "stream",
          "text": [
            "Extracting ./FashionMNIST/raw/train-labels-idx1-ubyte.gz to ./FashionMNIST/raw\n",
            "Downloading http://fashion-mnist.s3-website.eu-central-1.amazonaws.com/t10k-images-idx3-ubyte.gz to ./FashionMNIST/raw/t10k-images-idx3-ubyte.gz\n"
          ],
          "name": "stdout"
        },
        {
          "output_type": "display_data",
          "data": {
            "application/vnd.jupyter.widget-view+json": {
              "model_id": "7cd0daf0912841a19080b51c11e42bde",
              "version_minor": 0,
              "version_major": 2
            },
            "text/plain": [
              "HBox(children=(IntProgress(value=1, bar_style='info', max=1), HTML(value='')))"
            ]
          },
          "metadata": {
            "tags": []
          }
        },
        {
          "output_type": "stream",
          "text": [
            "Extracting ./FashionMNIST/raw/t10k-images-idx3-ubyte.gz to ./FashionMNIST/raw\n",
            "Downloading http://fashion-mnist.s3-website.eu-central-1.amazonaws.com/t10k-labels-idx1-ubyte.gz to ./FashionMNIST/raw/t10k-labels-idx1-ubyte.gz\n"
          ],
          "name": "stdout"
        },
        {
          "output_type": "display_data",
          "data": {
            "application/vnd.jupyter.widget-view+json": {
              "model_id": "3df21eacfbd34cb093879781c5250c81",
              "version_minor": 0,
              "version_major": 2
            },
            "text/plain": [
              "HBox(children=(IntProgress(value=1, bar_style='info', max=1), HTML(value='')))"
            ]
          },
          "metadata": {
            "tags": []
          }
        },
        {
          "output_type": "stream",
          "text": [
            "Extracting ./FashionMNIST/raw/t10k-labels-idx1-ubyte.gz to ./FashionMNIST/raw\n",
            "Processing...\n",
            "\n",
            "\n",
            "\n",
            "Done!\n"
          ],
          "name": "stdout"
        },
        {
          "output_type": "stream",
          "text": [
            "/pytorch/torch/csrc/utils/tensor_numpy.cpp:141: UserWarning: The given NumPy array is not writeable, and PyTorch does not support non-writeable tensors. This means you can write to the underlying (supposedly non-writeable) NumPy array using the tensor. You may want to copy the array to protect its data or make it writeable before converting it to a tensor. This type of warning will be suppressed for the rest of this program.\n"
          ],
          "name": "stderr"
        }
      ]
    },
    {
      "cell_type": "markdown",
      "metadata": {
        "id": "Lp1C7ZzwZw27",
        "colab_type": "text"
      },
      "source": [
        "### Train the base model"
      ]
    },
    {
      "cell_type": "code",
      "metadata": {
        "id": "P4DYVhR8ZwGr",
        "colab_type": "code",
        "outputId": "3aa6b3e4-43f6-49fc-b3e9-b53d50eb2a2b",
        "colab": {
          "base_uri": "https://localhost:8080/",
          "height": 221
        }
      },
      "source": [
        "torch.manual_seed(0)\n",
        "net         = ConvNet(3, 3, 8, 8, 100)\n",
        "init_params = initParams(method = INITIALIZAION)\n",
        "net.apply(init_params)\n",
        "\n",
        "criterion = nn.CrossEntropyLoss()\n",
        "optimizer = optim.SGD(net.parameters(), lr = LEARNING_RATE, momentum = MOMENTUM)\n",
        "\n",
        "test_acc, time_ = train_and_evaluate(network = net,\\\n",
        "                                    criterion=criterion,\\\n",
        "                                    optimizer=optimizer,\\\n",
        "                                    train_dataloader = train_dataloader,\\\n",
        "                                    test_dataloader = test_dataloader,\\\n",
        "                                    train_till=90)"
      ],
      "execution_count": 0,
      "outputs": [
        {
          "output_type": "stream",
          "text": [
            "[BATCH:   256]\t Loss: 0.679\t Accuracy: 75.317 %\t Test Loss: 0.514095\t Test Accuracy: 81.379792 %\n",
            "[BATCH:   512]\t Loss: 0.455\t Accuracy: 83.496 %\t Test Loss: 0.462741\t Test Accuracy: 83.316693 %\n",
            "[BATCH:   768]\t Loss: 0.415\t Accuracy: 84.937 %\t Test Loss: 0.411156\t Test Accuracy: 85.732827 %\n",
            "[BATCH:  1024]\t Loss: 0.369\t Accuracy: 86.560 %\t Test Loss: 0.385225\t Test Accuracy: 85.942492 %\n",
            "[BATCH:  1280]\t Loss: 0.341\t Accuracy: 87.903 %\t Test Loss: 0.341637\t Test Accuracy: 87.759585 %\n",
            "[BATCH:  1536]\t Loss: 0.343\t Accuracy: 87.854 %\t Test Loss: 0.365248\t Test Accuracy: 86.861022 %\n",
            "[BATCH:  1792]\t Loss: 0.329\t Accuracy: 88.232 %\t Test Loss: 0.360093\t Test Accuracy: 87.030751 %\n",
            "[BATCH:   256]\t Loss: 0.290\t Accuracy: 89.075 %\t Test Loss: 0.328481\t Test Accuracy: 88.029153 %\n",
            "[BATCH:   512]\t Loss: 0.289\t Accuracy: 89.771 %\t Test Loss: 0.362681\t Test Accuracy: 87.460064 %\n",
            "[BATCH:   768]\t Loss: 0.274\t Accuracy: 89.453 %\t Test Loss: 0.329850\t Test Accuracy: 88.188898 %\n",
            "[BATCH:  1024]\t Loss: 0.282\t Accuracy: 89.453 %\t Test Loss: 0.324310\t Test Accuracy: 88.218850 %\n",
            "[BATCH:  1280]\t Loss: 0.270\t Accuracy: 90.112 %\t Test Loss: 0.297432\t Test Accuracy: 89.017572 %\n"
          ],
          "name": "stdout"
        }
      ]
    },
    {
      "cell_type": "markdown",
      "metadata": {
        "id": "psHBh1o9aeaz",
        "colab_type": "text"
      },
      "source": [
        "### Save the model"
      ]
    },
    {
      "cell_type": "code",
      "metadata": {
        "id": "zUD4QbnZcP3U",
        "colab_type": "code",
        "outputId": "bda6a910-7a3e-449c-888c-4a63a1b277e5",
        "colab": {
          "base_uri": "https://localhost:8080/",
          "height": 71
        }
      },
      "source": [
        "torch.save(net, \"base_model.pth\")\n",
        "!cp base_model.pth drive/My\\ Drive/SysDL/Assg\\ 3/pruning_models/\n",
        "base_model_path = LOG_DIR + \"base_model.pth\"\n",
        "log(\"base_model\", test_acc)"
      ],
      "execution_count": 0,
      "outputs": [
        {
          "output_type": "stream",
          "text": [
            "/usr/local/lib/python3.6/dist-packages/torch/serialization.py:402: UserWarning: Couldn't retrieve source code for container of type ConvNet. It won't be checked for correctness upon loading.\n",
            "  \"type \" + obj.__name__ + \". It won't be checked \"\n"
          ],
          "name": "stderr"
        }
      ]
    },
    {
      "cell_type": "markdown",
      "metadata": {
        "id": "k0x0Y9MbneBY",
        "colab_type": "text"
      },
      "source": [
        "### Inspect weights and bias"
      ]
    },
    {
      "cell_type": "code",
      "metadata": {
        "id": "szsWT1DKniyi",
        "colab_type": "code",
        "outputId": "833486d9-0947-4220-bb38-11d30c80b628",
        "colab": {
          "base_uri": "https://localhost:8080/",
          "height": 312
        }
      },
      "source": [
        "model = ConvNet(3, 3, 8, 8, 100)\n",
        "model = torch.load(base_model_path)\n",
        "summary(model, (1, 28, 28))"
      ],
      "execution_count": 0,
      "outputs": [
        {
          "output_type": "stream",
          "text": [
            "----------------------------------------------------------------\n",
            "        Layer (type)               Output Shape         Param #\n",
            "================================================================\n",
            "            Conv2d-1            [-1, 8, 26, 26]              80\n",
            "            Conv2d-2            [-1, 8, 24, 24]             584\n",
            "            Linear-3                  [-1, 100]         460,900\n",
            "            Linear-4                   [-1, 10]           1,010\n",
            "================================================================\n",
            "Total params: 462,574\n",
            "Trainable params: 462,574\n",
            "Non-trainable params: 0\n",
            "----------------------------------------------------------------\n",
            "Input size (MB): 0.00\n",
            "Forward/backward pass size (MB): 0.08\n",
            "Params size (MB): 1.76\n",
            "Estimated Total Size (MB): 1.84\n",
            "----------------------------------------------------------------\n"
          ],
          "name": "stdout"
        }
      ]
    },
    {
      "cell_type": "markdown",
      "metadata": {
        "id": "jb350huyajEo",
        "colab_type": "text"
      },
      "source": [
        "### Define basic functions for channel pruning"
      ]
    },
    {
      "cell_type": "code",
      "metadata": {
        "id": "cTVy8REBn65M",
        "colab_type": "code",
        "colab": {}
      },
      "source": [
        "def is_weight_conv(param):\n",
        "    \"\"\"\n",
        "    Checks whether a weight parameter belongs to Convolutional layer or not.\n",
        "\n",
        "    \"\"\"\n",
        "    return len(list(param.data.size())) == 4\n",
        "\n",
        "def is_weight_dense(param):\n",
        "    \"\"\"\n",
        "    Checks whether a weight parameter belongs to Dense layer or not.\n",
        "\n",
        "    \"\"\"\n",
        "    return len(list(param.data.size())) == 2\n",
        "\n",
        "def uniformize(x):\n",
        "    \"\"\"\n",
        "    Normalizes any numpy array between 0 and 1.\n",
        "\n",
        "    \"\"\"\n",
        "    return (x-np.min(x))/(np.max(x)-np.min(x))\n",
        "\n",
        "def prune_conv_channel(model, out_model, channel, layer_name, next_layer_name):\n",
        "    \"\"\"\n",
        "    Prunes the given channel from the convolutional layer.\n",
        "    \n",
        "    @param model           : (nn.Module) Base model from which has to be pruned.\n",
        "    @param out_model       : (nn.Module) New model with architecture same as the \n",
        "                             pruned model.\n",
        "\n",
        "    NOTE: Models will be passed by reference.\n",
        "\n",
        "    @param channel         : The channel to be pruned.\n",
        "    @param layer_name      : Layer name of the layer which is to be pruned.\n",
        "    @param next_layer_name : Layer name of the layer succeeding the layer to be \n",
        "                             pruned.\n",
        "\n",
        "    @return new model      : New model with parameters copied.\n",
        "\n",
        "    Implimentation details\n",
        "    ======================\n",
        "\n",
        "    Step 1. Remove channel from the weights of current layer.\n",
        "    Step 2. Remove channel from the bias of the current layer.\n",
        "    Step 3. If next layer is convolutional,\n",
        "                Remove the input channel from the weights.\n",
        "            If next layer is fully connected,\n",
        "                Remove the segment from the weights corresponding to the removed\n",
        "                inputs.\n",
        "\n",
        "    \"\"\"\n",
        "\n",
        "    num_channels     = None\n",
        "    new_model_params = out_model.state_dict()\n",
        "    \n",
        "    for name, param in model.named_parameters():\n",
        "        new_model_params[name] = param.data\n",
        "\n",
        "        if layer_name in name:\n",
        "            \n",
        "            if \"weight\" in name:\n",
        "                \"\"\"\n",
        "                Remove weight in the given channel.\n",
        "\n",
        "                \"\"\"\n",
        "\n",
        "                other_channels = []\n",
        "\n",
        "                if channel:\n",
        "                    other_channels.append(param.data[:channel,:,:,:])\n",
        "                if param.data.size()[0] > channel + 1:\n",
        "                    other_channels.append(param.data[channel+1:,:,:,:])\n",
        "\n",
        "                num_channels           = param.data.size()[0]  \n",
        "                new_model_params[name] = torch.cat(other_channels, dim = 0)\n",
        "                \n",
        "            if \"bias\" in name:\n",
        "                \"\"\"\n",
        "                Remove bias in the given channel.\n",
        "\n",
        "                \"\"\"\n",
        "\n",
        "                other_channels = []\n",
        "\n",
        "                if channel:\n",
        "                    other_channels.append(param.data[:channel])\n",
        "                if param.data.size()[0] > channel + 1:\n",
        "                    other_channels.append(param.data[channel+1:])\n",
        "                    \n",
        "                new_model_params[name] = torch.cat(other_channels, dim = 0)\n",
        "\n",
        "    for name, param in model.named_parameters():\n",
        "        if next_layer_name in name:\n",
        "            \"\"\"\n",
        "            Check if the layer is conv or dense.\n",
        "\n",
        "            \"\"\"\n",
        "\n",
        "            if is_weight_conv(param) and \"weight\" in name:\n",
        "                \"\"\"\n",
        "                Remove input channel in weights.\n",
        "\n",
        "                \"\"\"\n",
        "\n",
        "                other_channels = []\n",
        "\n",
        "                if channel:\n",
        "                    other_channels.append(param.data[:,:channel,:,:])\n",
        "                if param.data.size()[1] > channel + 1:\n",
        "                    other_channels.append(param.data[:,channel+1:,:,:])\n",
        "                    \n",
        "                new_model_params[name] = torch.cat(other_channels, dim = 1)\n",
        "\n",
        "            elif \"weight\" in name:\n",
        "                \"\"\"\n",
        "                Remove input segment in weights.\n",
        "\n",
        "                \"\"\"\n",
        "\n",
        "                segment_length = int(param.data.size()[-1]/num_channels)\n",
        "                other_channels = []\n",
        "\n",
        "                if channel:\n",
        "                    other_channels.append(param.data[:,:channel*segment_length])\n",
        "                if param.data.size()[1] > channel + 1:\n",
        "                    other_channels.append(param.data[:,(channel+1)*segment_length:])\n",
        "\n",
        "                new_model_params[name] = torch.cat(other_channels, dim = 1)\n",
        "\n",
        "    out_model.load_state_dict(new_model_params)\n",
        "    return out_model\n",
        "\n",
        "\n",
        "\n",
        "\n",
        "def prune_fc_neurons(model, out_model, neuron, layer_name, next_layer_name):\n",
        "    \"\"\"\n",
        "    Prunes the given neuron from the convolutional layer.\n",
        "    \n",
        "    @param model           : (nn.Module) Base model from which has to be pruned.\n",
        "    @param out_model       : (nn.Model) New model with architecture same as the \n",
        "                             pruned model.\n",
        "\n",
        "    NOTE: Models will be passed by reference.\n",
        "\n",
        "    @param neuron          : The neuron to be pruned.\n",
        "    @param layer_name      : Layer name of the layer which is to be pruned.\n",
        "    @param next_layer_name : Layer name of the layer succeeding the layer to be \n",
        "                             pruned.\n",
        "\n",
        "    @return new model      : New model with parameters copied.\n",
        "\n",
        "    Implimentation details\n",
        "    ======================\n",
        "\n",
        "    Step 1. Remove neuron from the weights of current layer.\n",
        "    Step 2. Remove neuron from the bias of the current layer.\n",
        "    Step 3. Remove the segment from the weights corresponding to the removed\n",
        "            inputs.\n",
        "\n",
        "    \"\"\"\n",
        "\n",
        "    num_neurons      = None\n",
        "    new_model_params = out_model.state_dict()\n",
        "\n",
        "\n",
        "    for name, param in model.named_parameters():\n",
        "        new_model_params[name] = param.data\n",
        "\n",
        "        if layer_name in name:\n",
        "            if \"weight\" in name:\n",
        "                \"\"\"\n",
        "                Remove weight in the given neuron.\n",
        "\n",
        "                \"\"\"\n",
        "\n",
        "                other_neurons = []\n",
        "\n",
        "                if neuron:\n",
        "                    other_neurons.append(param.data[:neuron,:])\n",
        "                if param.data.size()[0] > neuron + 1:\n",
        "                    other_neurons.append(param.data[neuron+1:,:])\n",
        "\n",
        "                num_neurons            = param.data.size()[0]  \n",
        "                \n",
        "                new_model_params[name] = torch.cat(other_neurons, dim = 0)\n",
        "                \n",
        "            if \"bias\" in name:\n",
        "                \"\"\"\n",
        "                Remove bias in the given neuron.\n",
        "\n",
        "                \"\"\"\n",
        "\n",
        "                other_neurons = []\n",
        "\n",
        "                if neuron:\n",
        "                    other_neurons.append(param.data[:neuron])\n",
        "                if param.data.size()[0] > neuron + 1:\n",
        "                    other_neurons.append(param.data[neuron+1:])\n",
        "                    \n",
        "                new_model_params[name] = torch.cat(other_neurons, dim = 0)\n",
        "\n",
        "    for name, param in model.named_parameters():\n",
        "        if next_layer_name in name:\n",
        "            if \"weight\" in name:\n",
        "                \"\"\"\n",
        "                Remove input segment in weights.\n",
        "\n",
        "                \"\"\"\n",
        "\n",
        "                other_neurons = []\n",
        "                if neuron:\n",
        "                    other_neurons.append(param.data[:,:neuron])\n",
        "                if param.data.size()[1] > neuron + 1:\n",
        "                    other_neurons.append(param.data[:,(neuron+1):])\n",
        "                \n",
        "                new_model_params[name] = torch.cat(other_neurons, dim = 1)\n",
        "\n",
        "    out_model.load_state_dict(new_model_params)\n",
        "    return out_model"
      ],
      "execution_count": 0,
      "outputs": []
    },
    {
      "cell_type": "markdown",
      "metadata": {
        "id": "XD-zytwKbbCg",
        "colab_type": "text"
      },
      "source": [
        "### Test pruning"
      ]
    },
    {
      "cell_type": "code",
      "metadata": {
        "id": "OeqyRQpv3ao4",
        "colab_type": "code",
        "outputId": "27862965-4ca7-4492-d524-86eb116d853c",
        "colab": {
          "base_uri": "https://localhost:8080/",
          "height": 51
        }
      },
      "source": [
        "new_model  = ConvNet(3, 3, 7, 8, 100)\n",
        "new_model2 = ConvNet(3, 3, 8, 8, 99)\n",
        "\n",
        "prune_conv_channel(model = model, out_model = new_model, channel = 6, layer_name = \"conv_1\", next_layer_name = \"conv_2\")\n",
        "prune_fc_neurons(model   = model, out_model = new_model2, neuron = 99, layer_name = \"fc_1\", next_layer_name = \"fc_2\")\n",
        "\n",
        "_, acc  = test(new_model, test_dataloader, criterion, accuracy)\n",
        "_, acc2 = test(new_model2, test_dataloader, criterion, accuracy)\n",
        "\n",
        "print(\"New model accuracy: %0.2f %%\" %(acc*100))\n",
        "print(\"New model 2 accuracy: %0.2f %%\" %(acc2*100))\n"
      ],
      "execution_count": 0,
      "outputs": [
        {
          "output_type": "stream",
          "text": [
            "New model accuracy: 87.48 %\n",
            "New model 2 accuracy: 88.96 %\n"
          ],
          "name": "stdout"
        }
      ]
    },
    {
      "cell_type": "markdown",
      "metadata": {
        "id": "rc1-XRm8v6uo",
        "colab_type": "text"
      },
      "source": [
        "### Proposed heuristic\n",
        "\n",
        "Remove channels and neurons than influenze the output minimum. This can be founded by approximated the average of squared weights."
      ]
    },
    {
      "cell_type": "code",
      "metadata": {
        "id": "hIYPfV8GH6o5",
        "colab_type": "code",
        "colab": {}
      },
      "source": [
        "def predict_drop(network, layer_name):\n",
        "    \"\"\"\n",
        "    Predict the accuracy drop score.\n",
        "    \n",
        "    @param network    : The nn.Module model.\n",
        "    @param layer_name : The layer whose weights are about to be pruned.\n",
        "\n",
        "    @return pred      : NEGATIVE of the predicted drop.\n",
        "                        argmax(pred) gives the neuron/channel to be pruned.\n",
        "\n",
        "    \"\"\"\n",
        "\n",
        "    influenzes = []\n",
        "    for name, param in network.named_parameters():\n",
        "        if layer_name in name:\n",
        "            vals         = param.data\n",
        "            squared_vals = vals**2\n",
        "            if is_weight_conv(param):\n",
        "                \"\"\"\n",
        "                Conv weights\n",
        "\n",
        "                \"\"\"\n",
        "                influenzes.append(torch.mean(squared_vals,\\\n",
        "                                             dim = [1, 2, 3]))\n",
        "            elif is_weight_dense(param):\n",
        "                \"\"\"\n",
        "                FC weights.\n",
        "\n",
        "                \"\"\"\n",
        "                influenzes.append(torch.mean(squared_vals,\\\n",
        "                                             dim = [1]))\n",
        "            else:\n",
        "                \"\"\"\n",
        "                Biases\n",
        "                \"\"\"\n",
        "                influenzes.append(squared_vals)\n",
        "\n",
        "    pred = uniformize(-influenzes[0].numpy() - influenzes[1].numpy())\n",
        "    return pred\n"
      ],
      "execution_count": 0,
      "outputs": []
    },
    {
      "cell_type": "markdown",
      "metadata": {
        "id": "AC2uzSmEdW9g",
        "colab_type": "text"
      },
      "source": [
        "Compare prediction vs real simulation"
      ]
    },
    {
      "cell_type": "code",
      "metadata": {
        "id": "4MnLt2Ia0s1U",
        "colab_type": "code",
        "colab": {}
      },
      "source": [
        "pred = predict_drop(network = model, layer_name = \"conv_1\")"
      ],
      "execution_count": 0,
      "outputs": []
    },
    {
      "cell_type": "code",
      "metadata": {
        "id": "fCFVTngj1au7",
        "colab_type": "code",
        "outputId": "68201ecd-4cee-4f35-8b51-7c72e2112834",
        "colab": {
          "base_uri": "https://localhost:8080/",
          "height": 153
        }
      },
      "source": [
        "real = []\n",
        "for i in range(8):\n",
        "    print(\"Step\", i, \"of\", 8)\n",
        "    new_model = ConvNet(3, 3, 7, 8, 100)\n",
        "    prune_conv_channel(model           = model,\\\n",
        "                       out_model       = new_model,\\\n",
        "                       channel         = i,\\\n",
        "                       layer_name      = \"conv_1\",\\\n",
        "                       next_layer_name = \"conv_2\")\n",
        "    \n",
        "    _, acc = test(new_model,\\\n",
        "                  test_dataloader,\\\n",
        "                  criterion,\\\n",
        "                  accuracy)\n",
        "    \n",
        "    real.append(acc)"
      ],
      "execution_count": 0,
      "outputs": [
        {
          "output_type": "stream",
          "text": [
            "Step 0 of 8\n",
            "Step 1 of 8\n",
            "Step 2 of 8\n",
            "Step 3 of 8\n",
            "Step 4 of 8\n",
            "Step 5 of 8\n",
            "Step 6 of 8\n",
            "Step 7 of 8\n"
          ],
          "name": "stdout"
        }
      ]
    },
    {
      "cell_type": "code",
      "metadata": {
        "id": "V6xlNaiv_fNx",
        "colab_type": "code",
        "colab": {}
      },
      "source": [
        "real = uniformize(np.asarray(real))"
      ],
      "execution_count": 0,
      "outputs": []
    },
    {
      "cell_type": "markdown",
      "metadata": {
        "id": "5gEYiom8dyes",
        "colab_type": "text"
      },
      "source": [
        "### Plot the comparison"
      ]
    },
    {
      "cell_type": "code",
      "metadata": {
        "id": "WdhllY_C51RQ",
        "colab_type": "code",
        "outputId": "7834961f-3efb-47c7-a757-43c179c78379",
        "colab": {
          "base_uri": "https://localhost:8080/",
          "height": 378
        }
      },
      "source": [
        "mpl.style.use('seaborn')\n",
        "fig, ax  = plt.subplots()\n",
        "channels = np.arange(8)\n",
        "\n",
        "ax.plot(channels, real,     'C2', label = \"Real Influence\")\n",
        "ax.plot(channels, pred[:8], 'C1', label = \"Predicted Influence\")\n",
        "\n",
        "plt.ylabel(\"Normalized influence\")\n",
        "plt.xlabel(\"Channels\")\n",
        "\n",
        "plt.legend()"
      ],
      "execution_count": 0,
      "outputs": [
        {
          "output_type": "execute_result",
          "data": {
            "text/plain": [
              "<matplotlib.legend.Legend at 0x7fcb7d15bc88>"
            ]
          },
          "metadata": {
            "tags": []
          },
          "execution_count": 16
        },
        {
          "output_type": "display_data",
          "data": {
            "image/png": "[encoded data removed]",
            "text/plain": [
              "<Figure size 576x396 with 1 Axes>"
            ]
          },
          "metadata": {
            "tags": []
          }
        }
      ]
    },
    {
      "cell_type": "markdown",
      "metadata": {
        "id": "dKTnRaSXFM4A",
        "colab_type": "text"
      },
      "source": [
        "### Define important functions"
      ]
    },
    {
      "cell_type": "code",
      "metadata": {
        "id": "QiZy_9hKEVLf",
        "colab_type": "code",
        "colab": {}
      },
      "source": [
        "def get_pruning_triplet(network,\\\n",
        "                        layer_name,\\\n",
        "                        architecture,\\\n",
        "                        train_dataloader,\\\n",
        "                        test_dataloader,\\\n",
        "                        criterion,\\\n",
        "                        accuracy,\\\n",
        "                        input_size = (1, 28, 28),\\\n",
        "                        verbose = False):\n",
        "    \n",
        "    \"\"\"\n",
        "    Prunes a network in the given way and tests its performance.\n",
        "        Step 1 : The test accuracy of the given network is calculated before\n",
        "                 pruning.\n",
        "        Step 2 : A new network is created by pruning the given model.\n",
        "        Step 3 : Test accuracy of this network is found out.\n",
        "        Step 4 : The new pruned network is trained for 5 epochs.\n",
        "        Step 5 : The test accuracy of the new network is found out.\n",
        "\n",
        "    @param network          : The base model nn.Module.\n",
        "    @param layer_name       : The name of the layer which has to be pruned.\n",
        "    @param architecture     : A python dict depicting the network architecture. \n",
        "                              A sample format is given below:\n",
        "\n",
        "                            {\n",
        "                                \"name\"   : [\"type : conv/fc\", arg1, arg2]\n",
        "                                \"name_2\" : [\"conv\", <kernel size>, <filters>]\n",
        "                                \"name_3\" : [\"fc\",   <no of neurons>]\n",
        "                                \"conv_1\" : [\"conv\", 3, 8],\n",
        "                                \"conv_2\" : [\"conv\", 3, 8],\n",
        "                                \"fc_1\"   : [\"fc\",   100],\n",
        "                                \"fc_2\"   : [\"fc\",   10]\n",
        "                            }\n",
        "                            \n",
        "    @param train_dataloader : The train dataloader object.\n",
        "    @param test_dataloader  : The test dataloader object.\n",
        "    @param criterion        : The loss function.\n",
        "    @param accuracy         : The function to calculate accuracy.\n",
        "    @param input size       : Size of the input images.\n",
        "    @param verbose          : Prints more logs if set to true.\n",
        "\n",
        "    @return                 : Triplet-> Accuracy before pruning\n",
        "                                        Accuracy after pruning\n",
        "                                        Accuracy after training\n",
        "                              New model, pruned and trained                         \n",
        "\n",
        "    \"\"\"\n",
        "\n",
        "    def as_int(arg_a, arg_b):\n",
        "        if arg_a == arg_b:\n",
        "            return 1\n",
        "        else:\n",
        "            return 0\n",
        "\n",
        "    def next_layer_name():\n",
        "        return list(architecture)[list(architecture).index(layer_name) + 1]\n",
        "\n",
        "    _, acc_before_pruning = test(network, test_dataloader, criterion, accuracy)\n",
        "    predicted_drops       = predict_drop(network = network, layer_name =layer_name)\n",
        "    arg_to_be_droped      = np.argmax(predicted_drops)\n",
        "\n",
        "    print(\"Predictions\")\n",
        "    print(predicted_drops)\n",
        "    \n",
        "    print(\"Dropping channel/neuron %d from %s...\" %(arg_to_be_droped, layer_name))\n",
        "    current_layer_type = architecture[layer_name][0]\n",
        "    new_model          = ConvNet(architecture[\"conv_1\"][1],\\\n",
        "                                 architecture[\"conv_2\"][1],\\\n",
        "                                 architecture[\"conv_1\"][2] - as_int(layer_name, \"conv_1\"),\\\n",
        "                                 architecture[\"conv_2\"][2] - as_int(layer_name, \"conv_2\"),\\\n",
        "                                 architecture[\"fc_1\"][1]   - as_int(layer_name, \"fc1\"))\n",
        "    \n",
        "    if current_layer_type == \"conv\":\n",
        "        prune_conv_channel(model           = network,\\\n",
        "                           out_model       = new_model,\\\n",
        "                           channel         = arg_to_be_droped,\\\n",
        "                           layer_name      = layer_name,\\\n",
        "                           next_layer_name = next_layer_name())\n",
        "\n",
        "    if verbose:\n",
        "        print(\"New model\")\n",
        "        summary(new_model, input_size)\n",
        "\n",
        "\n",
        "    _, acc_after_pruning = test(new_model, test_dataloader, criterion, accuracy)\n",
        "    \n",
        "    print(\"Training new model... This may take a while...\")\n",
        "    optimizer  = optim.SGD(new_model.parameters(), lr = 1e-3, momentum = MOMENTUM)\n",
        "    new_model  = train(new_model, criterion, optimizer, 5, train_dataloader) \n",
        "    _, new_acc = test(new_model, test_dataloader, criterion, accuracy)\n",
        "    \n",
        "    print(\"\\nAccuracy Triplet\\n\" + \"=\"*20 + \"\\nAccuracy before pruning:\\t%0.3f %%\" %(acc_before_pruning*100))\n",
        "    print(\"Acuracy after pruning:\\t\\t%0.3f %%\"  %(acc_after_pruning*100))\n",
        "    print(\"Acuracy after training:\\t\\t%0.3f %%\" %(new_acc*100))\n",
        "\n",
        "    return acc_before_pruning,\\\n",
        "           acc_after_pruning,\\\n",
        "           new_acc,\\\n",
        "           new_model"
      ],
      "execution_count": 0,
      "outputs": []
    },
    {
      "cell_type": "markdown",
      "metadata": {
        "id": "0ImSKreGiEqG",
        "colab_type": "text"
      },
      "source": [
        "### Prune layer 1 once and check"
      ]
    },
    {
      "cell_type": "code",
      "metadata": {
        "id": "a3Uk2hD6GmZi",
        "colab_type": "code",
        "outputId": "bb19aa52-1b30-4b1b-d371-83eefee5bf4b",
        "colab": {
          "base_uri": "https://localhost:8080/",
          "height": 506
        }
      },
      "source": [
        "architecture = {\"conv_1\" : [\"conv\", 3, 8],\n",
        "                \"conv_2\" : [\"conv\", 3, 8],\n",
        "                \"fc_1\"   : [\"fc\", 100],\n",
        "                \"fc_2\"   : [\"fc\", 10]}\n",
        "\n",
        "optimizer = optim.SGD(net.parameters(), lr = 1e-3, momentum = MOMENTUM)\n",
        "get_pruning_triplet(network          = model,\\\n",
        "                    layer_name       = \"conv_1\",\\\n",
        "                    architecture     = architecture,\\\n",
        "                    train_dataloader = train_dataloader,\\\n",
        "                    test_dataloader  = test_dataloader,\\\n",
        "                    criterion        = criterion,\\\n",
        "                    accuracy         = accuracy)"
      ],
      "execution_count": 0,
      "outputs": [
        {
          "output_type": "stream",
          "text": [
            "Predictions\n",
            "[0.8845845  1.         0.33493328 0.9525502  0.8470237  0.\n",
            " 0.9424738  0.69176316]\n",
            "Dropping channel/neuron 1 from conv_1...\n",
            "Training new model... This may take a while...\n",
            "Epoch : 1\n"
          ],
          "name": "stdout"
        },
        {
          "output_type": "display_data",
          "data": {
            "text/html": [
              "\n",
              "        <progress\n",
              "            value='1'\n",
              "            max='1',\n",
              "            style='width: 100%'\n",
              "        >\n",
              "            1\n",
              "        </progress>\n",
              "    "
            ],
            "text/plain": [
              "<IPython.core.display.HTML object>"
            ]
          },
          "metadata": {
            "tags": []
          }
        },
        {
          "output_type": "stream",
          "text": [
            "Epoch : 2\n"
          ],
          "name": "stdout"
        },
        {
          "output_type": "display_data",
          "data": {
            "text/html": [
              "\n",
              "        <progress\n",
              "            value='1'\n",
              "            max='1',\n",
              "            style='width: 100%'\n",
              "        >\n",
              "            1\n",
              "        </progress>\n",
              "    "
            ],
            "text/plain": [
              "<IPython.core.display.HTML object>"
            ]
          },
          "metadata": {
            "tags": []
          }
        },
        {
          "output_type": "stream",
          "text": [
            "Epoch : 3\n"
          ],
          "name": "stdout"
        },
        {
          "output_type": "display_data",
          "data": {
            "text/html": [
              "\n",
              "        <progress\n",
              "            value='1'\n",
              "            max='1',\n",
              "            style='width: 100%'\n",
              "        >\n",
              "            1\n",
              "        </progress>\n",
              "    "
            ],
            "text/plain": [
              "<IPython.core.display.HTML object>"
            ]
          },
          "metadata": {
            "tags": []
          }
        },
        {
          "output_type": "stream",
          "text": [
            "Epoch : 4\n"
          ],
          "name": "stdout"
        },
        {
          "output_type": "display_data",
          "data": {
            "text/html": [
              "\n",
              "        <progress\n",
              "            value='1'\n",
              "            max='1',\n",
              "            style='width: 100%'\n",
              "        >\n",
              "            1\n",
              "        </progress>\n",
              "    "
            ],
            "text/plain": [
              "<IPython.core.display.HTML object>"
            ]
          },
          "metadata": {
            "tags": []
          }
        },
        {
          "output_type": "stream",
          "text": [
            "Epoch : 5\n"
          ],
          "name": "stdout"
        },
        {
          "output_type": "display_data",
          "data": {
            "text/html": [
              "\n",
              "        <progress\n",
              "            value='1'\n",
              "            max='1',\n",
              "            style='width: 100%'\n",
              "        >\n",
              "            1\n",
              "        </progress>\n",
              "    "
            ],
            "text/plain": [
              "<IPython.core.display.HTML object>"
            ]
          },
          "metadata": {
            "tags": []
          }
        },
        {
          "output_type": "stream",
          "text": [
            "\n",
            "Accuracy Triplet\n",
            "====================\n",
            "Accuracy before pruning:\t89.018 %\n",
            "Acuracy after pruning:\t\t88.159 %\n",
            "Acuracy after training:\t\t90.485 %\n"
          ],
          "name": "stdout"
        },
        {
          "output_type": "execute_result",
          "data": {
            "text/plain": [
              "(0.8901757188498403, 0.8815894568690096, 0.9048522364217252, ConvNet(\n",
              "   (conv_1): Conv2d(1, 7, kernel_size=(3, 3), stride=(1, 1))\n",
              "   (conv_2): Conv2d(7, 8, kernel_size=(3, 3), stride=(1, 1))\n",
              "   (fc_1): Linear(in_features=4608, out_features=100, bias=True)\n",
              "   (fc_2): Linear(in_features=100, out_features=10, bias=True)\n",
              " ))"
            ]
          },
          "metadata": {
            "tags": []
          },
          "execution_count": 107
        }
      ]
    },
    {
      "cell_type": "markdown",
      "metadata": {
        "id": "K1vxgFIIjAZH",
        "colab_type": "text"
      },
      "source": [
        "### Autoprune a layer"
      ]
    },
    {
      "cell_type": "markdown",
      "metadata": {
        "id": "HcDCf4-etzOE",
        "colab_type": "text"
      },
      "source": [
        "Setup MLflow"
      ]
    },
    {
      "cell_type": "code",
      "metadata": {
        "id": "5GRzT9jEtpkd",
        "colab_type": "code",
        "outputId": "d38dcd53-8bdd-47cf-f001-229446019743",
        "colab": {
          "base_uri": "https://localhost:8080/",
          "height": 749
        }
      },
      "source": [
        "!pip install mlflow"
      ],
      "execution_count": 0,
      "outputs": [
        {
          "output_type": "stream",
          "text": [
            "Requirement already satisfied: mlflow in /usr/local/lib/python3.6/dist-packages (1.8.0)\n",
            "Requirement already satisfied: sqlalchemy<=1.3.13 in /usr/local/lib/python3.6/dist-packages (from mlflow) (1.3.13)\n",
            "Requirement already satisfied: entrypoints in /usr/local/lib/python3.6/dist-packages (from mlflow) (0.3)\n",
            "Requirement already satisfied: gitpython>=2.1.0 in /usr/local/lib/python3.6/dist-packages (from mlflow) (3.1.2)\n",
            "Requirement already satisfied: Flask in /usr/local/lib/python3.6/dist-packages (from mlflow) (1.1.2)\n",
            "Requirement already satisfied: querystring-parser in /usr/local/lib/python3.6/dist-packages (from mlflow) (1.2.4)\n",
            "Requirement already satisfied: sqlparse in /usr/local/lib/python3.6/dist-packages (from mlflow) (0.3.1)\n",
            "Requirement already satisfied: requests>=2.17.3 in /usr/local/lib/python3.6/dist-packages (from mlflow) (2.23.0)\n",
            "Requirement already satisfied: gunicorn; platform_system != \"Windows\" in /usr/local/lib/python3.6/dist-packages (from mlflow) (20.0.4)\n",
            "Requirement already satisfied: click>=7.0 in /usr/local/lib/python3.6/dist-packages (from mlflow) (7.1.2)\n",
            "Requirement already satisfied: databricks-cli>=0.8.7 in /usr/local/lib/python3.6/dist-packages (from mlflow) (0.10.0)\n",
            "Requirement already satisfied: pyyaml in /usr/local/lib/python3.6/dist-packages (from mlflow) (3.13)\n",
            "Requirement already satisfied: pandas in /usr/local/lib/python3.6/dist-packages (from mlflow) (1.0.3)\n",
            "Requirement already satisfied: alembic in /usr/local/lib/python3.6/dist-packages (from mlflow) (1.4.2)\n",
            "Requirement already satisfied: six>=1.10.0 in /usr/local/lib/python3.6/dist-packages (from mlflow) (1.12.0)\n",
            "Requirement already satisfied: protobuf>=3.6.0 in /usr/local/lib/python3.6/dist-packages (from mlflow) (3.10.0)\n",
            "Requirement already satisfied: python-dateutil in /usr/local/lib/python3.6/dist-packages (from mlflow) (2.8.1)\n",
            "Requirement already satisfied: simplejson in /usr/local/lib/python3.6/dist-packages (from mlflow) (3.17.0)\n",
            "Requirement already satisfied: prometheus-flask-exporter in /usr/local/lib/python3.6/dist-packages (from mlflow) (0.13.0)\n",
            "Requirement already satisfied: cloudpickle in /usr/local/lib/python3.6/dist-packages (from mlflow) (1.3.0)\n",
            "Requirement already satisfied: gorilla in /usr/local/lib/python3.6/dist-packages (from mlflow) (0.3.0)\n",
            "Requirement already satisfied: numpy in /usr/local/lib/python3.6/dist-packages (from mlflow) (1.18.3)\n",
            "Requirement already satisfied: docker>=4.0.0 in /usr/local/lib/python3.6/dist-packages (from mlflow) (4.2.0)\n",
            "Requirement already satisfied: gitdb<5,>=4.0.1 in /usr/local/lib/python3.6/dist-packages (from gitpython>=2.1.0->mlflow) (4.0.5)\n",
            "Requirement already satisfied: Werkzeug>=0.15 in /usr/local/lib/python3.6/dist-packages (from Flask->mlflow) (1.0.1)\n",
            "Requirement already satisfied: itsdangerous>=0.24 in /usr/local/lib/python3.6/dist-packages (from Flask->mlflow) (1.1.0)\n",
            "Requirement already satisfied: Jinja2>=2.10.1 in /usr/local/lib/python3.6/dist-packages (from Flask->mlflow) (2.11.2)\n",
            "Requirement already satisfied: chardet<4,>=3.0.2 in /usr/local/lib/python3.6/dist-packages (from requests>=2.17.3->mlflow) (3.0.4)\n",
            "Requirement already satisfied: certifi>=2017.4.17 in /usr/local/lib/python3.6/dist-packages (from requests>=2.17.3->mlflow) (2020.4.5.1)\n",
            "Requirement already satisfied: urllib3!=1.25.0,!=1.25.1,<1.26,>=1.21.1 in /usr/local/lib/python3.6/dist-packages (from requests>=2.17.3->mlflow) (1.24.3)\n",
            "Requirement already satisfied: idna<3,>=2.5 in /usr/local/lib/python3.6/dist-packages (from requests>=2.17.3->mlflow) (2.9)\n",
            "Requirement already satisfied: setuptools>=3.0 in /usr/local/lib/python3.6/dist-packages (from gunicorn; platform_system != \"Windows\"->mlflow) (46.1.3)\n",
            "Requirement already satisfied: tabulate>=0.7.7 in /usr/local/lib/python3.6/dist-packages (from databricks-cli>=0.8.7->mlflow) (0.8.7)\n",
            "Requirement already satisfied: configparser>=0.3.5 in /usr/local/lib/python3.6/dist-packages (from databricks-cli>=0.8.7->mlflow) (5.0.0)\n",
            "Requirement already satisfied: pytz>=2017.2 in /usr/local/lib/python3.6/dist-packages (from pandas->mlflow) (2018.9)\n",
            "Requirement already satisfied: Mako in /usr/local/lib/python3.6/dist-packages (from alembic->mlflow) (1.1.2)\n",
            "Requirement already satisfied: python-editor>=0.3 in /usr/local/lib/python3.6/dist-packages (from alembic->mlflow) (1.0.4)\n",
            "Requirement already satisfied: prometheus-client in /usr/local/lib/python3.6/dist-packages (from prometheus-flask-exporter->mlflow) (0.7.1)\n",
            "Requirement already satisfied: websocket-client>=0.32.0 in /usr/local/lib/python3.6/dist-packages (from docker>=4.0.0->mlflow) (0.57.0)\n",
            "Requirement already satisfied: smmap<4,>=3.0.1 in /usr/local/lib/python3.6/dist-packages (from gitdb<5,>=4.0.1->gitpython>=2.1.0->mlflow) (3.0.4)\n",
            "Requirement already satisfied: MarkupSafe>=0.23 in /usr/local/lib/python3.6/dist-packages (from Jinja2>=2.10.1->Flask->mlflow) (1.1.1)\n"
          ],
          "name": "stdout"
        }
      ]
    },
    {
      "cell_type": "code",
      "metadata": {
        "id": "C7syGXJ3t5hU",
        "colab_type": "code",
        "outputId": "65a2574c-053f-42c2-9c2e-62da2cbca076",
        "colab": {
          "base_uri": "https://localhost:8080/",
          "height": 34
        }
      },
      "source": [
        "import mlflow\n",
        "from mlflow import log_metric, log_param, log_artifacts\n",
        "\n",
        "mlflow.set_tracking_uri(\"file:///content/drive/My Drive/SysDL/Assg 3/pruning_mlflow\")\n",
        "print(\"MLflow is now set to log in\", mlflow.get_tracking_uri())"
      ],
      "execution_count": 0,
      "outputs": [
        {
          "output_type": "stream",
          "text": [
            "MLflow is now set to log in file:///content/drive/My Drive/SysDL/Assg 3/pruning_mlflow\n"
          ],
          "name": "stdout"
        }
      ]
    },
    {
      "cell_type": "code",
      "metadata": {
        "id": "U5tQKjMIV2wI",
        "colab_type": "code",
        "colab": {}
      },
      "source": [
        "def auto_prune(network,\\\n",
        "              layer_name,\\\n",
        "              architecture,\\\n",
        "              train_dataloader,\\\n",
        "              test_dataloader,\\\n",
        "              criterion,\\\n",
        "              accuracy,\\\n",
        "              input_size = (1, 28, 28),\\\n",
        "              verbose = False,\n",
        "              max_accuracy_drop = 1):\n",
        "    \n",
        "    current_model             = copy.deepcopy(network)\n",
        "    current_architecture      = architecture\n",
        "    incremental_accuracy_drop = 0\n",
        "    possible                  = True\n",
        "\n",
        "    while((incremental_accuracy_drop < max_accuracy_drop) and possible):\n",
        "\n",
        "        acc_1, acc_2, acc_3, next_model = get_pruning_triplet(network          = current_model,\\\n",
        "                                                              layer_name       = layer_name,\\\n",
        "                                                              architecture     = current_architecture,\\\n",
        "                                                              train_dataloader = train_dataloader,\\\n",
        "                                                              test_dataloader  = test_dataloader,\\\n",
        "                                                              criterion        = criterion,\\\n",
        "                                                              accuracy         = accuracy)\n",
        "\n",
        "        incremental_accuracy_drop = (acc_1 - acc_3)*100\n",
        "        modified_layer = current_architecture[layer_name]\n",
        "        modified_layer[-1] -= 1\n",
        "        possible = modified_layer[-1]>1\n",
        "        current_architecture[layer_name] = modified_layer\n",
        "        current_model = copy.deepcopy(next_model)\n",
        "\n",
        "        with mlflow.start_run():\n",
        "            log_param(\"Layer\", layer_name)\n",
        "            log_param(\"New architecture\", modified_layer[-1])\n",
        "            log_param(\"Channels/Neurons\", current_architecture)\n",
        "            log_metric(\"Accuracy before pruning\", acc_1)\n",
        "            log_metric(\"Accuracy after pruning\", acc_2)\n",
        "            log_metric(\"Accuracy after training\", acc_3)\n",
        "            log_metric(\"Accuracy drop\", incremental_accuracy_drop)\n",
        "\n",
        "    return current_model\n"
      ],
      "execution_count": 0,
      "outputs": []
    },
    {
      "cell_type": "markdown",
      "metadata": {
        "id": "_nDTec0-0_LS",
        "colab_type": "text"
      },
      "source": [
        "# Make sure to delete existing MLflow logs"
      ]
    },
    {
      "cell_type": "code",
      "metadata": {
        "id": "l1kTNQq0rWmW",
        "colab_type": "code",
        "outputId": "7b5c3892-7f6a-482e-a22c-c5883be6e37a",
        "colab": {
          "base_uri": "https://localhost:8080/",
          "height": 1000
        }
      },
      "source": [
        "new_model = auto_prune(network          = model,\\\n",
        "                       layer_name       = \"conv_1\",\\\n",
        "                       architecture     = architecture,\\\n",
        "                       train_dataloader = train_dataloader,\\\n",
        "                       test_dataloader  = test_dataloader,\\\n",
        "                       criterion        = criterion,\\\n",
        "                       accuracy         = accuracy)"
      ],
      "execution_count": 0,
      "outputs": [
        {
          "output_type": "stream",
          "text": [
            "Predictions\n",
            "[0.8845845  1.         0.33493328 0.9525502  0.8470237  0.\n",
            " 0.9424738  0.69176316]\n",
            "Dropping channel/neuron 1 from conv_1...\n",
            "Training new model... This may take a while...\n",
            "Epoch : 1\n"
          ],
          "name": "stdout"
        },
        {
          "output_type": "display_data",
          "data": {
            "text/html": [
              "\n",
              "        <progress\n",
              "            value='1'\n",
              "            max='1',\n",
              "            style='width: 100%'\n",
              "        >\n",
              "            1\n",
              "        </progress>\n",
              "    "
            ],
            "text/plain": [
              "<IPython.core.display.HTML object>"
            ]
          },
          "metadata": {
            "tags": []
          }
        },
        {
          "output_type": "stream",
          "text": [
            "Epoch : 2\n"
          ],
          "name": "stdout"
        },
        {
          "output_type": "display_data",
          "data": {
            "text/html": [
              "\n",
              "        <progress\n",
              "            value='1'\n",
              "            max='1',\n",
              "            style='width: 100%'\n",
              "        >\n",
              "            1\n",
              "        </progress>\n",
              "    "
            ],
            "text/plain": [
              "<IPython.core.display.HTML object>"
            ]
          },
          "metadata": {
            "tags": []
          }
        },
        {
          "output_type": "stream",
          "text": [
            "Epoch : 3\n"
          ],
          "name": "stdout"
        },
        {
          "output_type": "display_data",
          "data": {
            "text/html": [
              "\n",
              "        <progress\n",
              "            value='1'\n",
              "            max='1',\n",
              "            style='width: 100%'\n",
              "        >\n",
              "            1\n",
              "        </progress>\n",
              "    "
            ],
            "text/plain": [
              "<IPython.core.display.HTML object>"
            ]
          },
          "metadata": {
            "tags": []
          }
        },
        {
          "output_type": "stream",
          "text": [
            "Epoch : 4\n"
          ],
          "name": "stdout"
        },
        {
          "output_type": "display_data",
          "data": {
            "text/html": [
              "\n",
              "        <progress\n",
              "            value='1'\n",
              "            max='1',\n",
              "            style='width: 100%'\n",
              "        >\n",
              "            1\n",
              "        </progress>\n",
              "    "
            ],
            "text/plain": [
              "<IPython.core.display.HTML object>"
            ]
          },
          "metadata": {
            "tags": []
          }
        },
        {
          "output_type": "stream",
          "text": [
            "Epoch : 5\n"
          ],
          "name": "stdout"
        },
        {
          "output_type": "display_data",
          "data": {
            "text/html": [
              "\n",
              "        <progress\n",
              "            value='1'\n",
              "            max='1',\n",
              "            style='width: 100%'\n",
              "        >\n",
              "            1\n",
              "        </progress>\n",
              "    "
            ],
            "text/plain": [
              "<IPython.core.display.HTML object>"
            ]
          },
          "metadata": {
            "tags": []
          }
        },
        {
          "output_type": "stream",
          "text": [
            "\n",
            "Accuracy Triplet\n",
            "====================\n",
            "Accuracy before pruning:\t89.018 %\n",
            "Acuracy after pruning:\t\t88.159 %\n",
            "Acuracy after training:\t\t90.625 %\n",
            "Predictions\n",
            "[0.978964   0.35309774 0.98795044 1.         0.         0.9940442\n",
            " 0.676462  ]\n",
            "Dropping channel/neuron 3 from conv_1...\n",
            "Training new model... This may take a while...\n",
            "Epoch : 1\n"
          ],
          "name": "stdout"
        },
        {
          "output_type": "display_data",
          "data": {
            "text/html": [
              "\n",
              "        <progress\n",
              "            value='1'\n",
              "            max='1',\n",
              "            style='width: 100%'\n",
              "        >\n",
              "            1\n",
              "        </progress>\n",
              "    "
            ],
            "text/plain": [
              "<IPython.core.display.HTML object>"
            ]
          },
          "metadata": {
            "tags": []
          }
        },
        {
          "output_type": "stream",
          "text": [
            "Epoch : 2\n"
          ],
          "name": "stdout"
        },
        {
          "output_type": "display_data",
          "data": {
            "text/html": [
              "\n",
              "        <progress\n",
              "            value='1'\n",
              "            max='1',\n",
              "            style='width: 100%'\n",
              "        >\n",
              "            1\n",
              "        </progress>\n",
              "    "
            ],
            "text/plain": [
              "<IPython.core.display.HTML object>"
            ]
          },
          "metadata": {
            "tags": []
          }
        },
        {
          "output_type": "stream",
          "text": [
            "Epoch : 3\n"
          ],
          "name": "stdout"
        },
        {
          "output_type": "display_data",
          "data": {
            "text/html": [
              "\n",
              "        <progress\n",
              "            value='1'\n",
              "            max='1',\n",
              "            style='width: 100%'\n",
              "        >\n",
              "            1\n",
              "        </progress>\n",
              "    "
            ],
            "text/plain": [
              "<IPython.core.display.HTML object>"
            ]
          },
          "metadata": {
            "tags": []
          }
        },
        {
          "output_type": "stream",
          "text": [
            "Epoch : 4\n"
          ],
          "name": "stdout"
        },
        {
          "output_type": "display_data",
          "data": {
            "text/html": [
              "\n",
              "        <progress\n",
              "            value='1'\n",
              "            max='1',\n",
              "            style='width: 100%'\n",
              "        >\n",
              "            1\n",
              "        </progress>\n",
              "    "
            ],
            "text/plain": [
              "<IPython.core.display.HTML object>"
            ]
          },
          "metadata": {
            "tags": []
          }
        },
        {
          "output_type": "stream",
          "text": [
            "Epoch : 5\n"
          ],
          "name": "stdout"
        },
        {
          "output_type": "display_data",
          "data": {
            "text/html": [
              "\n",
              "        <progress\n",
              "            value='1'\n",
              "            max='1',\n",
              "            style='width: 100%'\n",
              "        >\n",
              "            1\n",
              "        </progress>\n",
              "    "
            ],
            "text/plain": [
              "<IPython.core.display.HTML object>"
            ]
          },
          "metadata": {
            "tags": []
          }
        },
        {
          "output_type": "stream",
          "text": [
            "\n",
            "Accuracy Triplet\n",
            "====================\n",
            "Accuracy before pruning:\t90.625 %\n",
            "Acuracy after pruning:\t\t86.891 %\n",
            "Acuracy after training:\t\t90.845 %\n",
            "Predictions\n",
            "[1.         0.33222827 0.9722766  0.         0.9651336  0.5676467 ]\n",
            "Dropping channel/neuron 0 from conv_1...\n",
            "Training new model... This may take a while...\n",
            "Epoch : 1\n"
          ],
          "name": "stdout"
        },
        {
          "output_type": "display_data",
          "data": {
            "text/html": [
              "\n",
              "        <progress\n",
              "            value='1'\n",
              "            max='1',\n",
              "            style='width: 100%'\n",
              "        >\n",
              "            1\n",
              "        </progress>\n",
              "    "
            ],
            "text/plain": [
              "<IPython.core.display.HTML object>"
            ]
          },
          "metadata": {
            "tags": []
          }
        },
        {
          "output_type": "stream",
          "text": [
            "Epoch : 2\n"
          ],
          "name": "stdout"
        },
        {
          "output_type": "display_data",
          "data": {
            "text/html": [
              "\n",
              "        <progress\n",
              "            value='1'\n",
              "            max='1',\n",
              "            style='width: 100%'\n",
              "        >\n",
              "            1\n",
              "        </progress>\n",
              "    "
            ],
            "text/plain": [
              "<IPython.core.display.HTML object>"
            ]
          },
          "metadata": {
            "tags": []
          }
        },
        {
          "output_type": "stream",
          "text": [
            "Epoch : 3\n"
          ],
          "name": "stdout"
        },
        {
          "output_type": "display_data",
          "data": {
            "text/html": [
              "\n",
              "        <progress\n",
              "            value='1'\n",
              "            max='1',\n",
              "            style='width: 100%'\n",
              "        >\n",
              "            1\n",
              "        </progress>\n",
              "    "
            ],
            "text/plain": [
              "<IPython.core.display.HTML object>"
            ]
          },
          "metadata": {
            "tags": []
          }
        },
        {
          "output_type": "stream",
          "text": [
            "Epoch : 4\n"
          ],
          "name": "stdout"
        },
        {
          "output_type": "display_data",
          "data": {
            "text/html": [
              "\n",
              "        <progress\n",
              "            value='1'\n",
              "            max='1',\n",
              "            style='width: 100%'\n",
              "        >\n",
              "            1\n",
              "        </progress>\n",
              "    "
            ],
            "text/plain": [
              "<IPython.core.display.HTML object>"
            ]
          },
          "metadata": {
            "tags": []
          }
        },
        {
          "output_type": "stream",
          "text": [
            "Epoch : 5\n"
          ],
          "name": "stdout"
        },
        {
          "output_type": "display_data",
          "data": {
            "text/html": [
              "\n",
              "        <progress\n",
              "            value='1'\n",
              "            max='1',\n",
              "            style='width: 100%'\n",
              "        >\n",
              "            1\n",
              "        </progress>\n",
              "    "
            ],
            "text/plain": [
              "<IPython.core.display.HTML object>"
            ]
          },
          "metadata": {
            "tags": []
          }
        },
        {
          "output_type": "stream",
          "text": [
            "\n",
            "Accuracy Triplet\n",
            "====================\n",
            "Accuracy before pruning:\t90.845 %\n",
            "Acuracy after pruning:\t\t89.337 %\n",
            "Acuracy after training:\t\t90.745 %\n",
            "Predictions\n",
            "[0.29644275 0.928216   0.         1.         0.48440984]\n",
            "Dropping channel/neuron 3 from conv_1...\n",
            "Training new model... This may take a while...\n",
            "Epoch : 1\n"
          ],
          "name": "stdout"
        },
        {
          "output_type": "display_data",
          "data": {
            "text/html": [
              "\n",
              "        <progress\n",
              "            value='1'\n",
              "            max='1',\n",
              "            style='width: 100%'\n",
              "        >\n",
              "            1\n",
              "        </progress>\n",
              "    "
            ],
            "text/plain": [
              "<IPython.core.display.HTML object>"
            ]
          },
          "metadata": {
            "tags": []
          }
        },
        {
          "output_type": "stream",
          "text": [
            "Epoch : 2\n"
          ],
          "name": "stdout"
        },
        {
          "output_type": "display_data",
          "data": {
            "text/html": [
              "\n",
              "        <progress\n",
              "            value='1'\n",
              "            max='1',\n",
              "            style='width: 100%'\n",
              "        >\n",
              "            1\n",
              "        </progress>\n",
              "    "
            ],
            "text/plain": [
              "<IPython.core.display.HTML object>"
            ]
          },
          "metadata": {
            "tags": []
          }
        },
        {
          "output_type": "stream",
          "text": [
            "Epoch : 3\n"
          ],
          "name": "stdout"
        },
        {
          "output_type": "display_data",
          "data": {
            "text/html": [
              "\n",
              "        <progress\n",
              "            value='1'\n",
              "            max='1',\n",
              "            style='width: 100%'\n",
              "        >\n",
              "            1\n",
              "        </progress>\n",
              "    "
            ],
            "text/plain": [
              "<IPython.core.display.HTML object>"
            ]
          },
          "metadata": {
            "tags": []
          }
        },
        {
          "output_type": "stream",
          "text": [
            "Epoch : 4\n"
          ],
          "name": "stdout"
        },
        {
          "output_type": "display_data",
          "data": {
            "text/html": [
              "\n",
              "        <progress\n",
              "            value='1'\n",
              "            max='1',\n",
              "            style='width: 100%'\n",
              "        >\n",
              "            1\n",
              "        </progress>\n",
              "    "
            ],
            "text/plain": [
              "<IPython.core.display.HTML object>"
            ]
          },
          "metadata": {
            "tags": []
          }
        },
        {
          "output_type": "stream",
          "text": [
            "Epoch : 5\n"
          ],
          "name": "stdout"
        },
        {
          "output_type": "display_data",
          "data": {
            "text/html": [
              "\n",
              "        <progress\n",
              "            value='1'\n",
              "            max='1',\n",
              "            style='width: 100%'\n",
              "        >\n",
              "            1\n",
              "        </progress>\n",
              "    "
            ],
            "text/plain": [
              "<IPython.core.display.HTML object>"
            ]
          },
          "metadata": {
            "tags": []
          }
        },
        {
          "output_type": "stream",
          "text": [
            "\n",
            "Accuracy Triplet\n",
            "====================\n",
            "Accuracy before pruning:\t90.745 %\n",
            "Acuracy after pruning:\t\t84.085 %\n",
            "Acuracy after training:\t\t90.365 %\n",
            "Predictions\n",
            "[0.60103714 1.         0.         0.51503366]\n",
            "Dropping channel/neuron 1 from conv_1...\n",
            "Training new model... This may take a while...\n",
            "Epoch : 1\n"
          ],
          "name": "stdout"
        },
        {
          "output_type": "display_data",
          "data": {
            "text/html": [
              "\n",
              "        <progress\n",
              "            value='1'\n",
              "            max='1',\n",
              "            style='width: 100%'\n",
              "        >\n",
              "            1\n",
              "        </progress>\n",
              "    "
            ],
            "text/plain": [
              "<IPython.core.display.HTML object>"
            ]
          },
          "metadata": {
            "tags": []
          }
        },
        {
          "output_type": "stream",
          "text": [
            "Epoch : 2\n"
          ],
          "name": "stdout"
        },
        {
          "output_type": "display_data",
          "data": {
            "text/html": [
              "\n",
              "        <progress\n",
              "            value='1'\n",
              "            max='1',\n",
              "            style='width: 100%'\n",
              "        >\n",
              "            1\n",
              "        </progress>\n",
              "    "
            ],
            "text/plain": [
              "<IPython.core.display.HTML object>"
            ]
          },
          "metadata": {
            "tags": []
          }
        },
        {
          "output_type": "stream",
          "text": [
            "Epoch : 3\n"
          ],
          "name": "stdout"
        },
        {
          "output_type": "display_data",
          "data": {
            "text/html": [
              "\n",
              "        <progress\n",
              "            value='1'\n",
              "            max='1',\n",
              "            style='width: 100%'\n",
              "        >\n",
              "            1\n",
              "        </progress>\n",
              "    "
            ],
            "text/plain": [
              "<IPython.core.display.HTML object>"
            ]
          },
          "metadata": {
            "tags": []
          }
        },
        {
          "output_type": "stream",
          "text": [
            "Epoch : 4\n"
          ],
          "name": "stdout"
        },
        {
          "output_type": "display_data",
          "data": {
            "text/html": [
              "\n",
              "        <progress\n",
              "            value='1'\n",
              "            max='1',\n",
              "            style='width: 100%'\n",
              "        >\n",
              "            1\n",
              "        </progress>\n",
              "    "
            ],
            "text/plain": [
              "<IPython.core.display.HTML object>"
            ]
          },
          "metadata": {
            "tags": []
          }
        },
        {
          "output_type": "stream",
          "text": [
            "Epoch : 5\n"
          ],
          "name": "stdout"
        },
        {
          "output_type": "display_data",
          "data": {
            "text/html": [
              "\n",
              "        <progress\n",
              "            value='1'\n",
              "            max='1',\n",
              "            style='width: 100%'\n",
              "        >\n",
              "            1\n",
              "        </progress>\n",
              "    "
            ],
            "text/plain": [
              "<IPython.core.display.HTML object>"
            ]
          },
          "metadata": {
            "tags": []
          }
        },
        {
          "output_type": "stream",
          "text": [
            "\n",
            "Accuracy Triplet\n",
            "====================\n",
            "Accuracy before pruning:\t90.365 %\n",
            "Acuracy after pruning:\t\t83.636 %\n",
            "Acuracy after training:\t\t89.667 %\n",
            "Predictions\n",
            "[1.        0.0503584 0.       ]\n",
            "Dropping channel/neuron 0 from conv_1...\n",
            "Training new model... This may take a while...\n",
            "Epoch : 1\n"
          ],
          "name": "stdout"
        },
        {
          "output_type": "display_data",
          "data": {
            "text/html": [
              "\n",
              "        <progress\n",
              "            value='1'\n",
              "            max='1',\n",
              "            style='width: 100%'\n",
              "        >\n",
              "            1\n",
              "        </progress>\n",
              "    "
            ],
            "text/plain": [
              "<IPython.core.display.HTML object>"
            ]
          },
          "metadata": {
            "tags": []
          }
        },
        {
          "output_type": "stream",
          "text": [
            "Epoch : 2\n"
          ],
          "name": "stdout"
        },
        {
          "output_type": "display_data",
          "data": {
            "text/html": [
              "\n",
              "        <progress\n",
              "            value='1'\n",
              "            max='1',\n",
              "            style='width: 100%'\n",
              "        >\n",
              "            1\n",
              "        </progress>\n",
              "    "
            ],
            "text/plain": [
              "<IPython.core.display.HTML object>"
            ]
          },
          "metadata": {
            "tags": []
          }
        },
        {
          "output_type": "stream",
          "text": [
            "Epoch : 3\n"
          ],
          "name": "stdout"
        },
        {
          "output_type": "display_data",
          "data": {
            "text/html": [
              "\n",
              "        <progress\n",
              "            value='1'\n",
              "            max='1',\n",
              "            style='width: 100%'\n",
              "        >\n",
              "            1\n",
              "        </progress>\n",
              "    "
            ],
            "text/plain": [
              "<IPython.core.display.HTML object>"
            ]
          },
          "metadata": {
            "tags": []
          }
        },
        {
          "output_type": "stream",
          "text": [
            "Epoch : 4\n"
          ],
          "name": "stdout"
        },
        {
          "output_type": "display_data",
          "data": {
            "text/html": [
              "\n",
              "        <progress\n",
              "            value='1'\n",
              "            max='1',\n",
              "            style='width: 100%'\n",
              "        >\n",
              "            1\n",
              "        </progress>\n",
              "    "
            ],
            "text/plain": [
              "<IPython.core.display.HTML object>"
            ]
          },
          "metadata": {
            "tags": []
          }
        },
        {
          "output_type": "stream",
          "text": [
            "Epoch : 5\n"
          ],
          "name": "stdout"
        },
        {
          "output_type": "display_data",
          "data": {
            "text/html": [
              "\n",
              "        <progress\n",
              "            value='1'\n",
              "            max='1',\n",
              "            style='width: 100%'\n",
              "        >\n",
              "            1\n",
              "        </progress>\n",
              "    "
            ],
            "text/plain": [
              "<IPython.core.display.HTML object>"
            ]
          },
          "metadata": {
            "tags": []
          }
        },
        {
          "output_type": "stream",
          "text": [
            "\n",
            "Accuracy Triplet\n",
            "====================\n",
            "Accuracy before pruning:\t89.667 %\n",
            "Acuracy after pruning:\t\t79.573 %\n",
            "Acuracy after training:\t\t89.537 %\n",
            "Predictions\n",
            "[1. 0.]\n",
            "Dropping channel/neuron 0 from conv_1...\n",
            "Training new model... This may take a while...\n",
            "Epoch : 1\n"
          ],
          "name": "stdout"
        },
        {
          "output_type": "display_data",
          "data": {
            "text/html": [
              "\n",
              "        <progress\n",
              "            value='1'\n",
              "            max='1',\n",
              "            style='width: 100%'\n",
              "        >\n",
              "            1\n",
              "        </progress>\n",
              "    "
            ],
            "text/plain": [
              "<IPython.core.display.HTML object>"
            ]
          },
          "metadata": {
            "tags": []
          }
        },
        {
          "output_type": "stream",
          "text": [
            "Epoch : 2\n"
          ],
          "name": "stdout"
        },
        {
          "output_type": "display_data",
          "data": {
            "text/html": [
              "\n",
              "        <progress\n",
              "            value='1'\n",
              "            max='1',\n",
              "            style='width: 100%'\n",
              "        >\n",
              "            1\n",
              "        </progress>\n",
              "    "
            ],
            "text/plain": [
              "<IPython.core.display.HTML object>"
            ]
          },
          "metadata": {
            "tags": []
          }
        },
        {
          "output_type": "stream",
          "text": [
            "Epoch : 3\n"
          ],
          "name": "stdout"
        },
        {
          "output_type": "display_data",
          "data": {
            "text/html": [
              "\n",
              "        <progress\n",
              "            value='1'\n",
              "            max='1',\n",
              "            style='width: 100%'\n",
              "        >\n",
              "            1\n",
              "        </progress>\n",
              "    "
            ],
            "text/plain": [
              "<IPython.core.display.HTML object>"
            ]
          },
          "metadata": {
            "tags": []
          }
        },
        {
          "output_type": "stream",
          "text": [
            "Epoch : 4\n"
          ],
          "name": "stdout"
        },
        {
          "output_type": "display_data",
          "data": {
            "text/html": [
              "\n",
              "        <progress\n",
              "            value='1'\n",
              "            max='1',\n",
              "            style='width: 100%'\n",
              "        >\n",
              "            1\n",
              "        </progress>\n",
              "    "
            ],
            "text/plain": [
              "<IPython.core.display.HTML object>"
            ]
          },
          "metadata": {
            "tags": []
          }
        },
        {
          "output_type": "stream",
          "text": [
            "Epoch : 5\n"
          ],
          "name": "stdout"
        },
        {
          "output_type": "display_data",
          "data": {
            "text/html": [
              "\n",
              "        <progress\n",
              "            value='1'\n",
              "            max='1',\n",
              "            style='width: 100%'\n",
              "        >\n",
              "            1\n",
              "        </progress>\n",
              "    "
            ],
            "text/plain": [
              "<IPython.core.display.HTML object>"
            ]
          },
          "metadata": {
            "tags": []
          }
        },
        {
          "output_type": "stream",
          "text": [
            "\n",
            "Accuracy Triplet\n",
            "====================\n",
            "Accuracy before pruning:\t89.537 %\n",
            "Acuracy after pruning:\t\t29.503 %\n",
            "Acuracy after training:\t\t88.099 %\n"
          ],
          "name": "stdout"
        }
      ]
    },
    {
      "cell_type": "markdown",
      "metadata": {
        "id": "x4MelsED9PoD",
        "colab_type": "text"
      },
      "source": [
        "### Autopurune layer 2"
      ]
    },
    {
      "cell_type": "code",
      "metadata": {
        "id": "CIvTR-9HrdK7",
        "colab_type": "code",
        "outputId": "aed47508-54bc-410e-abec-84c0af3f9669",
        "colab": {
          "base_uri": "https://localhost:8080/",
          "height": 1000
        }
      },
      "source": [
        "new_model2 = auto_prune(network          = new_model,\\\n",
        "                        layer_name       = \"conv_2\",\\\n",
        "                        architecture     = architecture,\\\n",
        "                        train_dataloader = train_dataloader,\\\n",
        "                        test_dataloader  = test_dataloader,\\\n",
        "                        criterion        = criterion,\\\n",
        "                        accuracy         = accuracy)"
      ],
      "execution_count": 0,
      "outputs": [
        {
          "output_type": "stream",
          "text": [
            "Predictions\n",
            "[0.86495113 0.77056813 1.         0.96754056 0.49902487 0.97328407\n",
            " 0.         0.42476243]\n",
            "Dropping channel/neuron 2 from conv_2...\n",
            "Training new model... This may take a while...\n",
            "Epoch : 1\n"
          ],
          "name": "stdout"
        },
        {
          "output_type": "display_data",
          "data": {
            "text/html": [
              "\n",
              "        <progress\n",
              "            value='1'\n",
              "            max='1',\n",
              "            style='width: 100%'\n",
              "        >\n",
              "            1\n",
              "        </progress>\n",
              "    "
            ],
            "text/plain": [
              "<IPython.core.display.HTML object>"
            ]
          },
          "metadata": {
            "tags": []
          }
        },
        {
          "output_type": "stream",
          "text": [
            "Epoch : 2\n"
          ],
          "name": "stdout"
        },
        {
          "output_type": "display_data",
          "data": {
            "text/html": [
              "\n",
              "        <progress\n",
              "            value='1'\n",
              "            max='1',\n",
              "            style='width: 100%'\n",
              "        >\n",
              "            1\n",
              "        </progress>\n",
              "    "
            ],
            "text/plain": [
              "<IPython.core.display.HTML object>"
            ]
          },
          "metadata": {
            "tags": []
          }
        },
        {
          "output_type": "stream",
          "text": [
            "Epoch : 3\n"
          ],
          "name": "stdout"
        },
        {
          "output_type": "display_data",
          "data": {
            "text/html": [
              "\n",
              "        <progress\n",
              "            value='1'\n",
              "            max='1',\n",
              "            style='width: 100%'\n",
              "        >\n",
              "            1\n",
              "        </progress>\n",
              "    "
            ],
            "text/plain": [
              "<IPython.core.display.HTML object>"
            ]
          },
          "metadata": {
            "tags": []
          }
        },
        {
          "output_type": "stream",
          "text": [
            "Epoch : 4\n"
          ],
          "name": "stdout"
        },
        {
          "output_type": "display_data",
          "data": {
            "text/html": [
              "\n",
              "        <progress\n",
              "            value='1'\n",
              "            max='1',\n",
              "            style='width: 100%'\n",
              "        >\n",
              "            1\n",
              "        </progress>\n",
              "    "
            ],
            "text/plain": [
              "<IPython.core.display.HTML object>"
            ]
          },
          "metadata": {
            "tags": []
          }
        },
        {
          "output_type": "stream",
          "text": [
            "Epoch : 5\n"
          ],
          "name": "stdout"
        },
        {
          "output_type": "display_data",
          "data": {
            "text/html": [
              "\n",
              "        <progress\n",
              "            value='1'\n",
              "            max='1',\n",
              "            style='width: 100%'\n",
              "        >\n",
              "            1\n",
              "        </progress>\n",
              "    "
            ],
            "text/plain": [
              "<IPython.core.display.HTML object>"
            ]
          },
          "metadata": {
            "tags": []
          }
        },
        {
          "output_type": "stream",
          "text": [
            "\n",
            "Accuracy Triplet\n",
            "====================\n",
            "Accuracy before pruning:\t88.099 %\n",
            "Acuracy after pruning:\t\t88.099 %\n",
            "Acuracy after training:\t\t88.089 %\n",
            "Predictions\n",
            "[0.89554876 0.7802166  0.99188286 0.70504946 1.         0.\n",
            " 0.47078836]\n",
            "Dropping channel/neuron 4 from conv_2...\n",
            "Training new model... This may take a while...\n",
            "Epoch : 1\n"
          ],
          "name": "stdout"
        },
        {
          "output_type": "display_data",
          "data": {
            "text/html": [
              "\n",
              "        <progress\n",
              "            value='1'\n",
              "            max='1',\n",
              "            style='width: 100%'\n",
              "        >\n",
              "            1\n",
              "        </progress>\n",
              "    "
            ],
            "text/plain": [
              "<IPython.core.display.HTML object>"
            ]
          },
          "metadata": {
            "tags": []
          }
        },
        {
          "output_type": "stream",
          "text": [
            "Epoch : 2\n"
          ],
          "name": "stdout"
        },
        {
          "output_type": "display_data",
          "data": {
            "text/html": [
              "\n",
              "        <progress\n",
              "            value='1'\n",
              "            max='1',\n",
              "            style='width: 100%'\n",
              "        >\n",
              "            1\n",
              "        </progress>\n",
              "    "
            ],
            "text/plain": [
              "<IPython.core.display.HTML object>"
            ]
          },
          "metadata": {
            "tags": []
          }
        },
        {
          "output_type": "stream",
          "text": [
            "Epoch : 3\n"
          ],
          "name": "stdout"
        },
        {
          "output_type": "display_data",
          "data": {
            "text/html": [
              "\n",
              "        <progress\n",
              "            value='1'\n",
              "            max='1',\n",
              "            style='width: 100%'\n",
              "        >\n",
              "            1\n",
              "        </progress>\n",
              "    "
            ],
            "text/plain": [
              "<IPython.core.display.HTML object>"
            ]
          },
          "metadata": {
            "tags": []
          }
        },
        {
          "output_type": "stream",
          "text": [
            "Epoch : 4\n"
          ],
          "name": "stdout"
        },
        {
          "output_type": "display_data",
          "data": {
            "text/html": [
              "\n",
              "        <progress\n",
              "            value='1'\n",
              "            max='1',\n",
              "            style='width: 100%'\n",
              "        >\n",
              "            1\n",
              "        </progress>\n",
              "    "
            ],
            "text/plain": [
              "<IPython.core.display.HTML object>"
            ]
          },
          "metadata": {
            "tags": []
          }
        },
        {
          "output_type": "stream",
          "text": [
            "Epoch : 5\n"
          ],
          "name": "stdout"
        },
        {
          "output_type": "display_data",
          "data": {
            "text/html": [
              "\n",
              "        <progress\n",
              "            value='1'\n",
              "            max='1',\n",
              "            style='width: 100%'\n",
              "        >\n",
              "            1\n",
              "        </progress>\n",
              "    "
            ],
            "text/plain": [
              "<IPython.core.display.HTML object>"
            ]
          },
          "metadata": {
            "tags": []
          }
        },
        {
          "output_type": "stream",
          "text": [
            "\n",
            "Accuracy Triplet\n",
            "====================\n",
            "Accuracy before pruning:\t88.089 %\n",
            "Acuracy after pruning:\t\t73.373 %\n",
            "Acuracy after training:\t\t88.219 %\n",
            "Predictions\n",
            "[0.914983  0.7949469 1.        0.8109321 0.        0.5366708]\n",
            "Dropping channel/neuron 2 from conv_2...\n",
            "Training new model... This may take a while...\n",
            "Epoch : 1\n"
          ],
          "name": "stdout"
        },
        {
          "output_type": "display_data",
          "data": {
            "text/html": [
              "\n",
              "        <progress\n",
              "            value='1'\n",
              "            max='1',\n",
              "            style='width: 100%'\n",
              "        >\n",
              "            1\n",
              "        </progress>\n",
              "    "
            ],
            "text/plain": [
              "<IPython.core.display.HTML object>"
            ]
          },
          "metadata": {
            "tags": []
          }
        },
        {
          "output_type": "stream",
          "text": [
            "Epoch : 2\n"
          ],
          "name": "stdout"
        },
        {
          "output_type": "display_data",
          "data": {
            "text/html": [
              "\n",
              "        <progress\n",
              "            value='1'\n",
              "            max='1',\n",
              "            style='width: 100%'\n",
              "        >\n",
              "            1\n",
              "        </progress>\n",
              "    "
            ],
            "text/plain": [
              "<IPython.core.display.HTML object>"
            ]
          },
          "metadata": {
            "tags": []
          }
        },
        {
          "output_type": "stream",
          "text": [
            "Epoch : 3\n"
          ],
          "name": "stdout"
        },
        {
          "output_type": "display_data",
          "data": {
            "text/html": [
              "\n",
              "        <progress\n",
              "            value='1'\n",
              "            max='1',\n",
              "            style='width: 100%'\n",
              "        >\n",
              "            1\n",
              "        </progress>\n",
              "    "
            ],
            "text/plain": [
              "<IPython.core.display.HTML object>"
            ]
          },
          "metadata": {
            "tags": []
          }
        },
        {
          "output_type": "stream",
          "text": [
            "Epoch : 4\n"
          ],
          "name": "stdout"
        },
        {
          "output_type": "display_data",
          "data": {
            "text/html": [
              "\n",
              "        <progress\n",
              "            value='1'\n",
              "            max='1',\n",
              "            style='width: 100%'\n",
              "        >\n",
              "            1\n",
              "        </progress>\n",
              "    "
            ],
            "text/plain": [
              "<IPython.core.display.HTML object>"
            ]
          },
          "metadata": {
            "tags": []
          }
        },
        {
          "output_type": "stream",
          "text": [
            "Epoch : 5\n"
          ],
          "name": "stdout"
        },
        {
          "output_type": "display_data",
          "data": {
            "text/html": [
              "\n",
              "        <progress\n",
              "            value='1'\n",
              "            max='1',\n",
              "            style='width: 100%'\n",
              "        >\n",
              "            1\n",
              "        </progress>\n",
              "    "
            ],
            "text/plain": [
              "<IPython.core.display.HTML object>"
            ]
          },
          "metadata": {
            "tags": []
          }
        },
        {
          "output_type": "stream",
          "text": [
            "\n",
            "Accuracy Triplet\n",
            "====================\n",
            "Accuracy before pruning:\t88.219 %\n",
            "Acuracy after pruning:\t\t84.615 %\n",
            "Acuracy after training:\t\t88.149 %\n",
            "Predictions\n",
            "[1.         0.863      0.93521255 0.         0.6119275 ]\n",
            "Dropping channel/neuron 0 from conv_2...\n",
            "Training new model... This may take a while...\n",
            "Epoch : 1\n"
          ],
          "name": "stdout"
        },
        {
          "output_type": "display_data",
          "data": {
            "text/html": [
              "\n",
              "        <progress\n",
              "            value='1'\n",
              "            max='1',\n",
              "            style='width: 100%'\n",
              "        >\n",
              "            1\n",
              "        </progress>\n",
              "    "
            ],
            "text/plain": [
              "<IPython.core.display.HTML object>"
            ]
          },
          "metadata": {
            "tags": []
          }
        },
        {
          "output_type": "stream",
          "text": [
            "Epoch : 2\n"
          ],
          "name": "stdout"
        },
        {
          "output_type": "display_data",
          "data": {
            "text/html": [
              "\n",
              "        <progress\n",
              "            value='1'\n",
              "            max='1',\n",
              "            style='width: 100%'\n",
              "        >\n",
              "            1\n",
              "        </progress>\n",
              "    "
            ],
            "text/plain": [
              "<IPython.core.display.HTML object>"
            ]
          },
          "metadata": {
            "tags": []
          }
        },
        {
          "output_type": "stream",
          "text": [
            "Epoch : 3\n"
          ],
          "name": "stdout"
        },
        {
          "output_type": "display_data",
          "data": {
            "text/html": [
              "\n",
              "        <progress\n",
              "            value='1'\n",
              "            max='1',\n",
              "            style='width: 100%'\n",
              "        >\n",
              "            1\n",
              "        </progress>\n",
              "    "
            ],
            "text/plain": [
              "<IPython.core.display.HTML object>"
            ]
          },
          "metadata": {
            "tags": []
          }
        },
        {
          "output_type": "stream",
          "text": [
            "Epoch : 4\n"
          ],
          "name": "stdout"
        },
        {
          "output_type": "display_data",
          "data": {
            "text/html": [
              "\n",
              "        <progress\n",
              "            value='1'\n",
              "            max='1',\n",
              "            style='width: 100%'\n",
              "        >\n",
              "            1\n",
              "        </progress>\n",
              "    "
            ],
            "text/plain": [
              "<IPython.core.display.HTML object>"
            ]
          },
          "metadata": {
            "tags": []
          }
        },
        {
          "output_type": "stream",
          "text": [
            "Epoch : 5\n"
          ],
          "name": "stdout"
        },
        {
          "output_type": "display_data",
          "data": {
            "text/html": [
              "\n",
              "        <progress\n",
              "            value='1'\n",
              "            max='1',\n",
              "            style='width: 100%'\n",
              "        >\n",
              "            1\n",
              "        </progress>\n",
              "    "
            ],
            "text/plain": [
              "<IPython.core.display.HTML object>"
            ]
          },
          "metadata": {
            "tags": []
          }
        },
        {
          "output_type": "stream",
          "text": [
            "\n",
            "Accuracy Triplet\n",
            "====================\n",
            "Accuracy before pruning:\t88.149 %\n",
            "Acuracy after pruning:\t\t75.879 %\n",
            "Acuracy after training:\t\t87.909 %\n",
            "Predictions\n",
            "[0.905739   1.         0.         0.71371365]\n",
            "Dropping channel/neuron 1 from conv_2...\n",
            "Training new model... This may take a while...\n",
            "Epoch : 1\n"
          ],
          "name": "stdout"
        },
        {
          "output_type": "display_data",
          "data": {
            "text/html": [
              "\n",
              "        <progress\n",
              "            value='1'\n",
              "            max='1',\n",
              "            style='width: 100%'\n",
              "        >\n",
              "            1\n",
              "        </progress>\n",
              "    "
            ],
            "text/plain": [
              "<IPython.core.display.HTML object>"
            ]
          },
          "metadata": {
            "tags": []
          }
        },
        {
          "output_type": "stream",
          "text": [
            "Epoch : 2\n"
          ],
          "name": "stdout"
        },
        {
          "output_type": "display_data",
          "data": {
            "text/html": [
              "\n",
              "        <progress\n",
              "            value='1'\n",
              "            max='1',\n",
              "            style='width: 100%'\n",
              "        >\n",
              "            1\n",
              "        </progress>\n",
              "    "
            ],
            "text/plain": [
              "<IPython.core.display.HTML object>"
            ]
          },
          "metadata": {
            "tags": []
          }
        },
        {
          "output_type": "stream",
          "text": [
            "Epoch : 3\n"
          ],
          "name": "stdout"
        },
        {
          "output_type": "display_data",
          "data": {
            "text/html": [
              "\n",
              "        <progress\n",
              "            value='1'\n",
              "            max='1',\n",
              "            style='width: 100%'\n",
              "        >\n",
              "            1\n",
              "        </progress>\n",
              "    "
            ],
            "text/plain": [
              "<IPython.core.display.HTML object>"
            ]
          },
          "metadata": {
            "tags": []
          }
        },
        {
          "output_type": "stream",
          "text": [
            "Epoch : 4\n"
          ],
          "name": "stdout"
        },
        {
          "output_type": "display_data",
          "data": {
            "text/html": [
              "\n",
              "        <progress\n",
              "            value='1'\n",
              "            max='1',\n",
              "            style='width: 100%'\n",
              "        >\n",
              "            1\n",
              "        </progress>\n",
              "    "
            ],
            "text/plain": [
              "<IPython.core.display.HTML object>"
            ]
          },
          "metadata": {
            "tags": []
          }
        },
        {
          "output_type": "stream",
          "text": [
            "Epoch : 5\n"
          ],
          "name": "stdout"
        },
        {
          "output_type": "display_data",
          "data": {
            "text/html": [
              "\n",
              "        <progress\n",
              "            value='1'\n",
              "            max='1',\n",
              "            style='width: 100%'\n",
              "        >\n",
              "            1\n",
              "        </progress>\n",
              "    "
            ],
            "text/plain": [
              "<IPython.core.display.HTML object>"
            ]
          },
          "metadata": {
            "tags": []
          }
        },
        {
          "output_type": "stream",
          "text": [
            "\n",
            "Accuracy Triplet\n",
            "====================\n",
            "Accuracy before pruning:\t87.909 %\n",
            "Acuracy after pruning:\t\t87.839 %\n",
            "Acuracy after training:\t\t88.269 %\n",
            "Predictions\n",
            "[1.         0.         0.80197793]\n",
            "Dropping channel/neuron 0 from conv_2...\n",
            "Training new model... This may take a while...\n",
            "Epoch : 1\n"
          ],
          "name": "stdout"
        },
        {
          "output_type": "display_data",
          "data": {
            "text/html": [
              "\n",
              "        <progress\n",
              "            value='1'\n",
              "            max='1',\n",
              "            style='width: 100%'\n",
              "        >\n",
              "            1\n",
              "        </progress>\n",
              "    "
            ],
            "text/plain": [
              "<IPython.core.display.HTML object>"
            ]
          },
          "metadata": {
            "tags": []
          }
        },
        {
          "output_type": "stream",
          "text": [
            "Epoch : 2\n"
          ],
          "name": "stdout"
        },
        {
          "output_type": "display_data",
          "data": {
            "text/html": [
              "\n",
              "        <progress\n",
              "            value='1'\n",
              "            max='1',\n",
              "            style='width: 100%'\n",
              "        >\n",
              "            1\n",
              "        </progress>\n",
              "    "
            ],
            "text/plain": [
              "<IPython.core.display.HTML object>"
            ]
          },
          "metadata": {
            "tags": []
          }
        },
        {
          "output_type": "stream",
          "text": [
            "Epoch : 3\n"
          ],
          "name": "stdout"
        },
        {
          "output_type": "display_data",
          "data": {
            "text/html": [
              "\n",
              "        <progress\n",
              "            value='1'\n",
              "            max='1',\n",
              "            style='width: 100%'\n",
              "        >\n",
              "            1\n",
              "        </progress>\n",
              "    "
            ],
            "text/plain": [
              "<IPython.core.display.HTML object>"
            ]
          },
          "metadata": {
            "tags": []
          }
        },
        {
          "output_type": "stream",
          "text": [
            "Epoch : 4\n"
          ],
          "name": "stdout"
        },
        {
          "output_type": "display_data",
          "data": {
            "text/html": [
              "\n",
              "        <progress\n",
              "            value='1'\n",
              "            max='1',\n",
              "            style='width: 100%'\n",
              "        >\n",
              "            1\n",
              "        </progress>\n",
              "    "
            ],
            "text/plain": [
              "<IPython.core.display.HTML object>"
            ]
          },
          "metadata": {
            "tags": []
          }
        },
        {
          "output_type": "stream",
          "text": [
            "Epoch : 5\n"
          ],
          "name": "stdout"
        },
        {
          "output_type": "display_data",
          "data": {
            "text/html": [
              "\n",
              "        <progress\n",
              "            value='1'\n",
              "            max='1',\n",
              "            style='width: 100%'\n",
              "        >\n",
              "            1\n",
              "        </progress>\n",
              "    "
            ],
            "text/plain": [
              "<IPython.core.display.HTML object>"
            ]
          },
          "metadata": {
            "tags": []
          }
        },
        {
          "output_type": "stream",
          "text": [
            "\n",
            "Accuracy Triplet\n",
            "====================\n",
            "Accuracy before pruning:\t88.269 %\n",
            "Acuracy after pruning:\t\t64.786 %\n",
            "Acuracy after training:\t\t86.452 %\n"
          ],
          "name": "stdout"
        }
      ]
    },
    {
      "cell_type": "markdown",
      "metadata": {
        "id": "lvCMUR6k9ajS",
        "colab_type": "text"
      },
      "source": [
        "### Autoprune the FC layer"
      ]
    },
    {
      "cell_type": "code",
      "metadata": {
        "id": "fCgSykbU9Zf5",
        "colab_type": "code",
        "outputId": "97ca02ee-09fb-4821-a129-814725e52b1a",
        "colab": {
          "base_uri": "https://localhost:8080/",
          "height": 1000
        }
      },
      "source": [
        "new_model3 = auto_prune(network          = new_model2,\\\n",
        "                        layer_name       = \"fc_1\",\\\n",
        "                        architecture     = architecture,\\\n",
        "                        train_dataloader = train_dataloader,\\\n",
        "                        test_dataloader  = test_dataloader,\\\n",
        "                        criterion        = criterion,\\\n",
        "                        accuracy         = accuracy)"
      ],
      "execution_count": 0,
      "outputs": [
        {
          "output_type": "stream",
          "text": [
            "Predictions\n",
            "[0.9288651  0.876256   0.9746551  0.95825183 0.9572302  0.87499213\n",
            " 0.9853959  0.91840565 0.9451444  0.9519546  0.7568931  0.9365179\n",
            " 0.9610597  0.9964489  0.87893313 0.7627487  0.9990197  0.9562589\n",
            " 0.9849927  0.16589418 0.9744263  0.88899624 0.73713666 0.9612308\n",
            " 0.8761925  0.4867507  0.886779   0.9560824  0.90476173 0.96966726\n",
            " 0.7572231  0.790627   0.98978317 0.8098455  0.8855743  0.8827665\n",
            " 0.67243934 0.9703534  0.9361117  0.9149846  0.929796   0.97038937\n",
            " 0.998961   0.8903464  0.86272424 0.40434015 0.85240483 0.91075724\n",
            " 0.9388861  0.9334372  0.9916723  0.9907645  0.95547974 0.92000264\n",
            " 0.86041653 0.3113046  0.93883264 0.8952169  0.96286994 0.9891081\n",
            " 0.87862295 0.99807173 0.9920976  0.9790754  0.95006204 0.8883424\n",
            " 0.70197564 0.99815714 0.8100846  0.5257907  0.4538363  0.9970133\n",
            " 0.9863414  0.955914   1.         0.9907098  0.8388559  0.9677249\n",
            " 0.9842156  0.8778603  0.83157635 0.90033597 0.91406876 0.9721035\n",
            " 0.8855593  0.9155395  0.94315165 0.9898583  0.         0.9439908\n",
            " 0.93598074 0.74558604 0.99519396 0.98633003 0.83411056 0.971638\n",
            " 0.93178296 0.9863388  0.9013943  0.72949785]\n",
            "Dropping channel/neuron 74 from fc_1...\n",
            "Training new model... This may take a while...\n",
            "Epoch : 1\n"
          ],
          "name": "stdout"
        },
        {
          "output_type": "display_data",
          "data": {
            "text/html": [
              "\n",
              "        <progress\n",
              "            value='1'\n",
              "            max='1',\n",
              "            style='width: 100%'\n",
              "        >\n",
              "            1\n",
              "        </progress>\n",
              "    "
            ],
            "text/plain": [
              "<IPython.core.display.HTML object>"
            ]
          },
          "metadata": {
            "tags": []
          }
        },
        {
          "output_type": "stream",
          "text": [
            "Epoch : 2\n"
          ],
          "name": "stdout"
        },
        {
          "output_type": "display_data",
          "data": {
            "text/html": [
              "\n",
              "        <progress\n",
              "            value='1'\n",
              "            max='1',\n",
              "            style='width: 100%'\n",
              "        >\n",
              "            1\n",
              "        </progress>\n",
              "    "
            ],
            "text/plain": [
              "<IPython.core.display.HTML object>"
            ]
          },
          "metadata": {
            "tags": []
          }
        },
        {
          "output_type": "stream",
          "text": [
            "Epoch : 3\n"
          ],
          "name": "stdout"
        },
        {
          "output_type": "display_data",
          "data": {
            "text/html": [
              "\n",
              "        <progress\n",
              "            value='1'\n",
              "            max='1',\n",
              "            style='width: 100%'\n",
              "        >\n",
              "            1\n",
              "        </progress>\n",
              "    "
            ],
            "text/plain": [
              "<IPython.core.display.HTML object>"
            ]
          },
          "metadata": {
            "tags": []
          }
        },
        {
          "output_type": "stream",
          "text": [
            "Epoch : 4\n"
          ],
          "name": "stdout"
        },
        {
          "output_type": "display_data",
          "data": {
            "text/html": [
              "\n",
              "        <progress\n",
              "            value='1'\n",
              "            max='1',\n",
              "            style='width: 100%'\n",
              "        >\n",
              "            1\n",
              "        </progress>\n",
              "    "
            ],
            "text/plain": [
              "<IPython.core.display.HTML object>"
            ]
          },
          "metadata": {
            "tags": []
          }
        },
        {
          "output_type": "stream",
          "text": [
            "Epoch : 5\n"
          ],
          "name": "stdout"
        },
        {
          "output_type": "display_data",
          "data": {
            "text/html": [
              "\n",
              "        <progress\n",
              "            value='1'\n",
              "            max='1',\n",
              "            style='width: 100%'\n",
              "        >\n",
              "            1\n",
              "        </progress>\n",
              "    "
            ],
            "text/plain": [
              "<IPython.core.display.HTML object>"
            ]
          },
          "metadata": {
            "tags": []
          }
        },
        {
          "output_type": "stream",
          "text": [
            "\n",
            "Accuracy Triplet\n",
            "====================\n",
            "Accuracy before pruning:\t86.452 %\n",
            "Acuracy after pruning:\t\t10.064 %\n",
            "Acuracy after training:\t\t85.623 %\n",
            "Predictions\n",
            "[0.53043056 0.6370731  0.2525738  0.89521414 0.975588   0.606321\n",
            " 0.71290904 0.7618389  0.83440953 0.45220205 0.40187863 0.866976\n",
            " 0.8398283  0.58863914 0.51938915 0.9612814  0.965909   0.94899505\n",
            " 0.94019276 0.9717994  0.37216204 0.9686583  0.86172956 0.8781543\n",
            " 0.9273589  0.9654485  0.91039956 0.68580276 0.96047115 0.44141647\n",
            " 0.85870457 0.99019223 0.7030081  0.88320416 0.96977574 0.24346933\n",
            " 0.96030504 0.92637396 0.86677694 0.8330357  0.9608819  0.9715401\n",
            " 0.8543695  0.97647315 0.98348415 0.9662631  0.         0.86285335\n",
            " 0.9913856  0.86720383 0.8350032  0.92508584 0.8889559  0.99356824\n",
            " 0.9665931  0.3642613  0.97747535 0.67360085 0.5705526  0.9115484\n",
            " 0.81735253 0.83853793 0.9579382  0.66760135 0.9351176  0.99811435\n",
            " 0.80138636 0.91952145 0.9480074  0.8907293  1.         0.98981434\n",
            " 0.9794136  0.970051   0.9105182  0.9096941  0.9494728  0.20365396\n",
            " 0.85386086 0.2089219  0.8986774  0.96793824 0.9636619  0.99803513\n",
            " 0.9279938  0.7526517  0.9865662  0.7294332  0.86223257 0.96313405\n",
            " 0.9635263  0.18048304 0.87647945 0.930261   0.87682617 0.89808947\n",
            " 0.7816745  0.85603887 0.9364662  0.0827553 ]\n",
            "Dropping channel/neuron 70 from fc_1...\n",
            "Training new model... This may take a while...\n",
            "Epoch : 1\n"
          ],
          "name": "stdout"
        },
        {
          "output_type": "display_data",
          "data": {
            "text/html": [
              "\n",
              "        <progress\n",
              "            value='1'\n",
              "            max='1',\n",
              "            style='width: 100%'\n",
              "        >\n",
              "            1\n",
              "        </progress>\n",
              "    "
            ],
            "text/plain": [
              "<IPython.core.display.HTML object>"
            ]
          },
          "metadata": {
            "tags": []
          }
        },
        {
          "output_type": "stream",
          "text": [
            "Epoch : 2\n"
          ],
          "name": "stdout"
        },
        {
          "output_type": "display_data",
          "data": {
            "text/html": [
              "\n",
              "        <progress\n",
              "            value='1'\n",
              "            max='1',\n",
              "            style='width: 100%'\n",
              "        >\n",
              "            1\n",
              "        </progress>\n",
              "    "
            ],
            "text/plain": [
              "<IPython.core.display.HTML object>"
            ]
          },
          "metadata": {
            "tags": []
          }
        },
        {
          "output_type": "stream",
          "text": [
            "Epoch : 3\n"
          ],
          "name": "stdout"
        },
        {
          "output_type": "display_data",
          "data": {
            "text/html": [
              "\n",
              "        <progress\n",
              "            value='1'\n",
              "            max='1',\n",
              "            style='width: 100%'\n",
              "        >\n",
              "            1\n",
              "        </progress>\n",
              "    "
            ],
            "text/plain": [
              "<IPython.core.display.HTML object>"
            ]
          },
          "metadata": {
            "tags": []
          }
        },
        {
          "output_type": "stream",
          "text": [
            "Epoch : 4\n"
          ],
          "name": "stdout"
        },
        {
          "output_type": "display_data",
          "data": {
            "text/html": [
              "\n",
              "        <progress\n",
              "            value='1'\n",
              "            max='1',\n",
              "            style='width: 100%'\n",
              "        >\n",
              "            1\n",
              "        </progress>\n",
              "    "
            ],
            "text/plain": [
              "<IPython.core.display.HTML object>"
            ]
          },
          "metadata": {
            "tags": []
          }
        },
        {
          "output_type": "stream",
          "text": [
            "Epoch : 5\n"
          ],
          "name": "stdout"
        },
        {
          "output_type": "display_data",
          "data": {
            "text/html": [
              "\n",
              "        <progress\n",
              "            value='1'\n",
              "            max='1',\n",
              "            style='width: 100%'\n",
              "        >\n",
              "            1\n",
              "        </progress>\n",
              "    "
            ],
            "text/plain": [
              "<IPython.core.display.HTML object>"
            ]
          },
          "metadata": {
            "tags": []
          }
        },
        {
          "output_type": "stream",
          "text": [
            "\n",
            "Accuracy Triplet\n",
            "====================\n",
            "Accuracy before pruning:\t85.623 %\n",
            "Acuracy after pruning:\t\t8.786 %\n",
            "Acuracy after training:\t\t87.510 %\n",
            "Predictions\n",
            "[0.21961312 0.8268205  0.8879151  0.9158578  0.95680916 0.9706729\n",
            " 0.9573773  0.89895135 0.51925075 0.97231877 0.87125766 0.89806974\n",
            " 0.879339   0.9664251  0.46498427 0.98931324 0.59148216 0.8486391\n",
            " 0.         0.9065966  0.8106701  0.6733252  0.9909567  0.9804597\n",
            " 0.97855437 0.71200067 0.98635733 0.9713137  0.79399335 0.05421902\n",
            " 0.6603461  0.61834526 0.7840007  0.99179155 0.9604081  0.9697732\n",
            " 0.9812376  0.9796893  0.96088046 0.84161603 0.79973644 0.848831\n",
            " 0.6914979  0.88776004 0.99341583 0.83211094 0.8339034  0.9730384\n",
            " 0.96818376 0.76258624 0.95872283 0.6872891  0.94527864 0.9839182\n",
            " 0.98880416 0.24411343 0.686264   0.98429793 0.9411598  0.9535575\n",
            " 0.86193436 0.54048985 0.6154477  0.9490095  0.8732303  0.90879387\n",
            " 0.97529787 0.97747207 0.9968029  0.5084871  0.9799289  0.9553034\n",
            " 0.91822094 0.897582   0.7698427  0.8279221  0.868354   0.9474501\n",
            " 0.9395127  0.7797373  0.97216654 0.80977374 0.92025715 0.8746929\n",
            " 0.97429717 0.8995476  0.9888886  0.9740377  0.7020949  0.9501227\n",
            " 0.6813541  0.82349855 0.9552717  0.78371227 0.9739548  0.82519734\n",
            " 0.24384874 0.93716323 1.        ]\n",
            "Dropping channel/neuron 98 from fc_1...\n",
            "Training new model... This may take a while...\n",
            "Epoch : 1\n"
          ],
          "name": "stdout"
        },
        {
          "output_type": "display_data",
          "data": {
            "text/html": [
              "\n",
              "        <progress\n",
              "            value='1'\n",
              "            max='1',\n",
              "            style='width: 100%'\n",
              "        >\n",
              "            1\n",
              "        </progress>\n",
              "    "
            ],
            "text/plain": [
              "<IPython.core.display.HTML object>"
            ]
          },
          "metadata": {
            "tags": []
          }
        },
        {
          "output_type": "stream",
          "text": [
            "Epoch : 2\n"
          ],
          "name": "stdout"
        },
        {
          "output_type": "display_data",
          "data": {
            "text/html": [
              "\n",
              "        <progress\n",
              "            value='1'\n",
              "            max='1',\n",
              "            style='width: 100%'\n",
              "        >\n",
              "            1\n",
              "        </progress>\n",
              "    "
            ],
            "text/plain": [
              "<IPython.core.display.HTML object>"
            ]
          },
          "metadata": {
            "tags": []
          }
        },
        {
          "output_type": "stream",
          "text": [
            "Epoch : 3\n"
          ],
          "name": "stdout"
        },
        {
          "output_type": "display_data",
          "data": {
            "text/html": [
              "\n",
              "        <progress\n",
              "            value='1'\n",
              "            max='1',\n",
              "            style='width: 100%'\n",
              "        >\n",
              "            1\n",
              "        </progress>\n",
              "    "
            ],
            "text/plain": [
              "<IPython.core.display.HTML object>"
            ]
          },
          "metadata": {
            "tags": []
          }
        },
        {
          "output_type": "stream",
          "text": [
            "Epoch : 4\n"
          ],
          "name": "stdout"
        },
        {
          "output_type": "display_data",
          "data": {
            "text/html": [
              "\n",
              "        <progress\n",
              "            value='1'\n",
              "            max='1',\n",
              "            style='width: 100%'\n",
              "        >\n",
              "            1\n",
              "        </progress>\n",
              "    "
            ],
            "text/plain": [
              "<IPython.core.display.HTML object>"
            ]
          },
          "metadata": {
            "tags": []
          }
        },
        {
          "output_type": "stream",
          "text": [
            "Epoch : 5\n"
          ],
          "name": "stdout"
        },
        {
          "output_type": "display_data",
          "data": {
            "text/html": [
              "\n",
              "        <progress\n",
              "            value='1'\n",
              "            max='1',\n",
              "            style='width: 100%'\n",
              "        >\n",
              "            1\n",
              "        </progress>\n",
              "    "
            ],
            "text/plain": [
              "<IPython.core.display.HTML object>"
            ]
          },
          "metadata": {
            "tags": []
          }
        }
      ]
    },
    {
      "cell_type": "code",
      "metadata": {
        "id": "pCfoTXJP9hgU",
        "colab_type": "code",
        "colab": {}
      },
      "source": [
        ""
      ],
      "execution_count": 0,
      "outputs": []
    }
  ]
}