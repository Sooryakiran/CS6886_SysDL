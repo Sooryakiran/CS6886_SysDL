{
  "nbformat": 4,
  "nbformat_minor": 0,
  "metadata": {
    "colab": {
      "name": "step_1.ipynb",
      "provenance": [],
      "collapsed_sections": [],
      "authorship_tag": "ABX9TyNhf+BqsAAFnPffYf4hFbi/",
      "include_colab_link": true
    },
    "kernelspec": {
      "name": "python3",
      "display_name": "Python 3"
    }
  },
  "cells": [
    {
      "cell_type": "markdown",
      "metadata": {
        "id": "view-in-github",
        "colab_type": "text"
      },
      "source": [
        "<a href=\"https://colab.research.google.com/github/Sooryakiran/CS6886_SysDL/blob/master/assignment_3/Submission/Step%201/step_1.ipynb\" target=\"_parent\"><img src=\"https://colab.research.google.com/assets/colab-badge.svg\" alt=\"Open In Colab\"/></a>"
      ]
    },
    {
      "cell_type": "markdown",
      "metadata": {
        "id": "0ttdHQcI1N25",
        "colab_type": "text"
      },
      "source": [
        "Step 1\n",
        "======\n",
        "Build a CNN on pytorch to train on the FMNIST data\n"
      ]
    },
    {
      "cell_type": "markdown",
      "metadata": {
        "id": "gMOcIJrcncRS",
        "colab_type": "text"
      },
      "source": [
        "### Import all the necessary libraries"
      ]
    },
    {
      "cell_type": "code",
      "metadata": {
        "id": "onDALNiK06Tf",
        "colab_type": "code",
        "colab": {}
      },
      "source": [
        "import torch\n",
        "import torch.nn as nn\n",
        "import torch.nn.functional as F\n",
        "import torch.optim as optim\n",
        "import torchvision\n",
        "import torchvision.transforms as transforms\n",
        "import numpy as np\n",
        "import matplotlib as mpl\n",
        "import matplotlib.pyplot as plt"
      ],
      "execution_count": 0,
      "outputs": []
    },
    {
      "cell_type": "markdown",
      "metadata": {
        "id": "6-K1M9Ptng1H",
        "colab_type": "text"
      },
      "source": [
        "### Define the Hyperparameters"
      ]
    },
    {
      "cell_type": "code",
      "metadata": {
        "id": "lbpVyJjTHl0r",
        "colab_type": "code",
        "colab": {}
      },
      "source": [
        "BATCH_SIZE    = 32\n",
        "EPOCHS        = 5\n",
        "LEARNING_RATE = 0.001\n",
        "MOMENTUM      = 0.9"
      ],
      "execution_count": 0,
      "outputs": []
    },
    {
      "cell_type": "markdown",
      "metadata": {
        "id": "8YzgoBBonlLU",
        "colab_type": "text"
      },
      "source": [
        "### Define important functions and objects"
      ]
    },
    {
      "cell_type": "code",
      "metadata": {
        "id": "2UpvgKDL1szl",
        "colab_type": "code",
        "colab": {}
      },
      "source": [
        "class NormalizeTransform:\n",
        "    \"\"\"\n",
        "    A torch transform class that normalises the dataset\n",
        "\n",
        "    \"\"\"\n",
        "    \n",
        "    def __init__(self, mean = 0.5, var = 0.5):\n",
        "        \"\"\"\n",
        "        The class constructor\n",
        "\n",
        "        @param mean : mean of the output dataset\n",
        "        @param var  : variance of the output datset\n",
        "\n",
        "        \"\"\"\n",
        "\n",
        "        self.mean = mean\n",
        "        self.var  = var\n",
        "    \n",
        "    def __call__(self, x):\n",
        "        \"\"\"\n",
        "        This function is called when the object is called.\n",
        "\n",
        "        @param x : input datset\n",
        "        @returns : normalized dataset\n",
        "\n",
        "        \"\"\"\n",
        "\n",
        "        return (x-self.mean)/(self.var)\n",
        "\n",
        "\n",
        "def imshow(image):\n",
        "    \"\"\"\n",
        "    A function to print images of size 28x28 from the dataset\n",
        "\n",
        "    @param image: input torch tensor representing the image\n",
        "\n",
        "    \"\"\"\n",
        "\n",
        "    npimg = image.numpy()\n",
        "    plt.imshow(np.resize(npimg, (28, 28)), cmap = 'gray')\n",
        "    plt.show()\n",
        "\n",
        "\n",
        "class ConvNet(nn.Module):\n",
        "    \"\"\"\n",
        "    The network is defined as a torch module.\n",
        "\n",
        "    \"\"\"\n",
        "\n",
        "    def __init__(self):\n",
        "        \"\"\"\n",
        "        The class constructor.\n",
        "\n",
        "        \"\"\"\n",
        "\n",
        "        super(ConvNet, self).__init__()\n",
        "\n",
        "        self.conv_1 = nn.Conv2d(in_channels = 1, out_channels = 16,  kernel_size= 3)\n",
        "        self.conv_2 = nn.Conv2d(in_channels = 16, out_channels = 16, kernel_size = 3)\n",
        "        self.fc_1   = nn.Linear(16*24*24, 100)\n",
        "        self.fc_2   = nn.Linear(100, 10)\n",
        "\n",
        "    def forward(self, x):\n",
        "        \"\"\"\n",
        "        The forward pass of the network.\n",
        "\n",
        "        Layer 1: Convolution 3x3 16 channels with relu\n",
        "        Layer 2: Convolution 3x3 16 channels with relu\n",
        "        Layer 3: Fully connected 100 neurons with relu\n",
        "        Layer 4: Output fully connected layer 10 neurons without activation \n",
        "\n",
        "        @param x : Input tensor of size (BATCH_SIZE, 1, 28, 28)\n",
        "        @return  : Network output tensor of size (BATCH_SIZE, 10)\n",
        "\n",
        "        \"\"\"\n",
        "        x = F.relu(self.conv_1(x))\n",
        "        x = F.relu(self.conv_2(x))\n",
        "        x = x.view(-1, 16*24*24)\n",
        "        x = F.relu(self.fc_1(x))\n",
        "        x = self.fc_2(x)\n",
        "        return x\n",
        "\n",
        "def init_params(layer):\n",
        "    \"\"\"\n",
        "    A function to initialize the network parameters. The weights are initialized\n",
        "    with Xavier initialization. The biases are initialized with zeros.\n",
        "\n",
        "    Usage:\n",
        "        net.apply(init_params)\n",
        "        where net is an nn.Module or nn.Seqential\n",
        "    \n",
        "    @param layer : each layers of the nn.Module/nn.Sequential\n",
        "\n",
        "    \"\"\"\n",
        "\n",
        "    if type(layer) == nn.Linear:\n",
        "        torch.nn.init.xavier_uniform_(layer.weight)\n",
        "        layer.bias.data.fill_(0.0)\n",
        "\n",
        "    elif type(layer) == nn.Conv2d:\n",
        "        torch.nn.init.xavier_uniform_(layer.weight)\n",
        "        layer.bias.data.fill_(0.0)\n",
        "\n",
        "\n",
        "def accuracy(pred, target):\n",
        "    \"\"\"\n",
        "    A function to calculate accuracy of a prediction.\n",
        "\n",
        "    @param pred   : Network predictions tensor of size (BATCH_SIZE, num outputs)\n",
        "    @param target : Target labels of size (BATCh_SIZE)\n",
        "\n",
        "    Note: @param target is NOT onehot encoded.\n",
        "\n",
        "    @return       : accuracy of the prediction.\n",
        "\n",
        "    \"\"\"\n",
        "\n",
        "    preds    = torch.argmax(pred, dim = -1).detach().numpy()\n",
        "    target   = target.detach().numpy()\n",
        "    corrects = np.mean(np.asarray([preds[i] == target[i] for i in range(preds.shape[0])]))\n",
        "    return corrects\n",
        "\n",
        "def test(network, test_loader, criterion, accuracy_fn):\n",
        "    \"\"\"\n",
        "    This function evaluates a model on the test dataset.\n",
        "\n",
        "    @param network     : Neural network model\n",
        "    @param test_loader : The dataloader object for the test dataset\n",
        "    @param criterion   : The loss function\n",
        "    @param accuracy_fn : The accuracy function\n",
        "\n",
        "    @return test_loss, test_accuracy \n",
        "\n",
        "    \"\"\"\n",
        "\n",
        "    loss     = 0.0\n",
        "    accuracy = 0.0\n",
        "    batches  = 0\n",
        "\n",
        "    for i, data in enumerate(test_loader):\n",
        "        inputs, labels = data\n",
        "        outputs        = net(inputs)\n",
        "\n",
        "        loss     += criterion(outputs, labels)\n",
        "        accuracy += accuracy_fn(outputs, labels)\n",
        "        batches   = i + 1\n",
        "    \n",
        "    return (loss/batches).item(), (accuracy/batches).item()"
      ],
      "execution_count": 0,
      "outputs": []
    },
    {
      "cell_type": "markdown",
      "metadata": {
        "id": "YpneKihZsB-8",
        "colab_type": "text"
      },
      "source": [
        "### Define the dataloaders"
      ]
    },
    {
      "cell_type": "code",
      "metadata": {
        "id": "kKvZfzROBTau",
        "colab_type": "code",
        "colab": {}
      },
      "source": [
        "transform = transforms.Compose([transforms.ToTensor(), NormalizeTransform()])\n",
        "\n",
        "train_dataset = torchvision.datasets.FashionMNIST(train = True,\n",
        "                                  root = '.',\n",
        "                                  download = True,\n",
        "                                  transform = transform)\n",
        "\n",
        "test_dataset = torchvision.datasets.FashionMNIST(train = False,\n",
        "                                  root = '.',\n",
        "                                  download = True, \n",
        "                                  transform = transform)\n",
        "\n",
        "train_dataloader = torch.utils.data.DataLoader(train_dataset, batch_size = BATCH_SIZE, shuffle = True, num_workers = 2)\n",
        "test_dataloader  = torch.utils.data.DataLoader(test_dataset, batch_size = BATCH_SIZE, shuffle = False, num_workers = 2)"
      ],
      "execution_count": 0,
      "outputs": []
    },
    {
      "cell_type": "markdown",
      "metadata": {
        "id": "OpW8ZVthsGn7",
        "colab_type": "text"
      },
      "source": [
        "### Print sample images"
      ]
    },
    {
      "cell_type": "code",
      "metadata": {
        "id": "ZdxOadd_Fkw1",
        "colab_type": "code",
        "outputId": "725ceb80-67a1-4ac7-b59a-1963661f55ed",
        "colab": {
          "base_uri": "https://localhost:8080/",
          "height": 1000
        }
      },
      "source": [
        "for i in range(5):\n",
        "    img, _ = train_dataset[i]\n",
        "    imshow(img)"
      ],
      "execution_count": 0,
      "outputs": [
        {
          "output_type": "display_data",
          "data": {
            "image/png": "[encoded data removed]",
            "text/plain": [
              "<Figure size 432x288 with 1 Axes>"
            ]
          },
          "metadata": {
            "tags": [],
            "needs_background": "light"
          }
        },
        {
          "output_type": "display_data",
          "data": {
            "image/png": "[encoded data removed]",
            "text/plain": [
              "<Figure size 432x288 with 1 Axes>"
            ]
          },
          "metadata": {
            "tags": [],
            "needs_background": "light"
          }
        },
        {
          "output_type": "display_data",
          "data": {
            "image/png": "[encoded data removed]",
            "text/plain": [
              "<Figure size 432x288 with 1 Axes>"
            ]
          },
          "metadata": {
            "tags": [],
            "needs_background": "light"
          }
        },
        {
          "output_type": "display_data",
          "data": {
            "image/png": "[encoded data removed]",
            "text/plain": [
              "<Figure size 432x288 with 1 Axes>"
            ]
          },
          "metadata": {
            "tags": [],
            "needs_background": "light"
          }
        },
        {
          "output_type": "display_data",
          "data": {
            "image/png": "[encoded data removed]",
            "text/plain": [
              "<Figure size 432x288 with 1 Axes>"
            ]
          },
          "metadata": {
            "tags": [],
            "needs_background": "light"
          }
        }
      ]
    },
    {
      "cell_type": "markdown",
      "metadata": {
        "id": "77OIwKPqsPBV",
        "colab_type": "text"
      },
      "source": [
        "### Instantiate the network, loss function and the optimizer"
      ]
    },
    {
      "cell_type": "code",
      "metadata": {
        "id": "M7doUeFnHEPU",
        "colab_type": "code",
        "colab": {}
      },
      "source": [
        "net = ConvNet()\n",
        "criterion = nn.CrossEntropyLoss()\n",
        "optimizer = optim.SGD(net.parameters(), lr = LEARNING_RATE, momentum = MOMENTUM)"
      ],
      "execution_count": 0,
      "outputs": []
    },
    {
      "cell_type": "markdown",
      "metadata": {
        "id": "nxO6JLLIsXUL",
        "colab_type": "text"
      },
      "source": [
        "Train and save the model"
      ]
    },
    {
      "cell_type": "code",
      "metadata": {
        "id": "FjzPKNLLGY44",
        "colab_type": "code",
        "outputId": "99ccd20d-9075-4402-c4f1-b0c2a0e4f80e",
        "colab": {
          "base_uri": "https://localhost:8080/",
          "height": 1000
        }
      },
      "source": [
        "net.apply(init_params)\n",
        "\n",
        "losses = []\n",
        "accuracies = []\n",
        "t_losses = []\n",
        "t_accuracies = []\n",
        "for epoch in range(EPOCHS):\n",
        "    \n",
        "    running_loss = 0.0\n",
        "    running_accuracy = 0.0\n",
        "    for i, data in enumerate(train_dataloader):\n",
        "        inputs, labels = data\n",
        "        optimizer.zero_grad()\n",
        "\n",
        "        outputs = net(inputs)\n",
        "\n",
        "        loss = criterion(outputs, labels)\n",
        "        loss.backward()\n",
        "        optimizer.step()\n",
        "\n",
        "        running_loss += loss.item()\n",
        "        running_accuracy += accuracy(outputs, labels)\n",
        "        PRINT_EVERY = 128\n",
        "        if i % PRINT_EVERY == PRINT_EVERY - 1:    \n",
        "            print('[EPOCH: %d, BATCH: %5d]\\t Loss: %.3f\\t Accuracy: %.3f %% ' %\n",
        "                  (epoch + 1, i + 1, running_loss / PRINT_EVERY, running_accuracy*100 / PRINT_EVERY))\n",
        "            \n",
        "            t_loss, t_acc = test(net, test_dataloader, criterion, accuracy)\n",
        "            print(\"Test Loss: %f\\t Test Accuracy: %f %%\" %(t_loss, t_acc*100))\n",
        "\n",
        "            losses.append(running_loss / PRINT_EVERY)\n",
        "            accuracies.append(running_accuracy*100 / PRINT_EVERY)\n",
        "            t_losses.append(t_loss)\n",
        "            t_accuracies.append(t_acc*100)\n",
        "            running_accuracy = 0.0\n",
        "            running_loss = 0.0\n",
        "\n",
        "torch.save(net, \"model.pth\")"
      ],
      "execution_count": 0,
      "outputs": [
        {
          "output_type": "stream",
          "text": [
            "[EPOCH: 1, BATCH:   128]\t Loss: 1.096\t Accuracy: 61.816 % \n",
            "Test Loss: 0.832038\t Test Accuracy: 70.766773 %\n",
            "[EPOCH: 1, BATCH:   256]\t Loss: 0.681\t Accuracy: 74.658 % \n",
            "Test Loss: 0.758827\t Test Accuracy: 70.656949 %\n",
            "[EPOCH: 1, BATCH:   384]\t Loss: 0.624\t Accuracy: 77.441 % \n",
            "Test Loss: 0.588087\t Test Accuracy: 78.674121 %\n",
            "[EPOCH: 1, BATCH:   512]\t Loss: 0.559\t Accuracy: 79.517 % \n",
            "Test Loss: 0.598083\t Test Accuracy: 77.795527 %\n",
            "[EPOCH: 1, BATCH:   640]\t Loss: 0.565\t Accuracy: 79.468 % \n",
            "Test Loss: 0.529173\t Test Accuracy: 80.920527 %\n",
            "[EPOCH: 1, BATCH:   768]\t Loss: 0.527\t Accuracy: 80.127 % \n",
            "Test Loss: 0.549237\t Test Accuracy: 79.602636 %\n",
            "[EPOCH: 1, BATCH:   896]\t Loss: 0.492\t Accuracy: 82.104 % \n",
            "Test Loss: 0.531846\t Test Accuracy: 80.730831 %\n",
            "[EPOCH: 1, BATCH:  1024]\t Loss: 0.512\t Accuracy: 81.714 % \n",
            "Test Loss: 0.501559\t Test Accuracy: 82.218450 %\n",
            "[EPOCH: 1, BATCH:  1152]\t Loss: 0.494\t Accuracy: 82.373 % \n",
            "Test Loss: 0.478196\t Test Accuracy: 82.458067 %\n",
            "[EPOCH: 1, BATCH:  1280]\t Loss: 0.480\t Accuracy: 83.374 % \n",
            "Test Loss: 0.491219\t Test Accuracy: 81.719249 %\n",
            "[EPOCH: 1, BATCH:  1408]\t Loss: 0.448\t Accuracy: 83.765 % \n",
            "Test Loss: 0.463347\t Test Accuracy: 83.346645 %\n",
            "[EPOCH: 1, BATCH:  1536]\t Loss: 0.450\t Accuracy: 83.594 % \n",
            "Test Loss: 0.479768\t Test Accuracy: 82.468051 %\n",
            "[EPOCH: 1, BATCH:  1664]\t Loss: 0.437\t Accuracy: 84.473 % \n",
            "Test Loss: 0.441261\t Test Accuracy: 84.025559 %\n",
            "[EPOCH: 1, BATCH:  1792]\t Loss: 0.452\t Accuracy: 83.740 % \n",
            "Test Loss: 0.434035\t Test Accuracy: 84.524760 %\n",
            "[EPOCH: 2, BATCH:   128]\t Loss: 0.418\t Accuracy: 84.839 % \n",
            "Test Loss: 0.441380\t Test Accuracy: 84.005591 %\n",
            "[EPOCH: 2, BATCH:   256]\t Loss: 0.424\t Accuracy: 85.059 % \n",
            "Test Loss: 0.437697\t Test Accuracy: 83.965655 %\n",
            "[EPOCH: 2, BATCH:   384]\t Loss: 0.404\t Accuracy: 85.132 % \n",
            "Test Loss: 0.435819\t Test Accuracy: 83.965655 %\n",
            "[EPOCH: 2, BATCH:   512]\t Loss: 0.398\t Accuracy: 85.791 % \n",
            "Test Loss: 0.419308\t Test Accuracy: 85.163738 %\n",
            "[EPOCH: 2, BATCH:   640]\t Loss: 0.406\t Accuracy: 85.132 % \n",
            "Test Loss: 0.430776\t Test Accuracy: 84.484824 %\n",
            "[EPOCH: 2, BATCH:   768]\t Loss: 0.388\t Accuracy: 86.011 % \n",
            "Test Loss: 0.408648\t Test Accuracy: 85.543131 %\n",
            "[EPOCH: 2, BATCH:   896]\t Loss: 0.383\t Accuracy: 86.499 % \n",
            "Test Loss: 0.412903\t Test Accuracy: 84.774361 %\n",
            "[EPOCH: 2, BATCH:  1024]\t Loss: 0.376\t Accuracy: 86.157 % \n",
            "Test Loss: 0.406679\t Test Accuracy: 85.393371 %\n",
            "[EPOCH: 2, BATCH:  1152]\t Loss: 0.365\t Accuracy: 87.183 % \n",
            "Test Loss: 0.395778\t Test Accuracy: 85.742812 %\n",
            "[EPOCH: 2, BATCH:  1280]\t Loss: 0.383\t Accuracy: 85.791 % \n",
            "Test Loss: 0.392949\t Test Accuracy: 85.902556 %\n",
            "[EPOCH: 2, BATCH:  1408]\t Loss: 0.387\t Accuracy: 85.864 % \n",
            "Test Loss: 0.394671\t Test Accuracy: 85.842652 %\n",
            "[EPOCH: 2, BATCH:  1536]\t Loss: 0.375\t Accuracy: 86.841 % \n",
            "Test Loss: 0.388070\t Test Accuracy: 85.972444 %\n",
            "[EPOCH: 2, BATCH:  1664]\t Loss: 0.342\t Accuracy: 87.549 % \n",
            "Test Loss: 0.389317\t Test Accuracy: 86.251997 %\n",
            "[EPOCH: 2, BATCH:  1792]\t Loss: 0.361\t Accuracy: 87.256 % \n",
            "Test Loss: 0.370914\t Test Accuracy: 86.681310 %\n",
            "[EPOCH: 3, BATCH:   128]\t Loss: 0.338\t Accuracy: 87.695 % \n",
            "Test Loss: 0.374928\t Test Accuracy: 86.481629 %\n",
            "[EPOCH: 3, BATCH:   256]\t Loss: 0.336\t Accuracy: 88.013 % \n",
            "Test Loss: 0.389964\t Test Accuracy: 85.852636 %\n",
            "[EPOCH: 3, BATCH:   384]\t Loss: 0.369\t Accuracy: 86.304 % \n",
            "Test Loss: 0.365025\t Test Accuracy: 86.721246 %\n",
            "[EPOCH: 3, BATCH:   512]\t Loss: 0.328\t Accuracy: 88.306 % \n",
            "Test Loss: 0.372841\t Test Accuracy: 86.771166 %\n",
            "[EPOCH: 3, BATCH:   640]\t Loss: 0.316\t Accuracy: 88.843 % \n",
            "Test Loss: 0.359297\t Test Accuracy: 87.070687 %\n",
            "[EPOCH: 3, BATCH:   768]\t Loss: 0.341\t Accuracy: 87.231 % \n",
            "Test Loss: 0.362733\t Test Accuracy: 86.721246 %\n",
            "[EPOCH: 3, BATCH:   896]\t Loss: 0.327\t Accuracy: 88.501 % \n",
            "Test Loss: 0.364165\t Test Accuracy: 86.741214 %\n",
            "[EPOCH: 3, BATCH:  1024]\t Loss: 0.347\t Accuracy: 87.549 % \n",
            "Test Loss: 0.359724\t Test Accuracy: 86.940895 %\n",
            "[EPOCH: 3, BATCH:  1152]\t Loss: 0.340\t Accuracy: 86.792 % \n",
            "Test Loss: 0.355785\t Test Accuracy: 87.250399 %\n",
            "[EPOCH: 3, BATCH:  1280]\t Loss: 0.318\t Accuracy: 88.550 % \n",
            "Test Loss: 0.378683\t Test Accuracy: 86.182109 %\n",
            "[EPOCH: 3, BATCH:  1408]\t Loss: 0.337\t Accuracy: 88.208 % \n",
            "Test Loss: 0.355840\t Test Accuracy: 87.430112 %\n",
            "[EPOCH: 3, BATCH:  1536]\t Loss: 0.333\t Accuracy: 87.964 % \n",
            "Test Loss: 0.364363\t Test Accuracy: 86.801118 %\n",
            "[EPOCH: 3, BATCH:  1664]\t Loss: 0.319\t Accuracy: 88.159 % \n",
            "Test Loss: 0.344868\t Test Accuracy: 87.559904 %\n",
            "[EPOCH: 3, BATCH:  1792]\t Loss: 0.337\t Accuracy: 87.866 % \n",
            "Test Loss: 0.345276\t Test Accuracy: 87.280351 %\n",
            "[EPOCH: 4, BATCH:   128]\t Loss: 0.292\t Accuracy: 89.404 % \n",
            "Test Loss: 0.350111\t Test Accuracy: 87.150559 %\n",
            "[EPOCH: 4, BATCH:   256]\t Loss: 0.321\t Accuracy: 88.159 % \n",
            "Test Loss: 0.339705\t Test Accuracy: 87.799521 %\n",
            "[EPOCH: 4, BATCH:   384]\t Loss: 0.311\t Accuracy: 88.452 % \n",
            "Test Loss: 0.339282\t Test Accuracy: 87.589856 %\n",
            "[EPOCH: 4, BATCH:   512]\t Loss: 0.301\t Accuracy: 89.111 % \n",
            "Test Loss: 0.343354\t Test Accuracy: 87.669728 %\n",
            "[EPOCH: 4, BATCH:   640]\t Loss: 0.281\t Accuracy: 90.063 % \n",
            "Test Loss: 0.337400\t Test Accuracy: 87.779553 %\n",
            "[EPOCH: 4, BATCH:   768]\t Loss: 0.306\t Accuracy: 89.209 % \n",
            "Test Loss: 0.346515\t Test Accuracy: 87.529952 %\n",
            "[EPOCH: 4, BATCH:   896]\t Loss: 0.308\t Accuracy: 89.526 % \n",
            "Test Loss: 0.337093\t Test Accuracy: 87.589856 %\n",
            "[EPOCH: 4, BATCH:  1024]\t Loss: 0.306\t Accuracy: 89.600 % \n",
            "Test Loss: 0.351186\t Test Accuracy: 87.270367 %\n",
            "[EPOCH: 4, BATCH:  1152]\t Loss: 0.294\t Accuracy: 88.696 % \n",
            "Test Loss: 0.330354\t Test Accuracy: 88.039137 %\n",
            "[EPOCH: 4, BATCH:  1280]\t Loss: 0.290\t Accuracy: 89.185 % \n",
            "Test Loss: 0.328697\t Test Accuracy: 88.198882 %\n",
            "[EPOCH: 4, BATCH:  1408]\t Loss: 0.303\t Accuracy: 89.160 % \n",
            "Test Loss: 0.326042\t Test Accuracy: 88.328674 %\n",
            "[EPOCH: 4, BATCH:  1536]\t Loss: 0.297\t Accuracy: 88.354 % \n",
            "Test Loss: 0.327976\t Test Accuracy: 88.288738 %\n",
            "[EPOCH: 4, BATCH:  1664]\t Loss: 0.289\t Accuracy: 89.453 % \n",
            "Test Loss: 0.326826\t Test Accuracy: 88.468450 %\n",
            "[EPOCH: 4, BATCH:  1792]\t Loss: 0.299\t Accuracy: 88.940 % \n",
            "Test Loss: 0.319969\t Test Accuracy: 88.438498 %\n",
            "[EPOCH: 5, BATCH:   128]\t Loss: 0.285\t Accuracy: 89.868 % \n",
            "Test Loss: 0.331118\t Test Accuracy: 88.268770 %\n",
            "[EPOCH: 5, BATCH:   256]\t Loss: 0.293\t Accuracy: 89.331 % \n",
            "Test Loss: 0.321864\t Test Accuracy: 88.318690 %\n",
            "[EPOCH: 5, BATCH:   384]\t Loss: 0.289\t Accuracy: 90.161 % \n",
            "Test Loss: 0.338102\t Test Accuracy: 87.659744 %\n",
            "[EPOCH: 5, BATCH:   512]\t Loss: 0.269\t Accuracy: 90.503 % \n",
            "Test Loss: 0.333292\t Test Accuracy: 87.699681 %\n",
            "[EPOCH: 5, BATCH:   640]\t Loss: 0.285\t Accuracy: 90.063 % \n",
            "Test Loss: 0.321085\t Test Accuracy: 88.158946 %\n",
            "[EPOCH: 5, BATCH:   768]\t Loss: 0.274\t Accuracy: 89.526 % \n",
            "Test Loss: 0.330940\t Test Accuracy: 87.879393 %\n",
            "[EPOCH: 5, BATCH:   896]\t Loss: 0.274\t Accuracy: 89.844 % \n",
            "Test Loss: 0.338795\t Test Accuracy: 87.879393 %\n",
            "[EPOCH: 5, BATCH:  1024]\t Loss: 0.275\t Accuracy: 89.868 % \n",
            "Test Loss: 0.321473\t Test Accuracy: 88.218850 %\n",
            "[EPOCH: 5, BATCH:  1152]\t Loss: 0.277\t Accuracy: 90.332 % \n",
            "Test Loss: 0.312987\t Test Accuracy: 88.578275 %\n",
            "[EPOCH: 5, BATCH:  1280]\t Loss: 0.277\t Accuracy: 89.917 % \n",
            "Test Loss: 0.316827\t Test Accuracy: 88.528355 %\n",
            "[EPOCH: 5, BATCH:  1408]\t Loss: 0.280\t Accuracy: 89.380 % \n",
            "Test Loss: 0.319855\t Test Accuracy: 88.348642 %\n",
            "[EPOCH: 5, BATCH:  1536]\t Loss: 0.275\t Accuracy: 90.283 % \n",
            "Test Loss: 0.306810\t Test Accuracy: 88.837859 %\n",
            "[EPOCH: 5, BATCH:  1664]\t Loss: 0.250\t Accuracy: 90.625 % \n",
            "Test Loss: 0.307564\t Test Accuracy: 88.867812 %\n",
            "[EPOCH: 5, BATCH:  1792]\t Loss: 0.267\t Accuracy: 90.186 % \n",
            "Test Loss: 0.321326\t Test Accuracy: 88.338658 %\n"
          ],
          "name": "stdout"
        },
        {
          "output_type": "stream",
          "text": [
            "/usr/local/lib/python3.6/dist-packages/torch/serialization.py:402: UserWarning: Couldn't retrieve source code for container of type ConvNet. It won't be checked for correctness upon loading.\n",
            "  \"type \" + obj.__name__ + \". It won't be checked \"\n"
          ],
          "name": "stderr"
        }
      ]
    },
    {
      "cell_type": "code",
      "metadata": {
        "id": "sFx_BNtukJKm",
        "colab_type": "code",
        "colab": {}
      },
      "source": [
        "np.save(\"Losses.npy\", np.asarray(losses))\n",
        "np.save(\"Accuracies.npy\", np.asarray(accuracies))\n",
        "np.save(\"TestLosses.npy\", np.asarray(t_losses))\n",
        "np.save(\"TestAccuracies.npy\", np.asarray(t_accuracies))"
      ],
      "execution_count": 0,
      "outputs": []
    },
    {
      "cell_type": "markdown",
      "metadata": {
        "id": "nVK46tgXvBMg",
        "colab_type": "text"
      },
      "source": [
        "### If resuming from here download the .npy file from here"
      ]
    },
    {
      "cell_type": "code",
      "metadata": {
        "id": "4LOmgcLIvKnf",
        "colab_type": "code",
        "outputId": "eb540a2d-7d21-4f88-c588-3bd8b6ca4c1b",
        "colab": {
          "base_uri": "https://localhost:8080/",
          "height": 139
        }
      },
      "source": [
        "!wget https://github.com/Sooryakiran/CS6886_SysDL/raw/master/assignment_3/Step%201/Data/Accuracies.npy --no-verbose\n",
        "!wget https://github.com/Sooryakiran/CS6886_SysDL/raw/master/assignment_3/Step%201/Data/Losses.npy --no-verbose\n",
        "!wget https://github.com/Sooryakiran/CS6886_SysDL/raw/master/assignment_3/Step%201/Data/TestAccuracies.npy --no-verbose\n",
        "!wget https://github.com/Sooryakiran/CS6886_SysDL/raw/master/assignment_3/Step%201/Data/TestLosses.npy --no-verbose"
      ],
      "execution_count": 0,
      "outputs": [
        {
          "output_type": "stream",
          "text": [
            "2020-05-04 16:41:47 URL:https://raw.githubusercontent.com/Sooryakiran/CS6886_SysDL/master/assignment_3/Step%201/Data/Accuracies.npy [688/688] -> \"Accuracies.npy.1\" [1]\n",
            "2020-05-04 16:41:50 URL:https://raw.githubusercontent.com/Sooryakiran/CS6886_SysDL/master/assignment_3/Step%201/Data/Losses.npy [688/688] -> \"Losses.npy\" [1]\n",
            "2020-05-04 16:41:53 URL:https://raw.githubusercontent.com/Sooryakiran/CS6886_SysDL/master/assignment_3/Step%201/Data/TestAccuracies.npy [688/688] -> \"TestAccuracies.npy\" [1]\n",
            "2020-05-04 16:41:55 URL:https://raw.githubusercontent.com/Sooryakiran/CS6886_SysDL/master/assignment_3/Step%201/Data/TestLosses.npy [688/688] -> \"TestLosses.npy\" [1]\n",
            "core  full  mqueue  ptmx  random  stderr  stdout  urandom\n",
            "fd    fuse  null    pts   shm\t  stdin   tty\t  zero\n"
          ],
          "name": "stdout"
        }
      ]
    },
    {
      "cell_type": "code",
      "metadata": {
        "id": "RwWkxJYtF1sm",
        "colab_type": "code",
        "colab": {}
      },
      "source": [
        "losses = np.load(\"Losses.npy\")\n",
        "accuracies = np.load(\"Accuracies.npy\")\n",
        "t_losses = np.load(\"TestLosses.npy\")\n",
        "t_accuracies = np.load(\"TestAccuracies.npy\")\n",
        "PRINT_EVERY = 128"
      ],
      "execution_count": 0,
      "outputs": []
    },
    {
      "cell_type": "markdown",
      "metadata": {
        "id": "7v3_VizcvjRV",
        "colab_type": "text"
      },
      "source": [
        "### Plot charts"
      ]
    },
    {
      "cell_type": "code",
      "metadata": {
        "id": "MxSkK6vhmxs7",
        "colab_type": "code",
        "colab": {}
      },
      "source": [
        "num_batches = np.arange(len(losses)) * PRINT_EVERY\n",
        "\n",
        "mpl.style.use('seaborn')\n",
        "fig, ax = plt.subplots()\n",
        "ax.set_title('Losses', color='C0')\n",
        "ax.plot(num_batches, losses, 'C2', label = \"Train Loss\" )\n",
        "ax.plot(num_batches, t_losses, 'C1', label = \"Test Loss\")\n",
        "plt.xlabel(\"Batches\")\n",
        "plt.ylabel(\"Loss\")\n",
        "ax.legend()\n",
        "\n",
        "fig, bx = plt.subplots()\n",
        "bx.set_title('Accuracies', color='C0')\n",
        "bx.plot(num_batches, accuracies, 'C2', label = \"Train Accuracy\" )\n",
        "bx.plot(num_batches, t_accuracies, 'C1', label = \"Test Accuracy\")\n",
        "plt.ylim(50, 100)  \n",
        "plt.xlabel(\"Batches\")\n",
        "plt.ylabel(\"Accuracy in %\")\n",
        "bx.legend()"
      ],
      "execution_count": 0,
      "outputs": []
    },
    {
      "cell_type": "markdown",
      "metadata": {
        "id": "Fv6HQk-vNENT",
        "colab_type": "text"
      },
      "source": [
        "### Data preparation for Google Facets\n",
        "\n",
        "Load the saved model and run on the test dataset. Log the outputs into a list."
      ]
    },
    {
      "cell_type": "code",
      "metadata": {
        "id": "pn2SopPfv3Ys",
        "colab_type": "code",
        "outputId": "3d8b4193-9129-4b5f-fbdd-8c0e6bee51c6",
        "colab": {
          "base_uri": "https://localhost:8080/",
          "height": 54
        }
      },
      "source": [
        "\"\"\"\n",
        "Skip if you already have the model saved after training above. Run only if resuming after training.\n",
        "\n",
        "\"\"\"\n",
        "\n",
        "!wget https://github.com/Sooryakiran/CS6886_SysDL/raw/master/assignment_3/Step%201/model.pth --no-verbose"
      ],
      "execution_count": 0,
      "outputs": [
        {
          "output_type": "stream",
          "text": [
            "2020-05-04 16:44:00 URL:https://raw.githubusercontent.com/Sooryakiran/CS6886_SysDL/master/assignment_3/Step%201/model.pth [3712675/3712675] -> \"model.pth.1\" [1]\n"
          ],
          "name": "stdout"
        }
      ]
    },
    {
      "cell_type": "code",
      "metadata": {
        "id": "poVggNXkvq00",
        "colab_type": "code",
        "colab": {}
      },
      "source": [
        "model = ConvNet()\n",
        "model = torch.load(\"model.pth\")\n",
        "model.eval()\n",
        "\n",
        "test_dataloader  = torch.utils.data.DataLoader(test_dataset, batch_size = BATCH_SIZE, shuffle = False, num_workers = 2)\n",
        "\n",
        "labels = []\n",
        "predictions = []\n",
        "for i, data in enumerate(test_dataloader):\n",
        "    x, y = data\n",
        "    y = y.numpy()\n",
        "    labels += list(y)\n",
        "\n",
        "    y_ = torch.argmax(model(x), dim = -1).detach().numpy()\n",
        "    predictions += list(y_)"
      ],
      "execution_count": 0,
      "outputs": []
    },
    {
      "cell_type": "markdown",
      "metadata": {
        "id": "rF-Kbh92RwgV",
        "colab_type": "text"
      },
      "source": [
        "#### Define the class names"
      ]
    },
    {
      "cell_type": "code",
      "metadata": {
        "id": "ZrBRugmSvvls",
        "colab_type": "code",
        "colab": {}
      },
      "source": [
        "classes = [\"T-shirt/top\",\\\n",
        "           \"Trouser\",\\\n",
        "           \"Pullover\",\\\n",
        "           \"Dress\",\\\n",
        "           \"Coat\",\\\n",
        "           \"Sandal\",\\\n",
        "           \"Shirt\",\\\n",
        "           \"Sneaker\",\\\n",
        "           \"Bag\",\\\n",
        "           \"Ankle boot\"]"
      ],
      "execution_count": 0,
      "outputs": []
    },
    {
      "cell_type": "markdown",
      "metadata": {
        "id": "oH61LOnmRyjL",
        "colab_type": "text"
      },
      "source": [
        "#### Save the test predictions into a CSV file"
      ]
    },
    {
      "cell_type": "code",
      "metadata": {
        "id": "Cpw3pSKLNpxf",
        "colab_type": "code",
        "colab": {}
      },
      "source": [
        "!rm test_performance.csv\n",
        "fp = open(\"test_performance.csv\", 'w')\n",
        "fp.seek(0, 0)\n",
        "fp.write(\"True,Predicted\\n\")\n",
        "for i in range(10000):\n",
        "    string = classes[labels[i]] + \",\" + classes[predictions[i]] + \"\\n\"\n",
        "    fp.write(string)\n",
        "fp.flush()\n",
        "fp.close()"
      ],
      "execution_count": 0,
      "outputs": []
    }
  ]
}