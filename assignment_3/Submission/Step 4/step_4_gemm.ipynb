{
  "nbformat": 4,
  "nbformat_minor": 0,
  "metadata": {
    "colab": {
      "name": "step_4_gemm.ipynb",
      "provenance": [],
      "collapsed_sections": [],
      "mount_file_id": "1c-xGBwDrpOIPOzFJTYuBywxk3DhyvvIa",
      "authorship_tag": "ABX9TyO5jZvi+QkF7e2BSupqSJSc",
      "include_colab_link": true
    },
    "kernelspec": {
      "name": "python3",
      "display_name": "Python 3"
    },
    "accelerator": "GPU",
    "widgets": {
      "application/vnd.jupyter.widget-state+json": {
        "00c22a81722a4b67b55eba75f1ebb47e": {
          "model_module": "@jupyter-widgets/controls",
          "model_name": "HBoxModel",
          "state": {
            "_view_name": "HBoxView",
            "_dom_classes": [],
            "_model_name": "HBoxModel",
            "_view_module": "@jupyter-widgets/controls",
            "_model_module_version": "1.5.0",
            "_view_count": null,
            "_view_module_version": "1.5.0",
            "box_style": "",
            "layout": "IPY_MODEL_7285044550f94c22ac08c6fe6cd02129",
            "_model_module": "@jupyter-widgets/controls",
            "children": [
              "IPY_MODEL_6b416abcd9af41b583b0db480ad4f0eb",
              "IPY_MODEL_4cb3540071e14334b293e8abfc743c83"
            ]
          }
        },
        "7285044550f94c22ac08c6fe6cd02129": {
          "model_module": "@jupyter-widgets/base",
          "model_name": "LayoutModel",
          "state": {
            "_view_name": "LayoutView",
            "grid_template_rows": null,
            "right": null,
            "justify_content": null,
            "_view_module": "@jupyter-widgets/base",
            "overflow": null,
            "_model_module_version": "1.2.0",
            "_view_count": null,
            "flex_flow": null,
            "width": null,
            "min_width": null,
            "border": null,
            "align_items": null,
            "bottom": null,
            "_model_module": "@jupyter-widgets/base",
            "top": null,
            "grid_column": null,
            "overflow_y": null,
            "overflow_x": null,
            "grid_auto_flow": null,
            "grid_area": null,
            "grid_template_columns": null,
            "flex": null,
            "_model_name": "LayoutModel",
            "justify_items": null,
            "grid_row": null,
            "max_height": null,
            "align_content": null,
            "visibility": null,
            "align_self": null,
            "height": null,
            "min_height": null,
            "padding": null,
            "grid_auto_rows": null,
            "grid_gap": null,
            "max_width": null,
            "order": null,
            "_view_module_version": "1.2.0",
            "grid_template_areas": null,
            "object_position": null,
            "object_fit": null,
            "grid_auto_columns": null,
            "margin": null,
            "display": null,
            "left": null
          }
        },
        "6b416abcd9af41b583b0db480ad4f0eb": {
          "model_module": "@jupyter-widgets/controls",
          "model_name": "FloatProgressModel",
          "state": {
            "_view_name": "ProgressView",
            "style": "IPY_MODEL_1fde94bb07a74c5b80459aedac5b4b61",
            "_dom_classes": [],
            "description": "",
            "_model_name": "FloatProgressModel",
            "bar_style": "success",
            "max": 1,
            "_view_module": "@jupyter-widgets/controls",
            "_model_module_version": "1.5.0",
            "value": 1,
            "_view_count": null,
            "_view_module_version": "1.5.0",
            "orientation": "horizontal",
            "min": 0,
            "description_tooltip": null,
            "_model_module": "@jupyter-widgets/controls",
            "layout": "IPY_MODEL_fb3cb8520e9445f59dd397078948797e"
          }
        },
        "4cb3540071e14334b293e8abfc743c83": {
          "model_module": "@jupyter-widgets/controls",
          "model_name": "HTMLModel",
          "state": {
            "_view_name": "HTMLView",
            "style": "IPY_MODEL_c079737b02fd409e8d5225c37b0ac7f9",
            "_dom_classes": [],
            "description": "",
            "_model_name": "HTMLModel",
            "placeholder": "​",
            "_view_module": "@jupyter-widgets/controls",
            "_model_module_version": "1.5.0",
            "value": " 26427392/? [00:05&lt;00:00, 4659242.70it/s]",
            "_view_count": null,
            "_view_module_version": "1.5.0",
            "description_tooltip": null,
            "_model_module": "@jupyter-widgets/controls",
            "layout": "IPY_MODEL_e3999db461794ddeabdfad149f18e2c3"
          }
        },
        "1fde94bb07a74c5b80459aedac5b4b61": {
          "model_module": "@jupyter-widgets/controls",
          "model_name": "ProgressStyleModel",
          "state": {
            "_view_name": "StyleView",
            "_model_name": "ProgressStyleModel",
            "description_width": "initial",
            "_view_module": "@jupyter-widgets/base",
            "_model_module_version": "1.5.0",
            "_view_count": null,
            "_view_module_version": "1.2.0",
            "bar_color": null,
            "_model_module": "@jupyter-widgets/controls"
          }
        },
        "fb3cb8520e9445f59dd397078948797e": {
          "model_module": "@jupyter-widgets/base",
          "model_name": "LayoutModel",
          "state": {
            "_view_name": "LayoutView",
            "grid_template_rows": null,
            "right": null,
            "justify_content": null,
            "_view_module": "@jupyter-widgets/base",
            "overflow": null,
            "_model_module_version": "1.2.0",
            "_view_count": null,
            "flex_flow": null,
            "width": null,
            "min_width": null,
            "border": null,
            "align_items": null,
            "bottom": null,
            "_model_module": "@jupyter-widgets/base",
            "top": null,
            "grid_column": null,
            "overflow_y": null,
            "overflow_x": null,
            "grid_auto_flow": null,
            "grid_area": null,
            "grid_template_columns": null,
            "flex": null,
            "_model_name": "LayoutModel",
            "justify_items": null,
            "grid_row": null,
            "max_height": null,
            "align_content": null,
            "visibility": null,
            "align_self": null,
            "height": null,
            "min_height": null,
            "padding": null,
            "grid_auto_rows": null,
            "grid_gap": null,
            "max_width": null,
            "order": null,
            "_view_module_version": "1.2.0",
            "grid_template_areas": null,
            "object_position": null,
            "object_fit": null,
            "grid_auto_columns": null,
            "margin": null,
            "display": null,
            "left": null
          }
        },
        "c079737b02fd409e8d5225c37b0ac7f9": {
          "model_module": "@jupyter-widgets/controls",
          "model_name": "DescriptionStyleModel",
          "state": {
            "_view_name": "StyleView",
            "_model_name": "DescriptionStyleModel",
            "description_width": "",
            "_view_module": "@jupyter-widgets/base",
            "_model_module_version": "1.5.0",
            "_view_count": null,
            "_view_module_version": "1.2.0",
            "_model_module": "@jupyter-widgets/controls"
          }
        },
        "e3999db461794ddeabdfad149f18e2c3": {
          "model_module": "@jupyter-widgets/base",
          "model_name": "LayoutModel",
          "state": {
            "_view_name": "LayoutView",
            "grid_template_rows": null,
            "right": null,
            "justify_content": null,
            "_view_module": "@jupyter-widgets/base",
            "overflow": null,
            "_model_module_version": "1.2.0",
            "_view_count": null,
            "flex_flow": null,
            "width": null,
            "min_width": null,
            "border": null,
            "align_items": null,
            "bottom": null,
            "_model_module": "@jupyter-widgets/base",
            "top": null,
            "grid_column": null,
            "overflow_y": null,
            "overflow_x": null,
            "grid_auto_flow": null,
            "grid_area": null,
            "grid_template_columns": null,
            "flex": null,
            "_model_name": "LayoutModel",
            "justify_items": null,
            "grid_row": null,
            "max_height": null,
            "align_content": null,
            "visibility": null,
            "align_self": null,
            "height": null,
            "min_height": null,
            "padding": null,
            "grid_auto_rows": null,
            "grid_gap": null,
            "max_width": null,
            "order": null,
            "_view_module_version": "1.2.0",
            "grid_template_areas": null,
            "object_position": null,
            "object_fit": null,
            "grid_auto_columns": null,
            "margin": null,
            "display": null,
            "left": null
          }
        },
        "84b38b794348495da6da0c5ee9a881e5": {
          "model_module": "@jupyter-widgets/controls",
          "model_name": "HBoxModel",
          "state": {
            "_view_name": "HBoxView",
            "_dom_classes": [],
            "_model_name": "HBoxModel",
            "_view_module": "@jupyter-widgets/controls",
            "_model_module_version": "1.5.0",
            "_view_count": null,
            "_view_module_version": "1.5.0",
            "box_style": "",
            "layout": "IPY_MODEL_7c0d3d612cd1486f9429d8c4f8037ec9",
            "_model_module": "@jupyter-widgets/controls",
            "children": [
              "IPY_MODEL_54770ee644c64520b07ad662deaa188f",
              "IPY_MODEL_f9f66466fe88464fa6d4e580dcba7e7d"
            ]
          }
        },
        "7c0d3d612cd1486f9429d8c4f8037ec9": {
          "model_module": "@jupyter-widgets/base",
          "model_name": "LayoutModel",
          "state": {
            "_view_name": "LayoutView",
            "grid_template_rows": null,
            "right": null,
            "justify_content": null,
            "_view_module": "@jupyter-widgets/base",
            "overflow": null,
            "_model_module_version": "1.2.0",
            "_view_count": null,
            "flex_flow": null,
            "width": null,
            "min_width": null,
            "border": null,
            "align_items": null,
            "bottom": null,
            "_model_module": "@jupyter-widgets/base",
            "top": null,
            "grid_column": null,
            "overflow_y": null,
            "overflow_x": null,
            "grid_auto_flow": null,
            "grid_area": null,
            "grid_template_columns": null,
            "flex": null,
            "_model_name": "LayoutModel",
            "justify_items": null,
            "grid_row": null,
            "max_height": null,
            "align_content": null,
            "visibility": null,
            "align_self": null,
            "height": null,
            "min_height": null,
            "padding": null,
            "grid_auto_rows": null,
            "grid_gap": null,
            "max_width": null,
            "order": null,
            "_view_module_version": "1.2.0",
            "grid_template_areas": null,
            "object_position": null,
            "object_fit": null,
            "grid_auto_columns": null,
            "margin": null,
            "display": null,
            "left": null
          }
        },
        "54770ee644c64520b07ad662deaa188f": {
          "model_module": "@jupyter-widgets/controls",
          "model_name": "FloatProgressModel",
          "state": {
            "_view_name": "ProgressView",
            "style": "IPY_MODEL_718d8e2526674df4b113196b68298415",
            "_dom_classes": [],
            "description": "",
            "_model_name": "FloatProgressModel",
            "bar_style": "info",
            "max": 1,
            "_view_module": "@jupyter-widgets/controls",
            "_model_module_version": "1.5.0",
            "value": 1,
            "_view_count": null,
            "_view_module_version": "1.5.0",
            "orientation": "horizontal",
            "min": 0,
            "description_tooltip": null,
            "_model_module": "@jupyter-widgets/controls",
            "layout": "IPY_MODEL_65f096c0e24d414c9fc67ff56a9fc4a3"
          }
        },
        "f9f66466fe88464fa6d4e580dcba7e7d": {
          "model_module": "@jupyter-widgets/controls",
          "model_name": "HTMLModel",
          "state": {
            "_view_name": "HTMLView",
            "style": "IPY_MODEL_c8a0b1d4a35144b1a0a76099e15104be",
            "_dom_classes": [],
            "description": "",
            "_model_name": "HTMLModel",
            "placeholder": "​",
            "_view_module": "@jupyter-widgets/controls",
            "_model_module_version": "1.5.0",
            "value": " 32768/? [00:14&lt;00:00, 53328.95it/s]",
            "_view_count": null,
            "_view_module_version": "1.5.0",
            "description_tooltip": null,
            "_model_module": "@jupyter-widgets/controls",
            "layout": "IPY_MODEL_0d19fc71725b4d6284679b1e921ae64e"
          }
        },
        "718d8e2526674df4b113196b68298415": {
          "model_module": "@jupyter-widgets/controls",
          "model_name": "ProgressStyleModel",
          "state": {
            "_view_name": "StyleView",
            "_model_name": "ProgressStyleModel",
            "description_width": "initial",
            "_view_module": "@jupyter-widgets/base",
            "_model_module_version": "1.5.0",
            "_view_count": null,
            "_view_module_version": "1.2.0",
            "bar_color": null,
            "_model_module": "@jupyter-widgets/controls"
          }
        },
        "65f096c0e24d414c9fc67ff56a9fc4a3": {
          "model_module": "@jupyter-widgets/base",
          "model_name": "LayoutModel",
          "state": {
            "_view_name": "LayoutView",
            "grid_template_rows": null,
            "right": null,
            "justify_content": null,
            "_view_module": "@jupyter-widgets/base",
            "overflow": null,
            "_model_module_version": "1.2.0",
            "_view_count": null,
            "flex_flow": null,
            "width": null,
            "min_width": null,
            "border": null,
            "align_items": null,
            "bottom": null,
            "_model_module": "@jupyter-widgets/base",
            "top": null,
            "grid_column": null,
            "overflow_y": null,
            "overflow_x": null,
            "grid_auto_flow": null,
            "grid_area": null,
            "grid_template_columns": null,
            "flex": null,
            "_model_name": "LayoutModel",
            "justify_items": null,
            "grid_row": null,
            "max_height": null,
            "align_content": null,
            "visibility": null,
            "align_self": null,
            "height": null,
            "min_height": null,
            "padding": null,
            "grid_auto_rows": null,
            "grid_gap": null,
            "max_width": null,
            "order": null,
            "_view_module_version": "1.2.0",
            "grid_template_areas": null,
            "object_position": null,
            "object_fit": null,
            "grid_auto_columns": null,
            "margin": null,
            "display": null,
            "left": null
          }
        },
        "c8a0b1d4a35144b1a0a76099e15104be": {
          "model_module": "@jupyter-widgets/controls",
          "model_name": "DescriptionStyleModel",
          "state": {
            "_view_name": "StyleView",
            "_model_name": "DescriptionStyleModel",
            "description_width": "",
            "_view_module": "@jupyter-widgets/base",
            "_model_module_version": "1.5.0",
            "_view_count": null,
            "_view_module_version": "1.2.0",
            "_model_module": "@jupyter-widgets/controls"
          }
        },
        "0d19fc71725b4d6284679b1e921ae64e": {
          "model_module": "@jupyter-widgets/base",
          "model_name": "LayoutModel",
          "state": {
            "_view_name": "LayoutView",
            "grid_template_rows": null,
            "right": null,
            "justify_content": null,
            "_view_module": "@jupyter-widgets/base",
            "overflow": null,
            "_model_module_version": "1.2.0",
            "_view_count": null,
            "flex_flow": null,
            "width": null,
            "min_width": null,
            "border": null,
            "align_items": null,
            "bottom": null,
            "_model_module": "@jupyter-widgets/base",
            "top": null,
            "grid_column": null,
            "overflow_y": null,
            "overflow_x": null,
            "grid_auto_flow": null,
            "grid_area": null,
            "grid_template_columns": null,
            "flex": null,
            "_model_name": "LayoutModel",
            "justify_items": null,
            "grid_row": null,
            "max_height": null,
            "align_content": null,
            "visibility": null,
            "align_self": null,
            "height": null,
            "min_height": null,
            "padding": null,
            "grid_auto_rows": null,
            "grid_gap": null,
            "max_width": null,
            "order": null,
            "_view_module_version": "1.2.0",
            "grid_template_areas": null,
            "object_position": null,
            "object_fit": null,
            "grid_auto_columns": null,
            "margin": null,
            "display": null,
            "left": null
          }
        },
        "d2e169ebbf3a44e6acad980d6e4be2f4": {
          "model_module": "@jupyter-widgets/controls",
          "model_name": "HBoxModel",
          "state": {
            "_view_name": "HBoxView",
            "_dom_classes": [],
            "_model_name": "HBoxModel",
            "_view_module": "@jupyter-widgets/controls",
            "_model_module_version": "1.5.0",
            "_view_count": null,
            "_view_module_version": "1.5.0",
            "box_style": "",
            "layout": "IPY_MODEL_bb97fef77a3a493db9e6f11201c60b48",
            "_model_module": "@jupyter-widgets/controls",
            "children": [
              "IPY_MODEL_350b8007209b4fd0988ef2fd15fcc5c4",
              "IPY_MODEL_9c7cd06e0e324e3f9f3b87fddf4cc4fe"
            ]
          }
        },
        "bb97fef77a3a493db9e6f11201c60b48": {
          "model_module": "@jupyter-widgets/base",
          "model_name": "LayoutModel",
          "state": {
            "_view_name": "LayoutView",
            "grid_template_rows": null,
            "right": null,
            "justify_content": null,
            "_view_module": "@jupyter-widgets/base",
            "overflow": null,
            "_model_module_version": "1.2.0",
            "_view_count": null,
            "flex_flow": null,
            "width": null,
            "min_width": null,
            "border": null,
            "align_items": null,
            "bottom": null,
            "_model_module": "@jupyter-widgets/base",
            "top": null,
            "grid_column": null,
            "overflow_y": null,
            "overflow_x": null,
            "grid_auto_flow": null,
            "grid_area": null,
            "grid_template_columns": null,
            "flex": null,
            "_model_name": "LayoutModel",
            "justify_items": null,
            "grid_row": null,
            "max_height": null,
            "align_content": null,
            "visibility": null,
            "align_self": null,
            "height": null,
            "min_height": null,
            "padding": null,
            "grid_auto_rows": null,
            "grid_gap": null,
            "max_width": null,
            "order": null,
            "_view_module_version": "1.2.0",
            "grid_template_areas": null,
            "object_position": null,
            "object_fit": null,
            "grid_auto_columns": null,
            "margin": null,
            "display": null,
            "left": null
          }
        },
        "350b8007209b4fd0988ef2fd15fcc5c4": {
          "model_module": "@jupyter-widgets/controls",
          "model_name": "FloatProgressModel",
          "state": {
            "_view_name": "ProgressView",
            "style": "IPY_MODEL_839a194639944c13b43d770e156547a8",
            "_dom_classes": [],
            "description": "",
            "_model_name": "FloatProgressModel",
            "bar_style": "info",
            "max": 1,
            "_view_module": "@jupyter-widgets/controls",
            "_model_module_version": "1.5.0",
            "value": 1,
            "_view_count": null,
            "_view_module_version": "1.5.0",
            "orientation": "horizontal",
            "min": 0,
            "description_tooltip": null,
            "_model_module": "@jupyter-widgets/controls",
            "layout": "IPY_MODEL_f4414dd93af146c1b8c5bf6733343a62"
          }
        },
        "9c7cd06e0e324e3f9f3b87fddf4cc4fe": {
          "model_module": "@jupyter-widgets/controls",
          "model_name": "HTMLModel",
          "state": {
            "_view_name": "HTMLView",
            "style": "IPY_MODEL_df1b8cdab413499093262f3b1940b1dd",
            "_dom_classes": [],
            "description": "",
            "_model_name": "HTMLModel",
            "placeholder": "​",
            "_view_module": "@jupyter-widgets/controls",
            "_model_module_version": "1.5.0",
            "value": " 4423680/? [00:13&lt;00:00, 354455.38it/s]",
            "_view_count": null,
            "_view_module_version": "1.5.0",
            "description_tooltip": null,
            "_model_module": "@jupyter-widgets/controls",
            "layout": "IPY_MODEL_60f0230c26af4999a7c8a390eed9cedb"
          }
        },
        "839a194639944c13b43d770e156547a8": {
          "model_module": "@jupyter-widgets/controls",
          "model_name": "ProgressStyleModel",
          "state": {
            "_view_name": "StyleView",
            "_model_name": "ProgressStyleModel",
            "description_width": "initial",
            "_view_module": "@jupyter-widgets/base",
            "_model_module_version": "1.5.0",
            "_view_count": null,
            "_view_module_version": "1.2.0",
            "bar_color": null,
            "_model_module": "@jupyter-widgets/controls"
          }
        },
        "f4414dd93af146c1b8c5bf6733343a62": {
          "model_module": "@jupyter-widgets/base",
          "model_name": "LayoutModel",
          "state": {
            "_view_name": "LayoutView",
            "grid_template_rows": null,
            "right": null,
            "justify_content": null,
            "_view_module": "@jupyter-widgets/base",
            "overflow": null,
            "_model_module_version": "1.2.0",
            "_view_count": null,
            "flex_flow": null,
            "width": null,
            "min_width": null,
            "border": null,
            "align_items": null,
            "bottom": null,
            "_model_module": "@jupyter-widgets/base",
            "top": null,
            "grid_column": null,
            "overflow_y": null,
            "overflow_x": null,
            "grid_auto_flow": null,
            "grid_area": null,
            "grid_template_columns": null,
            "flex": null,
            "_model_name": "LayoutModel",
            "justify_items": null,
            "grid_row": null,
            "max_height": null,
            "align_content": null,
            "visibility": null,
            "align_self": null,
            "height": null,
            "min_height": null,
            "padding": null,
            "grid_auto_rows": null,
            "grid_gap": null,
            "max_width": null,
            "order": null,
            "_view_module_version": "1.2.0",
            "grid_template_areas": null,
            "object_position": null,
            "object_fit": null,
            "grid_auto_columns": null,
            "margin": null,
            "display": null,
            "left": null
          }
        },
        "df1b8cdab413499093262f3b1940b1dd": {
          "model_module": "@jupyter-widgets/controls",
          "model_name": "DescriptionStyleModel",
          "state": {
            "_view_name": "StyleView",
            "_model_name": "DescriptionStyleModel",
            "description_width": "",
            "_view_module": "@jupyter-widgets/base",
            "_model_module_version": "1.5.0",
            "_view_count": null,
            "_view_module_version": "1.2.0",
            "_model_module": "@jupyter-widgets/controls"
          }
        },
        "60f0230c26af4999a7c8a390eed9cedb": {
          "model_module": "@jupyter-widgets/base",
          "model_name": "LayoutModel",
          "state": {
            "_view_name": "LayoutView",
            "grid_template_rows": null,
            "right": null,
            "justify_content": null,
            "_view_module": "@jupyter-widgets/base",
            "overflow": null,
            "_model_module_version": "1.2.0",
            "_view_count": null,
            "flex_flow": null,
            "width": null,
            "min_width": null,
            "border": null,
            "align_items": null,
            "bottom": null,
            "_model_module": "@jupyter-widgets/base",
            "top": null,
            "grid_column": null,
            "overflow_y": null,
            "overflow_x": null,
            "grid_auto_flow": null,
            "grid_area": null,
            "grid_template_columns": null,
            "flex": null,
            "_model_name": "LayoutModel",
            "justify_items": null,
            "grid_row": null,
            "max_height": null,
            "align_content": null,
            "visibility": null,
            "align_self": null,
            "height": null,
            "min_height": null,
            "padding": null,
            "grid_auto_rows": null,
            "grid_gap": null,
            "max_width": null,
            "order": null,
            "_view_module_version": "1.2.0",
            "grid_template_areas": null,
            "object_position": null,
            "object_fit": null,
            "grid_auto_columns": null,
            "margin": null,
            "display": null,
            "left": null
          }
        },
        "73aa7b34fce8449f853ad360a254e661": {
          "model_module": "@jupyter-widgets/controls",
          "model_name": "HBoxModel",
          "state": {
            "_view_name": "HBoxView",
            "_dom_classes": [],
            "_model_name": "HBoxModel",
            "_view_module": "@jupyter-widgets/controls",
            "_model_module_version": "1.5.0",
            "_view_count": null,
            "_view_module_version": "1.5.0",
            "box_style": "",
            "layout": "IPY_MODEL_577faba5085b479392625e6ae69f409a",
            "_model_module": "@jupyter-widgets/controls",
            "children": [
              "IPY_MODEL_b13f359786f7440e975aaf7c834f4d33",
              "IPY_MODEL_20d4de817c324d62afa09df2dca7d136"
            ]
          }
        },
        "577faba5085b479392625e6ae69f409a": {
          "model_module": "@jupyter-widgets/base",
          "model_name": "LayoutModel",
          "state": {
            "_view_name": "LayoutView",
            "grid_template_rows": null,
            "right": null,
            "justify_content": null,
            "_view_module": "@jupyter-widgets/base",
            "overflow": null,
            "_model_module_version": "1.2.0",
            "_view_count": null,
            "flex_flow": null,
            "width": null,
            "min_width": null,
            "border": null,
            "align_items": null,
            "bottom": null,
            "_model_module": "@jupyter-widgets/base",
            "top": null,
            "grid_column": null,
            "overflow_y": null,
            "overflow_x": null,
            "grid_auto_flow": null,
            "grid_area": null,
            "grid_template_columns": null,
            "flex": null,
            "_model_name": "LayoutModel",
            "justify_items": null,
            "grid_row": null,
            "max_height": null,
            "align_content": null,
            "visibility": null,
            "align_self": null,
            "height": null,
            "min_height": null,
            "padding": null,
            "grid_auto_rows": null,
            "grid_gap": null,
            "max_width": null,
            "order": null,
            "_view_module_version": "1.2.0",
            "grid_template_areas": null,
            "object_position": null,
            "object_fit": null,
            "grid_auto_columns": null,
            "margin": null,
            "display": null,
            "left": null
          }
        },
        "b13f359786f7440e975aaf7c834f4d33": {
          "model_module": "@jupyter-widgets/controls",
          "model_name": "FloatProgressModel",
          "state": {
            "_view_name": "ProgressView",
            "style": "IPY_MODEL_c0f262d2bdba453d9629d8b998155e31",
            "_dom_classes": [],
            "description": "  0%",
            "_model_name": "FloatProgressModel",
            "bar_style": "info",
            "max": 1,
            "_view_module": "@jupyter-widgets/controls",
            "_model_module_version": "1.5.0",
            "value": 0,
            "_view_count": null,
            "_view_module_version": "1.5.0",
            "orientation": "horizontal",
            "min": 0,
            "description_tooltip": null,
            "_model_module": "@jupyter-widgets/controls",
            "layout": "IPY_MODEL_5fef7fe271f040efb768f97c2d67eae7"
          }
        },
        "20d4de817c324d62afa09df2dca7d136": {
          "model_module": "@jupyter-widgets/controls",
          "model_name": "HTMLModel",
          "state": {
            "_view_name": "HTMLView",
            "style": "IPY_MODEL_1545fe37fa8c4c9f89eb7ebf7b73f21d",
            "_dom_classes": [],
            "description": "",
            "_model_name": "HTMLModel",
            "placeholder": "​",
            "_view_module": "@jupyter-widgets/controls",
            "_model_module_version": "1.5.0",
            "value": " 0/5148 [00:00&lt;?, ?it/s]",
            "_view_count": null,
            "_view_module_version": "1.5.0",
            "description_tooltip": null,
            "_model_module": "@jupyter-widgets/controls",
            "layout": "IPY_MODEL_dd2a8360ddb4456ebe4f6b58d1025bd4"
          }
        },
        "c0f262d2bdba453d9629d8b998155e31": {
          "model_module": "@jupyter-widgets/controls",
          "model_name": "ProgressStyleModel",
          "state": {
            "_view_name": "StyleView",
            "_model_name": "ProgressStyleModel",
            "description_width": "initial",
            "_view_module": "@jupyter-widgets/base",
            "_model_module_version": "1.5.0",
            "_view_count": null,
            "_view_module_version": "1.2.0",
            "bar_color": null,
            "_model_module": "@jupyter-widgets/controls"
          }
        },
        "5fef7fe271f040efb768f97c2d67eae7": {
          "model_module": "@jupyter-widgets/base",
          "model_name": "LayoutModel",
          "state": {
            "_view_name": "LayoutView",
            "grid_template_rows": null,
            "right": null,
            "justify_content": null,
            "_view_module": "@jupyter-widgets/base",
            "overflow": null,
            "_model_module_version": "1.2.0",
            "_view_count": null,
            "flex_flow": null,
            "width": null,
            "min_width": null,
            "border": null,
            "align_items": null,
            "bottom": null,
            "_model_module": "@jupyter-widgets/base",
            "top": null,
            "grid_column": null,
            "overflow_y": null,
            "overflow_x": null,
            "grid_auto_flow": null,
            "grid_area": null,
            "grid_template_columns": null,
            "flex": null,
            "_model_name": "LayoutModel",
            "justify_items": null,
            "grid_row": null,
            "max_height": null,
            "align_content": null,
            "visibility": null,
            "align_self": null,
            "height": null,
            "min_height": null,
            "padding": null,
            "grid_auto_rows": null,
            "grid_gap": null,
            "max_width": null,
            "order": null,
            "_view_module_version": "1.2.0",
            "grid_template_areas": null,
            "object_position": null,
            "object_fit": null,
            "grid_auto_columns": null,
            "margin": null,
            "display": null,
            "left": null
          }
        },
        "1545fe37fa8c4c9f89eb7ebf7b73f21d": {
          "model_module": "@jupyter-widgets/controls",
          "model_name": "DescriptionStyleModel",
          "state": {
            "_view_name": "StyleView",
            "_model_name": "DescriptionStyleModel",
            "description_width": "",
            "_view_module": "@jupyter-widgets/base",
            "_model_module_version": "1.5.0",
            "_view_count": null,
            "_view_module_version": "1.2.0",
            "_model_module": "@jupyter-widgets/controls"
          }
        },
        "dd2a8360ddb4456ebe4f6b58d1025bd4": {
          "model_module": "@jupyter-widgets/base",
          "model_name": "LayoutModel",
          "state": {
            "_view_name": "LayoutView",
            "grid_template_rows": null,
            "right": null,
            "justify_content": null,
            "_view_module": "@jupyter-widgets/base",
            "overflow": null,
            "_model_module_version": "1.2.0",
            "_view_count": null,
            "flex_flow": null,
            "width": null,
            "min_width": null,
            "border": null,
            "align_items": null,
            "bottom": null,
            "_model_module": "@jupyter-widgets/base",
            "top": null,
            "grid_column": null,
            "overflow_y": null,
            "overflow_x": null,
            "grid_auto_flow": null,
            "grid_area": null,
            "grid_template_columns": null,
            "flex": null,
            "_model_name": "LayoutModel",
            "justify_items": null,
            "grid_row": null,
            "max_height": null,
            "align_content": null,
            "visibility": null,
            "align_self": null,
            "height": null,
            "min_height": null,
            "padding": null,
            "grid_auto_rows": null,
            "grid_gap": null,
            "max_width": null,
            "order": null,
            "_view_module_version": "1.2.0",
            "grid_template_areas": null,
            "object_position": null,
            "object_fit": null,
            "grid_auto_columns": null,
            "margin": null,
            "display": null,
            "left": null
          }
        }
      }
    }
  },
  "cells": [
    {
      "cell_type": "markdown",
      "metadata": {
        "id": "view-in-github",
        "colab_type": "text"
      },
      "source": [
        "<a href=\"https://colab.research.google.com/github/Sooryakiran/CS6886_SysDL/blob/master/assignment_3/Submission/Step%204/step_4_gemm.ipynb\" target=\"_parent\"><img src=\"https://colab.research.google.com/assets/colab-badge.svg\" alt=\"Open In Colab\"/></a>"
      ]
    },
    {
      "cell_type": "markdown",
      "metadata": {
        "id": "-Ja3dT-qi8re",
        "colab_type": "text"
      },
      "source": [
        "# Implimentation without nn.Conv2d and nn.Linear"
      ]
    },
    {
      "cell_type": "code",
      "metadata": {
        "id": "gSVRsHj4NbXT",
        "colab_type": "code",
        "colab": {}
      },
      "source": [
        "import torch\n",
        "import torch.nn as nn\n",
        "import torch.nn.functional as F\n",
        "import torch.optim as optim\n",
        "import torchvision\n",
        "import torchvision.transforms as transforms\n",
        "import numpy as np\n",
        "import matplotlib as mpl\n",
        "import matplotlib.pyplot as plt\n",
        "import time\n",
        "import copy\n",
        "from IPython.display import HTML, display\n",
        "from torchsummary import summary"
      ],
      "execution_count": 0,
      "outputs": []
    },
    {
      "cell_type": "markdown",
      "metadata": {
        "id": "1FEuiGJcOjOR",
        "colab_type": "text"
      },
      "source": [
        "### Define useful classes and functions"
      ]
    },
    {
      "cell_type": "code",
      "metadata": {
        "id": "cKHnBN_rOhBb",
        "colab_type": "code",
        "colab": {}
      },
      "source": [
        "class Dense(nn.Module):\n",
        "    \"\"\"\n",
        "    This is the custom implimentation of nn.Linear\n",
        "\n",
        "    \"\"\"\n",
        "    def __init__(self, in_channels, out_channels):\n",
        "        \"\"\"\n",
        "        The class constructor.\n",
        "\n",
        "        @param in_channels  : Number of neurons in the previous layer.\n",
        "        @param out_channels : Number of neurons in the current layer.\n",
        "\n",
        "        \"\"\"\n",
        "\n",
        "        super(Dense, self).__init__()\n",
        "        self.weight = torch.nn.Parameter(data = torch.Tensor(out_channels, in_channels), requires_grad = True)\n",
        "        self.bias   = torch.nn.Parameter(data = torch.Tensor(out_channels), requires_grad = True)\n",
        "    \n",
        "    def forward(self, x):\n",
        "        \"\"\"\n",
        "        Computes the activations of the current layer.\n",
        "\n",
        "        @param x : Input to the current layer.\n",
        "        @return  : Outputs of the current layer\n",
        "\n",
        "        \"\"\"\n",
        "\n",
        "        return self.bias + x @ torch.transpose(self.weight, 1, 0)\n",
        "\n",
        "\n",
        "def isnan(x):\n",
        "    \"\"\"\n",
        "    Check if there is any NaNs in a given tensor.\n",
        "\n",
        "    @param x : Input tensor\n",
        "    @return  : Boolean tensor\n",
        "\n",
        "    \"\"\"\n",
        "\n",
        "    return torch.isnan(torch.sum(x))\n",
        "\n",
        "\n",
        "class Conv2d(nn.Module):\n",
        "    \"\"\"\n",
        "    This is the custom implimentation of nn.Conv2d\n",
        "\n",
        "    NOTE : This is not differentiable.\n",
        "\n",
        "    \"\"\"\n",
        "    def __init__(self, in_channels, out_channels, kernel_size):\n",
        "        \"\"\"\n",
        "        The class constructor.\n",
        "\n",
        "        @param in_channels  : Number of channels in the inputs.\n",
        "        @param out_channels : Number of conv. filters.\n",
        "        @param kernel_size  : Size of the conv. kernels.\n",
        "\n",
        "        \"\"\"\n",
        "        \n",
        "        super(Conv2d, self).__init__()\n",
        "        self.out_channels = out_channels\n",
        "        self.in_channels  = in_channels\n",
        "\n",
        "        if isinstance(kernel_size, int):\n",
        "            kernel_size = [kernel_size, kernel_size]\n",
        "        if len(kernel_size) == 1:\n",
        "            kernel_size = [kernel_size[0], kernel_size[0]]\n",
        "\n",
        "        self.kernel_size = kernel_size\n",
        "        self.weight = torch.nn.Parameter(data = torch.Tensor(out_channels,\\\n",
        "                                                            in_channels,\\\n",
        "                                                            kernel_size[0],\\\n",
        "                                                            kernel_size[1]), requires_grad=True)\n",
        "        self.bias   = torch.nn.Parameter(data = torch.Tensor(out_channels), requires_grad = True)\n",
        "\n",
        "    def forward(self, x):\n",
        "        \"\"\"\n",
        "        Computes the activations of a conv layer by converting to GEMM using teopltiz matrix.\n",
        "\n",
        "        @param x : Inputs.\n",
        "        @return  : Current layer activations.\n",
        "\n",
        "        NOTE     : torch.unfold(...) used to create the teoplitz matrix is not differentiable.\n",
        "                   Hence this can only be used for inference.\n",
        "\n",
        "        \"\"\"\n",
        "\n",
        "        weight_     = self.weight.view((self.out_channels, -1))\n",
        "        num_batches = x.size()[0]\n",
        "        in_channels = self.in_channels\n",
        "        k           = self.kernel_size\n",
        "\n",
        "        teoplitz_full_list = []\n",
        "        big_unfolding = x.unfold(2, k[0], 1).unfold(3, k[1], 1).contiguous().view(num_batches, in_channels, -1, k[0]*k[1]).permute(0, 1, 3, 2)\n",
        "        teoplitz_full = big_unfolding.contiguous().view(num_batches, in_channels*k[0]*k[1], -1).permute(1, 0, 2).contiguous().view(in_channels*k[0]*k[1], -1)\n",
        "        out_size      = np.array([x.size()[-2], x.size()[-1]]) - np.array(k) + np.array([1, 1])\n",
        "        \n",
        "        raw  = weight_ @ teoplitz_full\n",
        "        raw  = raw.view(self.out_channels, num_batches, out_size[0], out_size[1]).permute(1, 0, 2, 3)\n",
        "        bias = self.bias.unsqueeze(dim = -1).unsqueeze(dim = -1).unsqueeze(dim = 0).repeat(num_batches, 1, out_size[0], out_size[1])\n",
        "\n",
        "        return (raw + bias).contiguous()\n",
        "        \n",
        "class ConvNetMine(nn.Module):\n",
        "    \"\"\"\n",
        "    The network is defined as a torch module.\n",
        "\n",
        "    \"\"\"\n",
        "\n",
        "    def __init__(self,\\\n",
        "                 conv_layer_1_filter_size,\\\n",
        "                 conv_layer_2_filter_size,\\\n",
        "                 conv_layer_1_channel_size,\\\n",
        "                 conv_layer_2_channel_size,\\\n",
        "                 layer_3_size):\n",
        "        \n",
        "        \"\"\"\n",
        "        The class constructor.\n",
        "\n",
        "        \"\"\"\n",
        "\n",
        "        super(ConvNetMine, self).__init__()\n",
        "\n",
        "        self.conv_1 = Conv2d(in_channels = 1, out_channels = conv_layer_1_channel_size,  kernel_size = conv_layer_1_filter_size)\n",
        "        self.conv_2 = Conv2d(in_channels = conv_layer_1_channel_size, out_channels = conv_layer_2_channel_size, kernel_size = conv_layer_2_filter_size)\n",
        "        \n",
        "        size = 28\n",
        "        size = size - conv_layer_1_filter_size + 1\n",
        "        size = size - conv_layer_2_filter_size + 1\n",
        "        self.fc_1_input_size = conv_layer_2_channel_size*size*size\n",
        "        self.fc_1   = Dense(self.fc_1_input_size, layer_3_size)\n",
        "        self.fc_2   = Dense(layer_3_size, 10)\n",
        "\n",
        "    def forward(self, x):\n",
        "        \"\"\"\n",
        "        The forward pass of the network.\n",
        "\n",
        "        Layer 1: Convolution 3x3 16 channels with relu\n",
        "        Layer 2: Convolution 3x3 16 channels with relu\n",
        "        Layer 3: Fully connected 100 neurons with relu\n",
        "        Layer 4: Output fully connected layer 10 neurons without activation \n",
        "\n",
        "        @param x : Input tensor of size (BATCH_SIZE, 1, 28, 28)\n",
        "        @return  : Network output tensor of size (BATCH_SIZE, 10)\n",
        "\n",
        "        \"\"\"\n",
        "        x = F.relu(self.conv_1(x))\n",
        "        x = F.relu(self.conv_2(x))\n",
        "        x = x.view(-1,  self.fc_1_input_size)\n",
        "        x = F.relu(self.fc_1(x))\n",
        "        x = self.fc_2(x)\n",
        "        return x\n"
      ],
      "execution_count": 0,
      "outputs": []
    },
    {
      "cell_type": "markdown",
      "metadata": {
        "id": "uIhH4UFea2O3",
        "colab_type": "text"
      },
      "source": [
        "### Other objects and functions"
      ]
    },
    {
      "cell_type": "code",
      "metadata": {
        "id": "R5tMiRdbO2AS",
        "colab_type": "code",
        "colab": {}
      },
      "source": [
        "BATCH_SIZE = 32\n",
        "INITIALIZAION = torch.nn.init.kaiming_uniform_\n",
        "LEARNING_RATE = 0.01\n",
        "MOMENTUM = 0.9\n",
        "LOG_DIR = \"drive/My Drive/SysDL/Assg 3/GEMM\""
      ],
      "execution_count": 0,
      "outputs": []
    },
    {
      "cell_type": "code",
      "metadata": {
        "id": "dt4wDcKhTwrK",
        "colab_type": "code",
        "colab": {}
      },
      "source": [
        "class NormalizeTransform:\n",
        "    \"\"\"\n",
        "    A torch transform class that normalises the dataset\n",
        "\n",
        "    \"\"\"\n",
        "    \n",
        "    def __init__(self, mean = 0.5, var = 0.5):\n",
        "        \"\"\"\n",
        "        The class constructor\n",
        "\n",
        "        @param mean : mean of the output dataset\n",
        "        @param var  : variance of the output datset\n",
        "\n",
        "        \"\"\"\n",
        "\n",
        "        self.mean = mean\n",
        "        self.var  = var\n",
        "    \n",
        "    def __call__(self, x):\n",
        "        \"\"\"\n",
        "        This function is called when the object is called.\n",
        "\n",
        "        @param x : input datset\n",
        "        @returns : normalized dataset\n",
        "\n",
        "        \"\"\"\n",
        "\n",
        "        return (x-self.mean)/(self.var)\n",
        "\n",
        "\n",
        "def imshow(image):\n",
        "    \"\"\"\n",
        "    A function to print images of size 28x28 from the dataset\n",
        "\n",
        "    @param image: input torch tensor representing the image\n",
        "\n",
        "    \"\"\"\n",
        "\n",
        "    npimg = image.numpy()\n",
        "    plt.imshow(np.resize(npimg, (28, 28)), cmap = 'gray')\n",
        "    plt.show()\n",
        "\n",
        "def progress(value, max=100):\n",
        "    \"\"\"\n",
        "    Progress bar\n",
        "\n",
        "    \"\"\"\n",
        "    return HTML(\"\"\"\n",
        "        <progress\n",
        "            value='{value}'\n",
        "            max='{max}',\n",
        "            style='width: 100%'\n",
        "        >\n",
        "            {value}\n",
        "        </progress>\n",
        "    \"\"\".format(value = value, max = max))\n",
        "\n",
        "class ConvNet(nn.Module):\n",
        "    \"\"\"\n",
        "    The network is defined as a torch module.\n",
        "\n",
        "    \"\"\"\n",
        "\n",
        "    def __init__(self,\\\n",
        "                 conv_layer_1_filter_size,\\\n",
        "                 conv_layer_2_filter_size,\\\n",
        "                 conv_layer_1_channel_size,\\\n",
        "                 conv_layer_2_channel_size,\\\n",
        "                 layer_3_size):\n",
        "        \n",
        "        \"\"\"\n",
        "        The class constructor.\n",
        "\n",
        "        \"\"\"\n",
        "\n",
        "        super(ConvNet, self).__init__()\n",
        "\n",
        "        self.conv_1 = nn.Conv2d(in_channels = 1, out_channels = conv_layer_1_channel_size,  kernel_size = conv_layer_1_filter_size)\n",
        "        self.conv_2 = nn.Conv2d(in_channels = conv_layer_1_channel_size, out_channels = conv_layer_2_channel_size, kernel_size = conv_layer_2_filter_size)\n",
        "        \n",
        "        size = 28\n",
        "        size = size - conv_layer_1_filter_size + 1\n",
        "        size = size - conv_layer_2_filter_size + 1\n",
        "        self.fc_1_input_size = conv_layer_2_channel_size*size*size\n",
        "        self.fc_1   = nn.Linear(self.fc_1_input_size, layer_3_size)\n",
        "        self.fc_2   = nn.Linear(layer_3_size, 10)\n",
        "\n",
        "    def forward(self, x):\n",
        "        \"\"\"\n",
        "        The forward pass of the network.\n",
        "\n",
        "        Layer 1: Convolution 3x3 16 channels with relu\n",
        "        Layer 2: Convolution 3x3 16 channels with relu\n",
        "        Layer 3: Fully connected 100 neurons with relu\n",
        "        Layer 4: Output fully connected layer 10 neurons without activation \n",
        "\n",
        "        @param x : Input tensor of size (BATCH_SIZE, 1, 28, 28)\n",
        "        @return  : Network output tensor of size (BATCH_SIZE, 10)\n",
        "\n",
        "        \"\"\"\n",
        "        x = F.relu(self.conv_1(x))\n",
        "        x = F.relu(self.conv_2(x))\n",
        "        x = x.view(-1,  self.fc_1_input_size)\n",
        "        x = F.relu(self.fc_1(x))\n",
        "        x = self.fc_2(x)\n",
        "        return x\n",
        "\n",
        "\n",
        "class initParams:\n",
        "    \"\"\"\n",
        "    An object to initialize the network parameters throgh the method specified\n",
        "\n",
        "    \"\"\"\n",
        "\n",
        "    def __init__(self, method = torch.nn.init.xavier_uniform_):\n",
        "        \"\"\"\n",
        "        The class constructor.\n",
        "\n",
        "        @param method: the torch.nn.init function to be used to initialize the\n",
        "                       network parameters\n",
        "\n",
        "        \"\"\"\n",
        "\n",
        "        self.method = method\n",
        "    \n",
        "    def __call__(self, layer):\n",
        "        \"\"\"\n",
        "        A function to initialize the network parameters. The weights are initialized\n",
        "        with given method (default = Xavier uniform) initialization. The biases are \n",
        "        initialized with zeros.\n",
        "\n",
        "        Usage:\n",
        "            net.apply(init_params)\n",
        "            where net is an nn.Module or nn.Seqential\n",
        "        \n",
        "        @param layer : each layers of the nn.Module/nn.Sequential\n",
        "\n",
        "        \"\"\"\n",
        "\n",
        "        if type(layer) == nn.Linear:\n",
        "            self.method(layer.weight)\n",
        "            layer.bias.data.fill_(0.0)\n",
        "\n",
        "        elif type(layer) == nn.Conv2d:\n",
        "            self.method(layer.weight)\n",
        "            layer.bias.data.fill_(0.0)\n",
        "\n",
        "\n",
        "def accuracy(pred, target):\n",
        "    \"\"\"\n",
        "    A function to calculate accuracy of a prediction.\n",
        "\n",
        "    @param pred   : Network predictions tensor of size (BATCH_SIZE, num outputs)\n",
        "    @param target : Target labels of size (BATCh_SIZE)\n",
        "\n",
        "    Note: @param target is NOT onehot encoded.\n",
        "\n",
        "    @return       : accuracy of the prediction.\n",
        "\n",
        "    \"\"\"\n",
        "\n",
        "    preds    = torch.argmax(pred, dim = -1).detach().cpu().numpy()\n",
        "    target   = target.detach().cpu().numpy()\n",
        "    corrects = np.mean(np.asarray([preds[i] == target[i] for i in range(preds.shape[0])]))\n",
        "    return corrects\n",
        "\n",
        "\n",
        "def test(network, test_loader, criterion, accuracy_fn, device = \"cpu\"):\n",
        "    \"\"\"\n",
        "    This function evaluates a model on the test dataset.\n",
        "\n",
        "    @param network     : Neural network model\n",
        "    @param test_loader : The dataloader object for the test dataset\n",
        "    @param criterion   : The loss function\n",
        "    @param accuracy_fn : The accuracy function\n",
        "\n",
        "    @return test_loss, test_accuracy \n",
        "\n",
        "    \"\"\"\n",
        "\n",
        "    loss     = 0.0\n",
        "    accuracy = 0.0\n",
        "    batches  = 0\n",
        "\n",
        "    for i, data in enumerate(test_loader):\n",
        "        inputs, labels = data\n",
        "        if device == \"cuda\":\n",
        "            inputs = inputs.to(\"cuda\")\n",
        "            labels = labels.to(\"cuda\")\n",
        "\n",
        "        outputs        = network(inputs)\n",
        "\n",
        "        loss     += criterion(outputs, labels)\n",
        "        accuracy += accuracy_fn(outputs, labels)\n",
        "        batches   = i + 1\n",
        "    \n",
        "    return (loss/batches).item(), (accuracy/batches).item()\n",
        "\n",
        "def train_and_evaluate(network, criterion, optimizer, train_dataloader, test_dataloader, train_till = 90, verbose = True):\n",
        "    \"\"\"\n",
        "    A function which trains the given network till the training accuracy reaches\n",
        "    the specified value, on the given dataset, using the specified loss function\n",
        "    and using the given optimzer.\n",
        "\n",
        "    @param network          : Torch nn.Module or nn.Sequential network object\n",
        "    @param criterion        : The loss function\n",
        "    @param optimizer        : The optimizer object\n",
        "    @param train_dataloader : The dataloader object of the training dataset\n",
        "    @param test_dataloader  : The dataloader object of the test dataset\n",
        "    @param train_till       : The training accuracy till which the network has \n",
        "                              to be trained\n",
        "    @return t_acc           : Test accuracy on training till training accuracy \n",
        "                              becomes the specified value\n",
        "    @return training_time   : Time required to reach the specified training \n",
        "                              accuracy\n",
        "\n",
        "    \"\"\"\n",
        "    done = False\n",
        "\n",
        "    start_time = time.time()\n",
        "    while not done:\n",
        "\n",
        "        running_loss     = 0.0\n",
        "        running_accuracy = 0.0\n",
        "\n",
        "        for i, data in enumerate(train_dataloader):\n",
        "            if not done:\n",
        "                inputs, labels = data\n",
        "                optimizer.zero_grad()\n",
        "\n",
        "                outputs = net(inputs)\n",
        "                loss    = criterion(outputs, labels)\n",
        "\n",
        "                loss.backward()\n",
        "                optimizer.step()\n",
        "\n",
        "                running_loss     += loss.item()\n",
        "                running_accuracy += accuracy(outputs, labels)\n",
        "\n",
        "                PRINT_EVERY = 256\n",
        "                if i % PRINT_EVERY == PRINT_EVERY - 1:    \n",
        "                    if verbose:\n",
        "                        \n",
        "                        \n",
        "                        t_loss, t_acc = test(network, test_dataloader, criterion, accuracy)\n",
        "                        print('[BATCH: %5d]\\t Loss: %.3f\\t Accuracy: %.3f %%\\t Test Loss: %f\\t Test Accuracy: %f %%' %\n",
        "                            (i + 1, running_loss / PRINT_EVERY, running_accuracy*100 / PRINT_EVERY, t_loss, t_acc*100))\n",
        "\n",
        "                    done             = running_accuracy*100/PRINT_EVERY > train_till\n",
        "                    running_accuracy = 0.0\n",
        "                    running_loss     = 0.0\n",
        "\n",
        "    return t_acc, time.time() - start_time\n",
        "\n",
        "def log(model_id, t_acc, log_dir = LOG_DIR):\n",
        "    \"\"\"\n",
        "    A logging function\n",
        "\n",
        "    \"\"\"\n",
        "\n",
        "    fp = open(log_dir + \"logs.log\", 'a')\n",
        "    logs = \"[MODEL ID: \" + str(model_id) + \"] \" + \"Test Accuracy: \" + str(t_acc) +\"\\n\"\n",
        "    fp.write(logs)\n",
        "    fp.close()\n",
        "\n",
        "def train(network, criterion, optimizer, epochs, train_dataloader):\n",
        "    \"\"\"\n",
        "    A handy function for training\n",
        "\n",
        "    @param network              : The network nn.Module model for training\n",
        "    @param criterion            : The loss function\n",
        "    @param optimizer            : The optimizer\n",
        "    @param epochs               : Number of epochs to train\n",
        "    @param train_dataloader     : The train dataloader\n",
        "    @return trained network\n",
        "\n",
        "    \"\"\"\n",
        "\n",
        "    for epoch in range(epochs):\n",
        "        total = 60000\n",
        "        print(\"Epoch : %d\" %(epoch + 1))\n",
        "        out   = display(progress(0, 60000), display_id=True)\n",
        "\n",
        "        running_loss     = 0.0\n",
        "        running_accuracy = 0.0\n",
        "\n",
        "        \n",
        "        \n",
        "        for i, data in enumerate(train_dataloader):\n",
        "            inputs, labels = data\n",
        "            optimizer.zero_grad()\n",
        "\n",
        "            outputs = network(inputs)\n",
        "            loss    = criterion(outputs, labels)\n",
        "\n",
        "            \n",
        "\n",
        "            loss.backward()\n",
        "            optimizer.step()\n",
        "\n",
        "            running_loss += loss.item()\n",
        "            running_accuracy += accuracy(outputs, labels)\n",
        "            PRINT_EVERY = 256\n",
        "\n",
        "            if i % PRINT_EVERY == PRINT_EVERY - 1:\n",
        "                batch_size       = labels.numpy().shape[0]\n",
        "                running_accuracy = 0.0\n",
        "                running_loss     = 0.0\n",
        "                out.update(progress(i*batch_size, 60000))\n",
        "        out.update(progress(1, 1))\n",
        "        _, new_acc = test(network, test_dataloader, criterion, accuracy)\n",
        "    return network\n"
      ],
      "execution_count": 0,
      "outputs": []
    },
    {
      "cell_type": "markdown",
      "metadata": {
        "id": "HscM-YztbSy9",
        "colab_type": "text"
      },
      "source": [
        "### Setup dataloaders"
      ]
    },
    {
      "cell_type": "code",
      "metadata": {
        "id": "nNhvmFjpywMa",
        "colab_type": "code",
        "outputId": "e456a46e-750f-4e96-f0c8-70dfa9cb42c9",
        "colab": {
          "base_uri": "https://localhost:8080/",
          "height": 369,
          "referenced_widgets": [
            "00c22a81722a4b67b55eba75f1ebb47e",
            "7285044550f94c22ac08c6fe6cd02129",
            "6b416abcd9af41b583b0db480ad4f0eb",
            "4cb3540071e14334b293e8abfc743c83",
            "1fde94bb07a74c5b80459aedac5b4b61",
            "fb3cb8520e9445f59dd397078948797e",
            "c079737b02fd409e8d5225c37b0ac7f9",
            "e3999db461794ddeabdfad149f18e2c3",
            "84b38b794348495da6da0c5ee9a881e5",
            "7c0d3d612cd1486f9429d8c4f8037ec9",
            "54770ee644c64520b07ad662deaa188f",
            "f9f66466fe88464fa6d4e580dcba7e7d",
            "718d8e2526674df4b113196b68298415",
            "65f096c0e24d414c9fc67ff56a9fc4a3",
            "c8a0b1d4a35144b1a0a76099e15104be",
            "0d19fc71725b4d6284679b1e921ae64e",
            "d2e169ebbf3a44e6acad980d6e4be2f4",
            "bb97fef77a3a493db9e6f11201c60b48",
            "350b8007209b4fd0988ef2fd15fcc5c4",
            "9c7cd06e0e324e3f9f3b87fddf4cc4fe",
            "839a194639944c13b43d770e156547a8",
            "f4414dd93af146c1b8c5bf6733343a62",
            "df1b8cdab413499093262f3b1940b1dd",
            "60f0230c26af4999a7c8a390eed9cedb",
            "73aa7b34fce8449f853ad360a254e661",
            "577faba5085b479392625e6ae69f409a",
            "b13f359786f7440e975aaf7c834f4d33",
            "20d4de817c324d62afa09df2dca7d136",
            "c0f262d2bdba453d9629d8b998155e31",
            "5fef7fe271f040efb768f97c2d67eae7",
            "1545fe37fa8c4c9f89eb7ebf7b73f21d",
            "dd2a8360ddb4456ebe4f6b58d1025bd4"
          ]
        }
      },
      "source": [
        "transform = transforms.Compose([transforms.ToTensor(), NormalizeTransform()])\n",
        "\n",
        "train_dataset = torchvision.datasets.FashionMNIST(train = True,\n",
        "                                  root = '.',\n",
        "                                  download = True,\n",
        "                                  transform = transform)\n",
        "\n",
        "test_dataset = torchvision.datasets.FashionMNIST(train = False,\n",
        "                                  root = '.',\n",
        "                                  download = True, \n",
        "                                  transform = transform)\n",
        "\n",
        "train_dataloader = torch.utils.data.DataLoader(train_dataset, batch_size = BATCH_SIZE, shuffle = True, num_workers = 0)\n",
        "test_dataloader  = torch.utils.data.DataLoader(test_dataset, batch_size = BATCH_SIZE, shuffle = False, num_workers = 0)"
      ],
      "execution_count": 0,
      "outputs": [
        {
          "output_type": "stream",
          "text": [
            "Downloading http://fashion-mnist.s3-website.eu-central-1.amazonaws.com/train-images-idx3-ubyte.gz to ./FashionMNIST/raw/train-images-idx3-ubyte.gz\n"
          ],
          "name": "stdout"
        },
        {
          "output_type": "display_data",
          "data": {
            "application/vnd.jupyter.widget-view+json": {
              "model_id": "00c22a81722a4b67b55eba75f1ebb47e",
              "version_minor": 0,
              "version_major": 2
            },
            "text/plain": [
              "HBox(children=(FloatProgress(value=1.0, bar_style='info', max=1.0), HTML(value='')))"
            ]
          },
          "metadata": {
            "tags": []
          }
        },
        {
          "output_type": "stream",
          "text": [
            "Extracting ./FashionMNIST/raw/train-images-idx3-ubyte.gz to ./FashionMNIST/raw\n",
            "Downloading http://fashion-mnist.s3-website.eu-central-1.amazonaws.com/train-labels-idx1-ubyte.gz to ./FashionMNIST/raw/train-labels-idx1-ubyte.gz\n",
            "\n"
          ],
          "name": "stdout"
        },
        {
          "output_type": "display_data",
          "data": {
            "application/vnd.jupyter.widget-view+json": {
              "model_id": "84b38b794348495da6da0c5ee9a881e5",
              "version_minor": 0,
              "version_major": 2
            },
            "text/plain": [
              "HBox(children=(FloatProgress(value=1.0, bar_style='info', max=1.0), HTML(value='')))"
            ]
          },
          "metadata": {
            "tags": []
          }
        },
        {
          "output_type": "stream",
          "text": [
            "Extracting ./FashionMNIST/raw/train-labels-idx1-ubyte.gz to ./FashionMNIST/raw\n",
            "Downloading http://fashion-mnist.s3-website.eu-central-1.amazonaws.com/t10k-images-idx3-ubyte.gz to ./FashionMNIST/raw/t10k-images-idx3-ubyte.gz\n"
          ],
          "name": "stdout"
        },
        {
          "output_type": "display_data",
          "data": {
            "application/vnd.jupyter.widget-view+json": {
              "model_id": "d2e169ebbf3a44e6acad980d6e4be2f4",
              "version_minor": 0,
              "version_major": 2
            },
            "text/plain": [
              "HBox(children=(FloatProgress(value=1.0, bar_style='info', max=1.0), HTML(value='')))"
            ]
          },
          "metadata": {
            "tags": []
          }
        },
        {
          "output_type": "stream",
          "text": [
            "Extracting ./FashionMNIST/raw/t10k-images-idx3-ubyte.gz to ./FashionMNIST/raw\n",
            "Downloading http://fashion-mnist.s3-website.eu-central-1.amazonaws.com/t10k-labels-idx1-ubyte.gz to ./FashionMNIST/raw/t10k-labels-idx1-ubyte.gz\n"
          ],
          "name": "stdout"
        },
        {
          "output_type": "display_data",
          "data": {
            "application/vnd.jupyter.widget-view+json": {
              "model_id": "73aa7b34fce8449f853ad360a254e661",
              "version_minor": 0,
              "version_major": 2
            },
            "text/plain": [
              "HBox(children=(FloatProgress(value=1.0, bar_style='info', max=1.0), HTML(value='')))"
            ]
          },
          "metadata": {
            "tags": []
          }
        },
        {
          "output_type": "stream",
          "text": [
            "Extracting ./FashionMNIST/raw/t10k-labels-idx1-ubyte.gz to ./FashionMNIST/raw\n",
            "Processing...\n",
            "Done!\n"
          ],
          "name": "stdout"
        },
        {
          "output_type": "stream",
          "text": [
            "/pytorch/torch/csrc/utils/tensor_numpy.cpp:141: UserWarning: The given NumPy array is not writeable, and PyTorch does not support non-writeable tensors. This means you can write to the underlying (supposedly non-writeable) NumPy array using the tensor. You may want to copy the array to protect its data or make it writeable before converting it to a tensor. This type of warning will be suppressed for the rest of this program.\n"
          ],
          "name": "stderr"
        }
      ]
    },
    {
      "cell_type": "markdown",
      "metadata": {
        "id": "pMn8nQe0lU9r",
        "colab_type": "text"
      },
      "source": [
        "### Train the choosen model or download the parameters"
      ]
    },
    {
      "cell_type": "code",
      "metadata": {
        "id": "2zKAM21Alb9t",
        "colab_type": "code",
        "outputId": "f86270a0-bc8c-4d9e-ff8a-7f284ee2f6dc",
        "colab": {
          "base_uri": "https://localhost:8080/",
          "height": 289
        }
      },
      "source": [
        "!rm -r torch_model.pth\n",
        "!wget https://github.com/Sooryakiran/CS6886_SysDL/raw/master/assignment_3/Step%204/torch_model.pth\n",
        "net = ConvNet(3, 3, 1, 2, 98)\n",
        "net = torch.load(\"torch_model.pth\")"
      ],
      "execution_count": 0,
      "outputs": [
        {
          "output_type": "stream",
          "text": [
            "--2020-05-09 08:43:44--  https://github.com/Sooryakiran/CS6886_SysDL/raw/master/assignment_3/Step%204/torch_model.pth\n",
            "Resolving github.com (github.com)... 13.229.188.59\n",
            "Connecting to github.com (github.com)|13.229.188.59|:443... connected.\n",
            "HTTP request sent, awaiting response... 302 Found\n",
            "Location: https://raw.githubusercontent.com/Sooryakiran/CS6886_SysDL/master/assignment_3/Step%204/torch_model.pth [following]\n",
            "--2020-05-09 08:43:45--  https://raw.githubusercontent.com/Sooryakiran/CS6886_SysDL/master/assignment_3/Step%204/torch_model.pth\n",
            "Resolving raw.githubusercontent.com (raw.githubusercontent.com)... 151.101.0.133, 151.101.64.133, 151.101.128.133, ...\n",
            "Connecting to raw.githubusercontent.com (raw.githubusercontent.com)|151.101.0.133|:443... connected.\n",
            "HTTP request sent, awaiting response... 200 OK\n",
            "Length: 467995 (457K) [application/octet-stream]\n",
            "Saving to: ‘torch_model.pth’\n",
            "\n",
            "torch_model.pth     100%[===================>] 457.03K  --.-KB/s    in 0.02s   \n",
            "\n",
            "2020-05-09 08:43:45 (25.0 MB/s) - ‘torch_model.pth’ saved [467995/467995]\n",
            "\n"
          ],
          "name": "stdout"
        }
      ]
    },
    {
      "cell_type": "markdown",
      "metadata": {
        "id": "YHRRouJyno92",
        "colab_type": "text"
      },
      "source": [
        "### Or train again"
      ]
    },
    {
      "cell_type": "code",
      "metadata": {
        "id": "bW2k8v8HzXIt",
        "colab_type": "code",
        "colab": {}
      },
      "source": [
        "net         = ConvNet(3, 3, 1, 2, 98)\n",
        "init_params = initParams(method = INITIALIZAION)\n",
        "net.apply(init_params)\n",
        "\n",
        "criterion = nn.CrossEntropyLoss()\n",
        "optimizer = optim.SGD(net.parameters(), lr = LEARNING_RATE, momentum = MOMENTUM)\n",
        "\n",
        "test_acc, time_ = train_and_evaluate(network = net,\\\n",
        "                                    criterion=criterion,\\\n",
        "                                    optimizer=optimizer,\\\n",
        "                                    train_dataloader = train_dataloader,\\\n",
        "                                    test_dataloader = test_dataloader,\\\n",
        "                                    train_till=90)"
      ],
      "execution_count": 0,
      "outputs": []
    },
    {
      "cell_type": "markdown",
      "metadata": {
        "id": "T_SUoVGcnvsc",
        "colab_type": "text"
      },
      "source": [
        "### Create our ConvNet made without nn.Conv2d and nn.Linear"
      ]
    },
    {
      "cell_type": "code",
      "metadata": {
        "id": "UTLYxmT6djB8",
        "colab_type": "code",
        "colab": {}
      },
      "source": [
        "my_net = ConvNetMine(3, 3, 1, 2, 98)\n",
        "parameters = net.state_dict()\n",
        "my_net.load_state_dict(parameters)\n",
        "\n",
        "criterion = nn.CrossEntropyLoss()"
      ],
      "execution_count": 0,
      "outputs": []
    },
    {
      "cell_type": "code",
      "metadata": {
        "id": "62W2gECahmo_",
        "colab_type": "code",
        "colab": {}
      },
      "source": [
        "summary(my_net, (1, 28, 28))\n",
        "summary(net, (1, 28, 28))"
      ],
      "execution_count": 0,
      "outputs": []
    },
    {
      "cell_type": "markdown",
      "metadata": {
        "id": "JDBXPGALoEOX",
        "colab_type": "text"
      },
      "source": [
        "### Time their network"
      ]
    },
    {
      "cell_type": "code",
      "metadata": {
        "id": "0_kvHSIab97K",
        "colab_type": "code",
        "outputId": "2a6fde2c-d88e-4bce-ad76-a2f7c4580a49",
        "colab": {
          "base_uri": "https://localhost:8080/",
          "height": 34
        }
      },
      "source": [
        "start_time = time.time()\n",
        "test(net, test_dataloader, criterion, accuracy)\n",
        "t = time.time() - start_time\n",
        "print(\"Time :\", t)"
      ],
      "execution_count": 0,
      "outputs": [
        {
          "output_type": "stream",
          "text": [
            "Time : 1.2817320823669434\n"
          ],
          "name": "stdout"
        }
      ]
    },
    {
      "cell_type": "markdown",
      "metadata": {
        "id": "Qv0y5J4roG9D",
        "colab_type": "text"
      },
      "source": [
        "### Time our network"
      ]
    },
    {
      "cell_type": "code",
      "metadata": {
        "id": "O8RcYck5cvxD",
        "colab_type": "code",
        "outputId": "6171d0c9-c733-43ce-dcec-0d218d5282e6",
        "colab": {
          "base_uri": "https://localhost:8080/",
          "height": 34
        }
      },
      "source": [
        "start_time = time.time()\n",
        "test(my_net, test_dataloader, criterion, accuracy)\n",
        "t_2 = time.time() - start_time\n",
        "print(\"Time:\", t_2)"
      ],
      "execution_count": 0,
      "outputs": [
        {
          "output_type": "stream",
          "text": [
            "Time: 2.496305465698242\n"
          ],
          "name": "stdout"
        }
      ]
    },
    {
      "cell_type": "code",
      "metadata": {
        "id": "chQtHlLAnjwM",
        "colab_type": "code",
        "outputId": "ce80c8c3-3129-4402-e46a-12565713391b",
        "colab": {
          "base_uri": "https://localhost:8080/",
          "height": 34
        }
      },
      "source": [
        "print(\"Increase :\", 100*(t_2 - t)/t, \"%\")"
      ],
      "execution_count": 0,
      "outputs": [
        {
          "output_type": "stream",
          "text": [
            "Increase : 94.76031692117559 %\n"
          ],
          "name": "stdout"
        }
      ]
    },
    {
      "cell_type": "markdown",
      "metadata": {
        "id": "9WZddwSGlt-W",
        "colab_type": "text"
      },
      "source": [
        "### CUDA"
      ]
    },
    {
      "cell_type": "code",
      "metadata": {
        "id": "a-3w_M7roTdH",
        "colab_type": "code",
        "colab": {}
      },
      "source": [
        "net2 = net.to(\"cuda\")\n",
        "my_net2 = my_net.to(\"cuda\")"
      ],
      "execution_count": 0,
      "outputs": []
    },
    {
      "cell_type": "code",
      "metadata": {
        "id": "rnJzkfc5la-V",
        "colab_type": "code",
        "outputId": "68afe86d-a643-4489-faa0-82e08c710264",
        "colab": {
          "base_uri": "https://localhost:8080/",
          "height": 34
        }
      },
      "source": [
        "start_time = time.time()\n",
        "test(net2, test_dataloader, criterion, accuracy, device = \"cuda\")\n",
        "t = time.time() - start_time\n",
        "print(\"Time :\", t)"
      ],
      "execution_count": 0,
      "outputs": [
        {
          "output_type": "stream",
          "text": [
            "Time : 1.0231051445007324\n"
          ],
          "name": "stdout"
        }
      ]
    },
    {
      "cell_type": "code",
      "metadata": {
        "id": "YFUvUseMlkYk",
        "colab_type": "code",
        "outputId": "8b3ded34-4fd6-4099-9674-7d93a10eb57e",
        "colab": {
          "base_uri": "https://localhost:8080/",
          "height": 34
        }
      },
      "source": [
        "start_time = time.time()\n",
        "test(my_net2, test_dataloader, criterion, accuracy, device = \"cuda\")\n",
        "t = time.time() - start_time\n",
        "print(\"Time :\", t)"
      ],
      "execution_count": 0,
      "outputs": [
        {
          "output_type": "stream",
          "text": [
            "Time : 1.2119534015655518\n"
          ],
          "name": "stdout"
        }
      ]
    },
    {
      "cell_type": "code",
      "metadata": {
        "id": "vZeA44mpnZQ7",
        "colab_type": "code",
        "colab": {}
      },
      "source": [
        ""
      ],
      "execution_count": 0,
      "outputs": []
    }
  ]
}