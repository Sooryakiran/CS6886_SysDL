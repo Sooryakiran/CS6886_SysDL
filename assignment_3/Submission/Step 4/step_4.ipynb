{
  "nbformat": 4,
  "nbformat_minor": 0,
  "metadata": {
    "colab": {
      "name": "step_4.ipynb",
      "provenance": [],
      "collapsed_sections": [],
      "mount_file_id": "1iEHmZ7iCRylqC42KDJFMBvhCigDtl4Dn",
      "authorship_tag": "ABX9TyM2/gDHZTec0PUdoMUukl3t",
      "include_colab_link": true
    },
    "kernelspec": {
      "name": "python3",
      "display_name": "Python 3"
    }
  },
  "cells": [
    {
      "cell_type": "markdown",
      "metadata": {
        "id": "view-in-github",
        "colab_type": "text"
      },
      "source": [
        "<a href=\"https://colab.research.google.com/github/Sooryakiran/CS6886_SysDL/blob/master/assignment_3/Submission/Step%204/step_4.ipynb\" target=\"_parent\"><img src=\"https://colab.research.google.com/assets/colab-badge.svg\" alt=\"Open In Colab\"/></a>"
      ]
    },
    {
      "cell_type": "markdown",
      "metadata": {
        "id": "25NdVWrnIrSb",
        "colab_type": "text"
      },
      "source": [
        "# Analysing FLOPS"
      ]
    },
    {
      "cell_type": "code",
      "metadata": {
        "id": "4bkPv8ChINXV",
        "colab_type": "code",
        "colab": {}
      },
      "source": [
        "import torch\n",
        "import torch.nn as nn\n",
        "import torch.nn.functional as F\n",
        "import torch.optim as optim\n",
        "import torchvision\n",
        "import torchvision.transforms as transforms\n",
        "import numpy as np\n",
        "import matplotlib as mpl\n",
        "import matplotlib.pyplot as plt\n",
        "import time"
      ],
      "execution_count": 0,
      "outputs": []
    },
    {
      "cell_type": "markdown",
      "metadata": {
        "id": "Ub8AdvtOInzw",
        "colab_type": "text"
      },
      "source": [
        "### Test if drive is mounted"
      ]
    },
    {
      "cell_type": "code",
      "metadata": {
        "id": "VboF6qfmIS86",
        "colab_type": "code",
        "outputId": "a31426fe-91f4-4bc5-d437-a98ffc3b3be2",
        "colab": {
          "base_uri": "https://localhost:8080/",
          "height": 52
        }
      },
      "source": [
        "!cd 'drive/My Drive/SysDL/Assg 3/' && ls"
      ],
      "execution_count": 0,
      "outputs": [
        {
          "output_type": "stream",
          "text": [
            "mlruns\t  pruning_mlflow  step_1.ipynb\tstep_2_pareto_plot.ipynb  step_4.ipynb\n",
            "mlruns_2  pruning_models  step_2.ipynb\tstep_3.ipynb\n"
          ],
          "name": "stdout"
        }
      ]
    },
    {
      "cell_type": "code",
      "metadata": {
        "id": "38ODYNXxInOa",
        "colab_type": "code",
        "colab": {}
      },
      "source": [
        "class Flops:\n",
        "    \"\"\"\n",
        "    A simple class to calculate the FLOPs of a network.\n",
        "\n",
        "    \"\"\"\n",
        "    def __init__(self):\n",
        "        \"\"\"\n",
        "        The class constructor\n",
        "\n",
        "        \"\"\"\n",
        "        pass\n",
        "\n",
        "\n",
        "    def addition(self, n):\n",
        "        \"\"\"\n",
        "        Flops in a vector addiction of size n.\n",
        "\n",
        "        @param n : Size of vector.\n",
        "        @return  : Flops\n",
        "\n",
        "        \"\"\"\n",
        "\n",
        "        return n-1\n",
        "    \n",
        "\n",
        "    def mul_elementwise(self, n):\n",
        "        \"\"\"\n",
        "        Flops in a vector elementwise multiplication of size n.\n",
        "\n",
        "        @param n : Size of vector.\n",
        "        @return  : Flops\n",
        "        \n",
        "        \"\"\"\n",
        "        return n\n",
        "    \n",
        "\n",
        "    def activation(self, n, activation):\n",
        "        \"\"\"\n",
        "        Flops in a vectorized activation operatino\n",
        "\n",
        "        @param n          : Size of vector.\n",
        "        @param activation : A string object denoting the type of activation function\n",
        "        @return           : Flops\n",
        "        \n",
        "        \"\"\"\n",
        "\n",
        "        if activation == \"relu\":\n",
        "            return n\n",
        "        else:\n",
        "            raise ValueError(\"Unknow activation or method not implimented\")\n",
        "\n",
        "\n",
        "    def vec_mat_mul(self, n, m):\n",
        "        \"\"\"\n",
        "        Flops in a vector matrix multiplication\n",
        "\n",
        "        @param n : Size of vector.\n",
        "        @param m : Dimension 2 of matrix of dimentions [n x m]\n",
        "        @return  : Flops\n",
        "        \n",
        "        \"\"\"\n",
        "\n",
        "        return (2*n-1)*m\n",
        "\n",
        "\n",
        "    def dense(self, inputs, outputs, activation = \"relu\"):\n",
        "        \"\"\"\n",
        "        Flops in a fully connected layer.\n",
        "\n",
        "        @param inputs  : Size of input layer\n",
        "        @param outputs : Size of current layer\n",
        "        @return        : Flops\n",
        "        \n",
        "        \"\"\"\n",
        "\n",
        "        return self.vec_mat_mul(inputs, outputs) +\\\n",
        "               self.activation(outputs, \"relu\")\n",
        "    \n",
        "\n",
        "    def conv_output_size(self,\\\n",
        "                         input_size,\\\n",
        "                         kernel_size,\\\n",
        "                         filters,\\\n",
        "                         padding = 0,\\\n",
        "                         strides = 1):\n",
        "        \"\"\"\n",
        "        Output dimension of a conv layer.\n",
        "\n",
        "        @param input_size  : A list depicting input sizes in [N, C, H, W] format.\n",
        "        @param kernel_size : Int, size of the conv. kernel.\n",
        "        @param filters     : Number of conv. filters.\n",
        "        @param padding     : Padding size in conv. if any.\n",
        "        @param strides     : The stride value.\n",
        "        @return            : Int, total number of elements in the output.\n",
        "\n",
        "        \"\"\"\n",
        "        \n",
        "        return filters * ((input_size[1] - kernel_size + 2*padding)/strides + 1) * \\\n",
        "                         ((input_size[2] - kernel_size + 2*padding)/strides + 1)\n",
        "\n",
        "    def conv(self,\\\n",
        "             input_size,\\\n",
        "             kernel_size,\\\n",
        "             filters,\\\n",
        "             padding = 0,\\\n",
        "             strides = 1,\\\n",
        "             activation = \"relu\"):\n",
        "        \"\"\"\n",
        "        Flops in a convolutional layer.\n",
        "\n",
        "        @param input_size  : A list depicting input sizes in [N, C, H, W] format.\n",
        "        @param kernel_size : Int, size of the conv. kernel.\n",
        "        @param filters     : Number of conv. filters.\n",
        "        @param padding     : Padding size in conv. if any.\n",
        "        @param strides     : The stride value.\n",
        "        @param activation  : A string object denoting the type of activation function.\n",
        "        @return            : Int, total number of elements in the output.\n",
        "\n",
        "        \"\"\"\n",
        "        single_output = self.mul_elementwise(input_size[0]*kernel_size**2) + \\\n",
        "                        self.addition(input_size[0]*kernel_size**2) + \\\n",
        "                        self.activation(1, activation)\n",
        "\n",
        "        output_size   = self.conv_output_size(input_size,\\\n",
        "                                              kernel_size,\\\n",
        "                                              filters,\\\n",
        "                                              padding,\\\n",
        "                                              strides)\n",
        "        \n",
        "        return single_output * output_size\n",
        "    \n",
        "\n",
        "    def network(self, architecture, input_size):\n",
        "        \"\"\"\n",
        "        Flops in a given network if passed with the given inputs.\n",
        "\n",
        "        @param architecture : Python dict depicting the network architecture.\n",
        "                              A sample format is given below:\n",
        "                              {\n",
        "                                  \"name\"   : [\"type : conv/fc\", arg1, arg2]\n",
        "                                  \"name_2\" : [\"conv\", <kernel size>, <filters>]\n",
        "                                  \"name_3\" : [\"fc\",   <no of neurons>]\n",
        "                                  \"conv_1\" : [\"conv\", 3, 8],\n",
        "                                  \"conv_2\" : [\"conv\", 3, 8],\n",
        "                                  \"fc_1\"   : [\"fc\",   100],\n",
        "                                  \"fc_2\"   : [\"fc\",   10]\n",
        "                              }\n",
        "        @param input_size   : A list depicting input sizes in [N, C, H, W] format.\n",
        "        @return flops\n",
        "\n",
        "        \"\"\"\n",
        "        \n",
        "        layers             = list(architecture)\n",
        "        flops              = 0\n",
        "        current_input_size = input_size\n",
        "\n",
        "        for layer in layers:\n",
        "            if architecture[layer][0] == \"conv\":\n",
        "\n",
        "                flops += self.conv(input_size  = current_input_size,\\\n",
        "                                   kernel_size = architecture[layer][1],\\\n",
        "                                   filters     = architecture[layer][2])\n",
        "                \n",
        "                current_input_size = [architecture[layer][2],\\\n",
        "                                      (current_input_size[1] - architecture[layer][1]) + 1,\\\n",
        "                                      (current_input_size[2] - architecture[layer][1]) + 1 ]\n",
        "\n",
        "            elif architecture[layer][0] == \"fc\":\n",
        "                if len(current_input_size) >= 1:\n",
        "                    current_input_size = [np.prod(np.array(current_input_size))]\n",
        "\n",
        "                flops += self.dense(inputs  = np.sum(np.array(current_input_size)),\\\n",
        "                                    outputs = architecture[layer][1])\n",
        "                \n",
        "                current_input_size = [architecture[layer][1]]\n",
        "            else:\n",
        "                raise ValueError(\"Unknown layer %s\" %architecture[layer][0])\n",
        "            if flops < 0:\n",
        "                raise ValueError(\"Invalid input of size\", input_size)\n",
        "        return int(flops)"
      ],
      "execution_count": 0,
      "outputs": []
    },
    {
      "cell_type": "markdown",
      "metadata": {
        "id": "i_aaKK-FXhTe",
        "colab_type": "text"
      },
      "source": [
        "### Test with a sample architecture"
      ]
    },
    {
      "cell_type": "code",
      "metadata": {
        "id": "XiQExEA4LwYi",
        "colab_type": "code",
        "outputId": "e5a48f28-0873-49ab-fd94-361d544db580",
        "colab": {
          "base_uri": "https://localhost:8080/",
          "height": 34
        }
      },
      "source": [
        "architecture = {\"conv_1\" : [\"conv\", 3, 8],\n",
        "                \"conv_2\" : [\"conv\", 3, 8],\n",
        "                \"fc_1\"   : [\"fc\", 100],\n",
        "                \"fc_2\"   : [\"fc\", 10]}\n",
        "flops = Flops()\n",
        "flops.network(architecture, input_size = [1, 28, 28])"
      ],
      "execution_count": 0,
      "outputs": [
        {
          "output_type": "execute_result",
          "data": {
            "text/plain": [
              "1684496"
            ]
          },
          "metadata": {
            "tags": []
          },
          "execution_count": 6
        }
      ]
    },
    {
      "cell_type": "markdown",
      "metadata": {
        "id": "3YR2eppRb3hz",
        "colab_type": "text"
      },
      "source": [
        "### Pareto plots"
      ]
    },
    {
      "cell_type": "code",
      "metadata": {
        "id": "71mhAGRMOUZT",
        "colab_type": "code",
        "outputId": "6970aa9f-eeef-4c94-c4dd-13b27b598ffa",
        "colab": {
          "base_uri": "https://localhost:8080/",
          "height": 225
        }
      },
      "source": [
        "import pandas as pd\n",
        "import json \n",
        "\n",
        "!rm -r runs.csv\n",
        "!wget https://raw.githubusercontent.com/Sooryakiran/CS6886_SysDL/master/assignment_3/Step%203/runs.csv \n",
        "df = pd.read_csv(\"runs.csv\")"
      ],
      "execution_count": 0,
      "outputs": [
        {
          "output_type": "stream",
          "text": [
            "rm: cannot remove 'runs.csv': No such file or directory\n",
            "--2020-05-07 16:40:41--  https://raw.githubusercontent.com/Sooryakiran/CS6886_SysDL/master/assignment_3/Step%203/runs.csv\n",
            "Resolving raw.githubusercontent.com (raw.githubusercontent.com)... 151.101.0.133, 151.101.64.133, 151.101.128.133, ...\n",
            "Connecting to raw.githubusercontent.com (raw.githubusercontent.com)|151.101.0.133|:443... connected.\n",
            "HTTP request sent, awaiting response... 200 OK\n",
            "Length: 1777 (1.7K) [text/plain]\n",
            "Saving to: ‘runs.csv’\n",
            "\n",
            "runs.csv            100%[===================>]   1.74K  --.-KB/s    in 0s      \n",
            "\n",
            "2020-05-07 16:40:42 (29.2 MB/s) - ‘runs.csv’ saved [1777/1777]\n",
            "\n"
          ],
          "name": "stdout"
        }
      ]
    },
    {
      "cell_type": "code",
      "metadata": {
        "id": "e6UkwDjiejFC",
        "colab_type": "code",
        "colab": {}
      },
      "source": [
        "def string_to_dict(string_list):\n",
        "    outputs = []\n",
        "    for arch in string_list:\n",
        "        arch = arch.replace(\"'\", '\"')\n",
        "        res = json.loads(arch)\n",
        "        outputs.append(res)\n",
        "    return outputs\n",
        "\n",
        "def arch_list_to_flop(arch_list, input_size = [1, 28, 28]):\n",
        "    flop_list = []\n",
        "    flops = Flops()\n",
        "    for arch in arch_list:\n",
        "        flop_list.append(flops.network(arch, input_size))\n",
        "    return flop_list"
      ],
      "execution_count": 0,
      "outputs": []
    },
    {
      "cell_type": "code",
      "metadata": {
        "id": "txscBHJjcKke",
        "colab_type": "code",
        "colab": {}
      },
      "source": [
        "accuracy_raw = np.asarray(df[\"Accuracy after training\"])\n",
        "arch_raw = string_to_dict(list(np.asarray(df[\"Channels/Neurons\"])))\n",
        "flop_raw = arch_list_to_flop(arch_raw)"
      ],
      "execution_count": 0,
      "outputs": []
    },
    {
      "cell_type": "markdown",
      "metadata": {
        "id": "qiPaN6FLgC8Z",
        "colab_type": "text"
      },
      "source": [
        "### Plot"
      ]
    },
    {
      "cell_type": "code",
      "metadata": {
        "id": "BMpp0It8cnXL",
        "colab_type": "code",
        "colab": {}
      },
      "source": [
        "raw_data = np.asarray(flop_raw)\n",
        "num_bins = 10\n",
        "minimum  = np.min(raw_data)\n",
        "maximum  = np.max(raw_data)\n",
        "bin_size = (maximum-minimum)/num_bins\n",
        "bins     = [0]*num_bins\n",
        "label    = \"FLOPs\"\n",
        "units    = \"M\"\n",
        "acc_bin  = [0]*num_bins\n",
        "labels   = []\n",
        "\n",
        "for i in range(raw_data.shape[0]):\n",
        "    bin_id = int((raw_data[i] - minimum)/bin_size)\n",
        "\n",
        "    if bin_id == num_bins:\n",
        "        bin_id -= 1\n",
        "\n",
        "    bins[bin_id] += 1\n",
        "    acc_bin[bin_id] = (acc_bin[bin_id]*(bins[bin_id] - 1) + accuracy_raw[i]*100)/bins[bin_id]\n",
        "\n",
        "for i, item in enumerate(bins):\n",
        "    idx       = bins.index(item)\n",
        "    bins[idx] = maximum + 1\n",
        "    min_val   = minimum + idx*bin_size\n",
        "\n",
        "    if i == 0:\n",
        "        min_val = 0\n",
        "\n",
        "    max_val = min_val + bin_size\n",
        "    current_label = label + \" : %0.3f\" %(min_val/1000000) + units + \" - \" + \"%0.3f\" %(max_val/1000000) + units\n",
        "    labels.append(current_label)\n",
        "\n",
        "acc_increase = []\n",
        "\n",
        "for i in range(len(acc_bin)):\n",
        "    if i == 0:\n",
        "        acc_increase.append(acc_bin[i])\n",
        "    else:\n",
        "        acc_increase.append(acc_bin[i]-acc_bin[i-1])"
      ],
      "execution_count": 0,
      "outputs": []
    },
    {
      "cell_type": "code",
      "metadata": {
        "id": "bJ6z3JFHdJEY",
        "colab_type": "code",
        "outputId": "f7d8e354-0ed8-4a14-9fa3-66591c52a957",
        "colab": {
          "base_uri": "https://localhost:8080/",
          "height": 457
        }
      },
      "source": [
        "mpl.style.use('seaborn')\n",
        "item_1  = acc_increase\n",
        "fig, ax = plt.subplots()\n",
        "ind     = np.arange(num_bins)\n",
        "width   = 0.75\n",
        "ax.bar(labels, item_1, color=\"C0\")\n",
        "plt.xticks(rotation = 90)\n",
        "low  = np.min(np.asarray(item_1)) - 0.1\n",
        "high = 2\n",
        "plt.ylim(low, high)\n",
        "ax.set_ylabel('Accuracy increase %')\n",
        "ax.yaxis.label.set_color(\"C0\")\n",
        "ax2 = ax.twinx()\n",
        "ax2.plot(labels, acc_bin, color=\"C1\", marker=\"o\", ms=7)\n",
        "ax2.set_ylabel(\"Accuracy %\")\n",
        "ax2.yaxis.label.set_color(\"C1\")\n",
        "ax2.grid()\n",
        "ax.tick_params(axis=\"y\", colors=\"C0\")\n",
        "ax2.tick_params(axis=\"y\", colors=\"C1\")\n"
      ],
      "execution_count": 0,
      "outputs": [
        {
          "output_type": "display_data",
          "data": {
            "image/png": "[encoded data removed]",
            "text/plain": [
              "<Figure size 576x396 with 2 Axes>"
            ]
          },
          "metadata": {
            "tags": []
          }
        }
      ]
    },
    {
      "cell_type": "code",
      "metadata": {
        "id": "oLPeJmOXgw59",
        "colab_type": "code",
        "outputId": "0f005a7d-bb40-44cc-95d3-a694d3a64383",
        "colab": {
          "base_uri": "https://localhost:8080/",
          "height": 295
        }
      },
      "source": [
        "flop_raw"
      ],
      "execution_count": 0,
      "outputs": [
        {
          "output_type": "execute_result",
          "data": {
            "text/plain": [
              "[258332,\n",
              " 260656,\n",
              " 262980,\n",
              " 265304,\n",
              " 390872,\n",
              " 516440,\n",
              " 642008,\n",
              " 767576,\n",
              " 893144,\n",
              " 1018712,\n",
              " 1113824,\n",
              " 1208936,\n",
              " 1304048,\n",
              " 1399160,\n",
              " 1494272,\n",
              " 1589384]"
            ]
          },
          "metadata": {
            "tags": []
          },
          "execution_count": 13
        }
      ]
    },
    {
      "cell_type": "code",
      "metadata": {
        "id": "1aNPS2btkw6v",
        "colab_type": "code",
        "colab": {}
      },
      "source": [
        ""
      ],
      "execution_count": 0,
      "outputs": []
    }
  ]
}